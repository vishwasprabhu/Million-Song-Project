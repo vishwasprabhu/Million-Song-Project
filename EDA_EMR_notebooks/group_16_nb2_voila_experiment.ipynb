{
 "cells": [
  {
   "cell_type": "markdown",
   "id": "12f1842d",
   "metadata": {},
   "source": [
    "# Note: This notebook only runs on local cluster right now because the EMR cluster doesnt support packages like Voila and wordcloud. We have done this as an exploratory analysis just for experimentation. Hence it is unpotimized. Please dont grade based on this :D"
   ]
  },
  {
   "cell_type": "markdown",
   "id": "0388f1c2",
   "metadata": {},
   "source": [
    "## Use the following instructions to install voila and use it. \n",
    "\n",
    "On your jupyter notebook, run\n",
    "\n",
    "!pip install voila\n",
    "\n",
    "Setup the voila extension to Jupyter notebook using\n",
    "\n",
    "!jupyter serverextension enable --sys-prefix voila\n",
    "\n",
    "Restart the Jupyter notebook. you will be able to find the voila extension on the menu bar. Click on it. It will redirect you to a version of your notebook which only shows markdowns and interactive ipython widgets."
   ]
  },
  {
   "cell_type": "code",
   "execution_count": 1,
   "id": "be9b196e",
   "metadata": {
    "ExecuteTime": {
     "end_time": "2021-12-09T05:59:25.319501Z",
     "start_time": "2021-12-09T05:59:24.484231Z"
    }
   },
   "outputs": [],
   "source": [
    "import pandas as pd\n",
    "import numpy as np\n",
    "import pyspark\n",
    "import os\n",
    "import re\n",
    "import matplotlib.pyplot as plt\n",
    "from IPython.display import display\n",
    "from ipywidgets import widgets, interactive\n",
    "import ipywidgets as widgets\n",
    "%config InlineBackend.figure_format = 'retina'\n",
    "from wordcloud import WordCloud, STOPWORDS, ImageColorGenerator\n",
    "import time\n",
    "import plotly.express as px\n",
    "import warnings\n",
    "warnings.filterwarnings(\"ignore\")\n",
    "\n",
    "\n",
    "t_start = time.time()"
   ]
  },
  {
   "cell_type": "code",
   "execution_count": 2,
   "id": "12e84f47",
   "metadata": {
    "ExecuteTime": {
     "end_time": "2021-12-09T05:59:30.891446Z",
     "start_time": "2021-12-09T05:59:25.320309Z"
    }
   },
   "outputs": [
    {
     "name": "stderr",
     "output_type": "stream",
     "text": [
      "21/12/08 21:59:26 WARN Utils: Your hostname, Ashwanis-MacBook-Air.local resolves to a loopback address: 127.0.0.1; using 10.0.0.202 instead (on interface en0)\n",
      "21/12/08 21:59:26 WARN Utils: Set SPARK_LOCAL_IP if you need to bind to another address\n"
     ]
    },
    {
     "name": "stdout",
     "output_type": "stream",
     "text": [
      ":: loading settings :: url = jar:file:/Users/ashwanirajan/opt/anaconda3/envs/DistComputing/lib/python3.9/site-packages/pyspark/jars/ivy-2.5.0.jar!/org/apache/ivy/core/settings/ivysettings.xml\n"
     ]
    },
    {
     "name": "stderr",
     "output_type": "stream",
     "text": [
      "Ivy Default Cache set to: /Users/ashwanirajan/.ivy2/cache\n",
      "The jars for the packages stored in: /Users/ashwanirajan/.ivy2/jars\n",
      "org.apache.hadoop#hadoop-aws added as a dependency\n",
      ":: resolving dependencies :: org.apache.spark#spark-submit-parent-44fb45fb-5ff0-47d1-847f-130b44974577;1.0\n",
      "\tconfs: [default]\n",
      "\tfound org.apache.hadoop#hadoop-aws;3.3.1 in central\n",
      "\tfound com.amazonaws#aws-java-sdk-bundle;1.11.901 in central\n",
      "\tfound org.wildfly.openssl#wildfly-openssl;1.0.7.Final in central\n",
      ":: resolution report :: resolve 354ms :: artifacts dl 9ms\n",
      "\t:: modules in use:\n",
      "\tcom.amazonaws#aws-java-sdk-bundle;1.11.901 from central in [default]\n",
      "\torg.apache.hadoop#hadoop-aws;3.3.1 from central in [default]\n",
      "\torg.wildfly.openssl#wildfly-openssl;1.0.7.Final from central in [default]\n",
      "\t---------------------------------------------------------------------\n",
      "\t|                  |            modules            ||   artifacts   |\n",
      "\t|       conf       | number| search|dwnlded|evicted|| number|dwnlded|\n",
      "\t---------------------------------------------------------------------\n",
      "\t|      default     |   3   |   0   |   0   |   0   ||   3   |   0   |\n",
      "\t---------------------------------------------------------------------\n",
      ":: retrieving :: org.apache.spark#spark-submit-parent-44fb45fb-5ff0-47d1-847f-130b44974577\n",
      "\tconfs: [default]\n",
      "\t0 artifacts copied, 3 already retrieved (0kB/8ms)\n",
      "21/12/08 21:59:27 WARN NativeCodeLoader: Unable to load native-hadoop library for your platform... using builtin-java classes where applicable\n",
      "Using Spark's default log4j profile: org/apache/spark/log4j-defaults.properties\n",
      "Setting default log level to \"WARN\".\n",
      "To adjust logging level use sc.setLogLevel(newLevel). For SparkR, use setLogLevel(newLevel).\n",
      "21/12/08 21:59:29 WARN Utils: Service 'SparkUI' could not bind on port 4040. Attempting port 4041.\n"
     ]
    }
   ],
   "source": [
    "os.environ['PYSPARK_SUBMIT_ARGS'] = '--packages \"org.apache.hadoop:hadoop-aws:3.3.1\" pyspark-shell'\n",
    "sc = pyspark.SparkContext.getOrCreate()"
   ]
  },
  {
   "cell_type": "code",
   "execution_count": 3,
   "id": "117b90e6",
   "metadata": {
    "ExecuteTime": {
     "end_time": "2021-12-09T05:59:30.897599Z",
     "start_time": "2021-12-09T05:59:30.893161Z"
    }
   },
   "outputs": [],
   "source": [
    "sc._jsc.hadoopConfiguration().set(\"fs.s3.impl\", \"org.apache.hadoop.fs.s3a.S3AFileSystem\")"
   ]
  },
  {
   "cell_type": "code",
   "execution_count": 5,
   "id": "05d57c20",
   "metadata": {
    "ExecuteTime": {
     "end_time": "2021-12-09T05:59:30.908500Z",
     "start_time": "2021-12-09T05:59:30.904757Z"
    }
   },
   "outputs": [],
   "source": [
    "sc._jsc.hadoopConfiguration().set('fs.s3a.access.key', os.environ['AWS_ACCESS_KEY_ID'])"
   ]
  },
  {
   "cell_type": "code",
   "execution_count": 6,
   "id": "45bf752b",
   "metadata": {
    "ExecuteTime": {
     "end_time": "2021-12-09T05:59:30.913353Z",
     "start_time": "2021-12-09T05:59:30.909863Z"
    }
   },
   "outputs": [],
   "source": [
    "sc._jsc.hadoopConfiguration().set('fs.s3a.secret.key', os.environ['AWS_SECRET_ACCESS_KEY'])"
   ]
  },
  {
   "cell_type": "code",
   "execution_count": 7,
   "id": "f1995321",
   "metadata": {
    "ExecuteTime": {
     "end_time": "2021-12-09T05:59:30.916028Z",
     "start_time": "2021-12-09T05:59:30.914196Z"
    }
   },
   "outputs": [],
   "source": [
    "file = 's3://millionsongs-data/new_g4g.csv'"
   ]
  },
  {
   "cell_type": "code",
   "execution_count": 8,
   "id": "4f4ad7e9",
   "metadata": {
    "ExecuteTime": {
     "end_time": "2021-12-09T05:59:30.922998Z",
     "start_time": "2021-12-09T05:59:30.917058Z"
    }
   },
   "outputs": [],
   "source": [
    "conf = (\n",
    " pyspark.SparkConf()\n",
    " .set('spark.driver.memory ','10g')\n",
    " .set('spark.executor.memory ','10g')\n",
    " .setAppName('HW3')\n",
    ")"
   ]
  },
  {
   "cell_type": "code",
   "execution_count": 9,
   "id": "117865e2",
   "metadata": {
    "ExecuteTime": {
     "end_time": "2021-12-09T05:59:30.930115Z",
     "start_time": "2021-12-09T05:59:30.926765Z"
    }
   },
   "outputs": [],
   "source": [
    "sc = pyspark.SparkContext.getOrCreate(conf = conf)\n",
    "sc.setLogLevel(\"ERROR\")"
   ]
  },
  {
   "cell_type": "code",
   "execution_count": 10,
   "id": "ddd65c11",
   "metadata": {
    "ExecuteTime": {
     "end_time": "2021-12-09T05:59:30.934230Z",
     "start_time": "2021-12-09T05:59:30.931073Z"
    }
   },
   "outputs": [],
   "source": [
    "cols = ['get_analysis_sample_rate','get_artist_7digitalid','get_artist_familiarity',\n",
    " 'get_artist_hotttnesss','get_artist_id','get_artist_latitude','get_artist_location',\n",
    "'get_artist_longitude','get_artist_mbid','get_artist_mbtags','get_artist_mbtags_count',\n",
    " 'get_artist_name','get_artist_playmeid','get_artist_terms','get_artist_terms_freq','get_artist_terms_weight',\n",
    " 'get_audio_md5','get_bars_confidence','get_bars_start','get_beats_confidence','get_beats_start','get_danceability',\n",
    " 'get_duration','get_end_of_fade_in','get_energy','get_key','get_key_confidence','get_loudness','get_mode',\n",
    " 'get_mode_confidence','get_num_songs','get_release','get_release_7digitalid','get_sections_confidence',\n",
    " 'get_sections_start','get_segments_confidence','get_segments_loudness_max','get_segments_loudness_max_time',\n",
    " 'get_segments_loudness_start','get_segments_pitches','get_segments_start','get_segments_timbre','get_similar_artists',\n",
    " 'get_song_hotttnesss','get_song_id','get_start_of_fade_out','get_tatums_confidence','get_tatums_start',\n",
    " 'get_tempo','get_time_signature','get_time_signature_confidence','get_title','get_track_7digitalid',\n",
    "'get_track_id','get_year']"
   ]
  },
  {
   "cell_type": "code",
   "execution_count": 11,
   "id": "59a58336",
   "metadata": {
    "ExecuteTime": {
     "end_time": "2021-12-09T05:59:35.799315Z",
     "start_time": "2021-12-09T05:59:30.935560Z"
    }
   },
   "outputs": [
    {
     "name": "stderr",
     "output_type": "stream",
     "text": [
      "                                                                                \r"
     ]
    }
   ],
   "source": [
    "input_rdd = sc.textFile(file)\n",
    "table = input_rdd.map(lambda x: x.split('\\t'))\n",
    "header = table.take(1)\n",
    "table_body = table.filter(lambda x : x != header[0])\n",
    "column_index = {header[0][i]:i for i in range(len(header[0]))}"
   ]
  },
  {
   "cell_type": "code",
   "execution_count": 12,
   "id": "862a9d45",
   "metadata": {
    "ExecuteTime": {
     "end_time": "2021-12-09T06:00:52.315093Z",
     "start_time": "2021-12-09T05:59:35.800369Z"
    }
   },
   "outputs": [
    {
     "name": "stderr",
     "output_type": "stream",
     "text": [
      "                                                                                \r"
     ]
    }
   ],
   "source": [
    "artist_rdd = table_body.filter(lambda x : x[column_index['get_artist_familiarity']]!= '').filter(lambda x : \n",
    "                        x[column_index['get_artist_hotttnesss']]!= '').map(lambda x: \n",
    "                       (x[column_index['get_artist_id']],\n",
    "                        [x[column_index['get_artist_name']],\n",
    "                        float(x[column_index['get_artist_familiarity']]),\n",
    "                        float(x[column_index['get_artist_hotttnesss']]),\n",
    "                        x[column_index['get_artist_mbtags']],\n",
    "                        x[column_index['get_artist_mbtags_count']],\n",
    "                        x[column_index['get_artist_terms']],\n",
    "                        x[column_index['get_artist_terms_freq']],\n",
    "                        x[column_index['get_similar_artists']],\n",
    "                        x[column_index['get_energy']]]))\n",
    "\n",
    "artist_rdd_names = artist_rdd.map(lambda x: (x[1][0], \n",
    "                    x[1][2])).groupByKey().mapValues(\n",
    "    lambda x: sum(x)/len(x)).sortBy(lambda x :x[1], ascending=False)\n",
    "hottest_artists = artist_rdd_names.map(lambda x: [x[0],x[1]]).take(30)\n",
    "hot_artists_df = pd.DataFrame(hottest_artists, columns = ['artist', 'popularity'])\n",
    "hottest_artists_name = [x[0] for x in hottest_artists]"
   ]
  },
  {
   "cell_type": "code",
   "execution_count": 13,
   "id": "5c27e13d",
   "metadata": {
    "ExecuteTime": {
     "end_time": "2021-12-09T06:02:34.049490Z",
     "start_time": "2021-12-09T06:00:52.316049Z"
    }
   },
   "outputs": [
    {
     "name": "stderr",
     "output_type": "stream",
     "text": [
      "                                                                                \r"
     ]
    }
   ],
   "source": [
    "artist_rdd_terms = table_body.map(lambda x: (x[column_index['get_artist_name']], \n",
    "                                             x[column_index['get_artist_terms']] #,\n",
    "                                              #x[column_index['get_artist_terms_freq']\n",
    "                        )).filter(lambda x : x[0] in hottest_artists_name)\n",
    "\n",
    "artist_rdd_term_weights = table_body.map(lambda x: (x[column_index['get_artist_name']], \n",
    "                                             x[column_index['get_artist_terms_freq']]\n",
    "                        )).filter(lambda x : x[0] in hottest_artists_name)\n",
    "\n",
    "artist_rdd_term_weights_float = artist_rdd_term_weights.groupByKey().mapValues(\n",
    "    lambda x: list(x)).map(\n",
    "    lambda x : (x[0], [float(l) for l in x[1][0].replace('[', '').replace(']', '').split()]))\n",
    "\n",
    "artist_rdd_term_weights_float = artist_rdd_term_weights.groupByKey().mapValues(lambda x: list(x)).map(\n",
    "    lambda x : (x[0], [float(l) for l in x[1][0].replace('[', '').replace(']', '').split()]))\n",
    "\n",
    "artist_rdd_terms_frame = artist_rdd_terms.groupByKey().mapValues(lambda x: list(x)).reduceByKey(lambda x,y: x+y).map(\n",
    "    lambda x : (x[0], x[1][0])).mapValues(lambda x :re.findall(r\"'(.*?)'\", x, re.DOTALL))\n",
    "\n",
    "artist_terms_dataset = artist_rdd_terms_frame.join(artist_rdd_term_weights_float)\n",
    "df_artist = dict(artist_terms_dataset.collect())"
   ]
  },
  {
   "cell_type": "code",
   "execution_count": 14,
   "id": "7bc3e29f",
   "metadata": {
    "ExecuteTime": {
     "end_time": "2021-12-09T06:02:34.057892Z",
     "start_time": "2021-12-09T06:02:34.050575Z"
    }
   },
   "outputs": [],
   "source": [
    "df_artist_terms_dict = {key: {df_artist[key][0][i]: df_artist[key][1][i] for i in \n",
    "                              range(len(df_artist[key][1]))} for key in df_artist}"
   ]
  },
  {
   "cell_type": "code",
   "execution_count": 15,
   "id": "d0050508",
   "metadata": {
    "ExecuteTime": {
     "end_time": "2021-12-09T06:03:23.415951Z",
     "start_time": "2021-12-09T06:02:34.058923Z"
    }
   },
   "outputs": [
    {
     "name": "stderr",
     "output_type": "stream",
     "text": [
      "                                                                                \r"
     ]
    }
   ],
   "source": [
    "similar_artists = table_body.map(lambda x: (x[column_index['get_artist_id']],\n",
    "                          [x[column_index['get_artist_name']], \n",
    "                           x[column_index['get_similar_artists']]]))\n",
    "\n",
    "artists = similar_artists.map(lambda x :(x[0], x[1][0]))\n",
    "ArtistDict = artists.collectAsMap()"
   ]
  },
  {
   "cell_type": "code",
   "execution_count": 16,
   "id": "6dcf3ef0",
   "metadata": {
    "ExecuteTime": {
     "end_time": "2021-12-09T06:03:23.419583Z",
     "start_time": "2021-12-09T06:03:23.416936Z"
    }
   },
   "outputs": [],
   "source": [
    "def get_list_of_artists(str_lst):\n",
    "    str_lst = str_lst.replace('[', '').replace(']', '').replace(\"'\", \"\")\n",
    "    ids = str_lst.split()\n",
    "    id_names = []\n",
    "    for i in ids:\n",
    "        if i in ArtistDict:\n",
    "            id_names.append(ArtistDict[i])\n",
    "    return id_names"
   ]
  },
  {
   "cell_type": "code",
   "execution_count": 17,
   "id": "753b3e48",
   "metadata": {
    "ExecuteTime": {
     "end_time": "2021-12-09T06:04:25.201002Z",
     "start_time": "2021-12-09T06:03:23.420420Z"
    }
   },
   "outputs": [
    {
     "name": "stderr",
     "output_type": "stream",
     "text": [
      "                                                                                \r"
     ]
    }
   ],
   "source": [
    "similar_artists_names = similar_artists.map(lambda x: (x[1][0], get_list_of_artists(x[1][1])))\n",
    "SimilarArtistDict = similar_artists_names.collectAsMap()"
   ]
  },
  {
   "cell_type": "markdown",
   "id": "8120071e",
   "metadata": {
    "ExecuteTime": {
     "end_time": "2021-12-08T05:21:36.973030Z",
     "start_time": "2021-12-08T05:21:36.970196Z"
    }
   },
   "source": [
    "## Related Tags and Similar Artists"
   ]
  },
  {
   "cell_type": "code",
   "execution_count": 18,
   "id": "ebc00373",
   "metadata": {
    "ExecuteTime": {
     "end_time": "2021-12-09T06:04:25.205129Z",
     "start_time": "2021-12-09T06:04:25.201931Z"
    }
   },
   "outputs": [],
   "source": [
    "\n",
    "def wordcloud_fn(artist_name):\n",
    "    fig = plt.figure(figsize=(10, 20))\n",
    "    wordcloud = WordCloud(width=1800,\n",
    "                          height=1400,\n",
    "                          background_color=\"white\",\n",
    "                          max_words=1000,\n",
    "                          random_state=1,\n",
    "                          relative_scaling=0.25)\n",
    "\n",
    "    wordcloud.fit_words(df_artist_terms_dict[artist_name])\n",
    "\n",
    "    plt.imshow(wordcloud)\n",
    "    plt.axis(\"off\")\n",
    "    plt.show()\n",
    "    \n",
    "    print(f'Similar Artists to {artist_name}: ')\n",
    "    print()\n",
    "    for i in range(10):\n",
    "        print(SimilarArtistDict[artist_name][i])"
   ]
  },
  {
   "cell_type": "code",
   "execution_count": 19,
   "id": "abf42fbb",
   "metadata": {
    "ExecuteTime": {
     "end_time": "2021-12-09T06:04:25.214465Z",
     "start_time": "2021-12-09T06:04:25.206289Z"
    }
   },
   "outputs": [],
   "source": [
    "dropdown = widgets.Dropdown(\n",
    "    options=list(df_artist_terms_dict.keys()),\n",
    "    value='Coldplay',\n",
    "    description='Number:',\n",
    "    disabled=False,\n",
    ")"
   ]
  },
  {
   "cell_type": "code",
   "execution_count": 20,
   "id": "a6845a7e",
   "metadata": {
    "ExecuteTime": {
     "end_time": "2021-12-09T06:04:25.221233Z",
     "start_time": "2021-12-09T06:04:25.215284Z"
    }
   },
   "outputs": [],
   "source": [
    "# Initiating Button to generate Population distribution and plot it.\n",
    "button_pop = widgets.Button(\n",
    "    description='Get Wordcloud and Similar Artists',\n",
    "    disabled=False,\n",
    "    button_style='info',\n",
    "    tooltip='Click me',\n",
    "    layout=widgets.Layout(width='30%', height='50px')\n",
    ")"
   ]
  },
  {
   "cell_type": "code",
   "execution_count": 21,
   "id": "5a7a867b",
   "metadata": {
    "ExecuteTime": {
     "end_time": "2021-12-09T06:04:25.225652Z",
     "start_time": "2021-12-09T06:04:25.222154Z"
    }
   },
   "outputs": [
    {
     "data": {
      "application/vnd.jupyter.widget-view+json": {
       "model_id": "f7c79c15d00c4e53905eea450729419e",
       "version_major": 2,
       "version_minor": 0
      },
      "text/plain": [
       "Dropdown(description='Number:', options=('Coldplay', 'Maroon 5 / Cross', 'The Black Eyed Peas', 'Usher', 'Emin…"
      ]
     },
     "metadata": {},
     "output_type": "display_data"
    }
   ],
   "source": [
    "display(dropdown)"
   ]
  },
  {
   "cell_type": "code",
   "execution_count": 22,
   "id": "d19ab2d1",
   "metadata": {
    "ExecuteTime": {
     "end_time": "2021-12-09T06:04:26.380243Z",
     "start_time": "2021-12-09T06:04:25.227117Z"
    }
   },
   "outputs": [
    {
     "data": {
      "application/vnd.jupyter.widget-view+json": {
       "model_id": "72a4570e8c7d4330bec4e3038070f963",
       "version_major": 2,
       "version_minor": 0
      },
      "text/plain": [
       "Button(button_style='info', description='Get Wordcloud and Similar Artists', layout=Layout(height='50px', widt…"
      ]
     },
     "metadata": {},
     "output_type": "display_data"
    },
    {
     "name": "stdout",
     "output_type": "stream",
     "text": [
      "\n",
      "\n",
      "\n",
      "\n"
     ]
    },
    {
     "data": {
      "application/vnd.jupyter.widget-view+json": {
       "model_id": "8a8643c5c927496783917645b13d976a",
       "version_major": 2,
       "version_minor": 0
      },
      "text/plain": [
       "Output()"
      ]
     },
     "metadata": {},
     "output_type": "display_data"
    }
   ],
   "source": [
    "out_pop = widgets.Output()  # Initiate output of Button\n",
    "\n",
    "\n",
    "def create_pop(b):\n",
    "    \"\"\"\n",
    "    This function is triggered when the create population button is pressed.\n",
    "    The population_dist function is called and the plots are presented\n",
    "    \"\"\"\n",
    "    with out_pop:\n",
    "        out_pop.clear_output(True)\n",
    "        wordcloud_fn(dropdown.value)\n",
    "\n",
    "\n",
    "button_pop.on_click(create_pop)\n",
    "\n",
    "# Displays the Create population button\n",
    "display(button_pop)\n",
    "\n",
    "# displaying the output plot\n",
    "with out_pop:\n",
    "    wordcloud_fn(dropdown.value)\n",
    "print('\\n\\n\\n')\n",
    "out_pop\n"
   ]
  },
  {
   "cell_type": "code",
   "execution_count": null,
   "id": "5ab03891",
   "metadata": {},
   "outputs": [],
   "source": []
  }
 ],
 "metadata": {
  "kernelspec": {
   "display_name": "Python 3 (ipykernel)",
   "language": "python",
   "name": "python3"
  },
  "language_info": {
   "codemirror_mode": {
    "name": "ipython",
    "version": 3
   },
   "file_extension": ".py",
   "mimetype": "text/x-python",
   "name": "python",
   "nbconvert_exporter": "python",
   "pygments_lexer": "ipython3",
   "version": "3.9.7"
  }
 },
 "nbformat": 4,
 "nbformat_minor": 5
}
