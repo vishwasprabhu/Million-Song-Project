{
 "cells": [
  {
   "cell_type": "markdown",
   "id": "8700c333",
   "metadata": {},
   "source": [
    "## Analytics Goal : Artist-level analysis. Looking at the Popular Artists, Popular songs, Artist Sound Quality, similar artists and  tags"
   ]
  },
  {
   "cell_type": "code",
   "execution_count": 1,
   "id": "11579c2a",
   "metadata": {},
   "outputs": [
    {
     "data": {
      "application/vnd.jupyter.widget-view+json": {
       "model_id": "4713b75373834cb28faa177f55035379",
       "version_major": 2,
       "version_minor": 0
      },
      "text/plain": [
       "VBox()"
      ]
     },
     "metadata": {},
     "output_type": "display_data"
    },
    {
     "name": "stdout",
     "output_type": "stream",
     "text": [
      "Starting Spark application\n"
     ]
    },
    {
     "data": {
      "text/html": [
       "<table>\n",
       "<tr><th>ID</th><th>YARN Application ID</th><th>Kind</th><th>State</th><th>Spark UI</th><th>Driver log</th><th>Current session?</th></tr><tr><td>63</td><td>application_1638946947785_0065</td><td>pyspark</td><td>idle</td><td><a target=\"_blank\" href=\"http://ip-172-31-0-224.us-west-1.compute.internal:20888/proxy/application_1638946947785_0065/\" class=\"emr-proxy-link\" emr-resource=\"j-QXT3PBMEUKWS\n",
       "\" application-id=\"application_1638946947785_0065\">Link</a></td><td><a target=\"_blank\" href=\"http://ip-172-31-11-153.us-west-1.compute.internal:8042/node/containerlogs/container_1638946947785_0065_01_000001/livy\" >Link</a></td><td>✔</td></tr></table>"
      ],
      "text/plain": [
       "<IPython.core.display.HTML object>"
      ]
     },
     "metadata": {},
     "output_type": "display_data"
    },
    {
     "data": {
      "application/vnd.jupyter.widget-view+json": {
       "model_id": "",
       "version_major": 2,
       "version_minor": 0
      },
      "text/plain": [
       "FloatProgress(value=0.0, bar_style='info', description='Progress:', layout=Layout(height='25px', width='50%'),…"
      ]
     },
     "metadata": {},
     "output_type": "display_data"
    },
    {
     "name": "stdout",
     "output_type": "stream",
     "text": [
      "SparkSession available as 'spark'.\n"
     ]
    },
    {
     "data": {
      "application/vnd.jupyter.widget-view+json": {
       "model_id": "",
       "version_major": 2,
       "version_minor": 0
      },
      "text/plain": [
       "FloatProgress(value=0.0, bar_style='info', description='Progress:', layout=Layout(height='25px', width='50%'),…"
      ]
     },
     "metadata": {},
     "output_type": "display_data"
    }
   ],
   "source": [
    "import numpy as np\n",
    "import pyspark\n",
    "import re"
   ]
  },
  {
   "cell_type": "code",
   "execution_count": 2,
   "id": "0e0c7d5b",
   "metadata": {},
   "outputs": [],
   "source": [
    "%%local\n",
    "import os\n",
    "import re\n",
    "from IPython.display import display\n",
    "from ipywidgets import widgets, interactive\n",
    "import ipywidgets as widgets\n",
    "%config InlineBackend.figure_format = 'retina'\n",
    "#from wordcloud import WordCloud, STOPWORDS, ImageColorGenerator\n",
    "import time\n",
    "import plotly.express as px\n",
    "import warnings\n",
    "warnings.filterwarnings(\"ignore\")\n",
    "t_start = time.time()"
   ]
  },
  {
   "cell_type": "code",
   "execution_count": null,
   "id": "809d46df",
   "metadata": {},
   "outputs": [],
   "source": [
    "# %%configure -f \n",
    "# {\n",
    "# \"conf\":{\n",
    "#         \"spark.pyspark.python\": \"python3\",\n",
    "#         \"spark.pyspark.virtualenv.enabled\": \"true\",\n",
    "#         \"spark.pyspark.virtualenv.type\":\"native\",\n",
    "#         \"spark.pyspark.virtualenv.bin.path\":\"/usr/bin/virtualenv\",\n",
    "    \n",
    "#         \"spark.executor.heartbeatInterval\":\"10800s\",\n",
    "#         \"spark.network.timeout\":\"24h\",\n",
    "    \n",
    "#         \"spark.driver.memory\": \"10G\",\n",
    "#         \"spark.executor.memory\": \"7G\",\n",
    "#         \"spark.executor.cores\":\"2\",\n",
    "\n",
    "#         \"spark.app.name\":\"msds694_16_project\"\n",
    "#       }\n",
    "# }"
   ]
  },
  {
   "cell_type": "code",
   "execution_count": 3,
   "id": "feb5da89",
   "metadata": {},
   "outputs": [
    {
     "data": {
      "application/vnd.jupyter.widget-view+json": {
       "model_id": "c5475b6a821546bd958d0d9804dbe2b8",
       "version_major": 2,
       "version_minor": 0
      },
      "text/plain": [
       "VBox()"
      ]
     },
     "metadata": {},
     "output_type": "display_data"
    },
    {
     "data": {
      "application/vnd.jupyter.widget-view+json": {
       "model_id": "",
       "version_major": 2,
       "version_minor": 0
      },
      "text/plain": [
       "FloatProgress(value=0.0, bar_style='info', description='Progress:', layout=Layout(height='25px', width='50%'),…"
      ]
     },
     "metadata": {},
     "output_type": "display_data"
    }
   ],
   "source": [
    "ct_partitions = 8"
   ]
  },
  {
   "cell_type": "code",
   "execution_count": 4,
   "id": "21989887",
   "metadata": {},
   "outputs": [
    {
     "data": {
      "application/vnd.jupyter.widget-view+json": {
       "model_id": "c26bcc73a0d34b0d9d1c83f9ce5d23f9",
       "version_major": 2,
       "version_minor": 0
      },
      "text/plain": [
       "VBox()"
      ]
     },
     "metadata": {},
     "output_type": "display_data"
    },
    {
     "data": {
      "application/vnd.jupyter.widget-view+json": {
       "model_id": "",
       "version_major": 2,
       "version_minor": 0
      },
      "text/plain": [
       "FloatProgress(value=0.0, bar_style='info', description='Progress:', layout=Layout(height='25px', width='50%'),…"
      ]
     },
     "metadata": {},
     "output_type": "display_data"
    }
   ],
   "source": [
    "input_rdd = sc.textFile(\"s3://millionsongs-data/new_g4g.csv\")\n",
    "table = input_rdd.map(lambda x: x.split('\\t'))\n",
    "header = table.take(1)\n",
    "table_body = table.filter(lambda x : x != header[0]).cache()\n",
    "column_index = {header[0][i]:i for i in range(len(header[0]))}"
   ]
  },
  {
   "cell_type": "markdown",
   "id": "9bb6bff2",
   "metadata": {},
   "source": [
    "## Hottest Artists"
   ]
  },
  {
   "cell_type": "code",
   "execution_count": 5,
   "id": "1203eb1a",
   "metadata": {},
   "outputs": [
    {
     "data": {
      "application/vnd.jupyter.widget-view+json": {
       "model_id": "1adf2a06f40d4eedb19c46044585a505",
       "version_major": 2,
       "version_minor": 0
      },
      "text/plain": [
       "VBox()"
      ]
     },
     "metadata": {},
     "output_type": "display_data"
    },
    {
     "data": {
      "application/vnd.jupyter.widget-view+json": {
       "model_id": "",
       "version_major": 2,
       "version_minor": 0
      },
      "text/plain": [
       "FloatProgress(value=0.0, bar_style='info', description='Progress:', layout=Layout(height='25px', width='50%'),…"
      ]
     },
     "metadata": {},
     "output_type": "display_data"
    }
   ],
   "source": [
    "artist_rdd = table_body.filter(lambda x : x[column_index['get_artist_familiarity']]!= '').filter(lambda x : \n",
    "                        x[column_index['get_artist_hotttnesss']]!= '').map(lambda x: \n",
    "                       (x[column_index['get_artist_id']],\n",
    "                        [x[column_index['get_artist_name']],\n",
    "                        float(x[column_index['get_artist_familiarity']]),\n",
    "                        float(x[column_index['get_artist_hotttnesss']]),\n",
    "                        x[column_index['get_artist_mbtags']],\n",
    "                        x[column_index['get_artist_mbtags_count']],\n",
    "                        x[column_index['get_artist_terms']],\n",
    "                        x[column_index['get_artist_terms_freq']],\n",
    "                        x[column_index['get_similar_artists']],\n",
    "                        x[column_index['get_energy']]])).cache()"
   ]
  },
  {
   "cell_type": "code",
   "execution_count": 6,
   "id": "32024c57",
   "metadata": {},
   "outputs": [
    {
     "data": {
      "application/vnd.jupyter.widget-view+json": {
       "model_id": "5423e6ead6324533b01d0b7990c2f874",
       "version_major": 2,
       "version_minor": 0
      },
      "text/plain": [
       "VBox()"
      ]
     },
     "metadata": {},
     "output_type": "display_data"
    },
    {
     "data": {
      "application/vnd.jupyter.widget-view+json": {
       "model_id": "",
       "version_major": 2,
       "version_minor": 0
      },
      "text/plain": [
       "FloatProgress(value=0.0, bar_style='info', description='Progress:', layout=Layout(height='25px', width='50%'),…"
      ]
     },
     "metadata": {},
     "output_type": "display_data"
    }
   ],
   "source": [
    "## Ineficient code\n",
    "# artist_rdd_names = artist_rdd.map(lambda x: (x[1][0], \n",
    "#                     x[1][2])).groupByKey().mapValues(\n",
    "#     lambda x: sum(x)/len(x)).sortBy(lambda x :x[1], ascending=False)"
   ]
  },
  {
   "cell_type": "code",
   "execution_count": 7,
   "id": "9f286b88",
   "metadata": {},
   "outputs": [
    {
     "data": {
      "application/vnd.jupyter.widget-view+json": {
       "model_id": "01871ea2be8a49ecbb9da52bf91df145",
       "version_major": 2,
       "version_minor": 0
      },
      "text/plain": [
       "VBox()"
      ]
     },
     "metadata": {},
     "output_type": "display_data"
    },
    {
     "data": {
      "application/vnd.jupyter.widget-view+json": {
       "model_id": "",
       "version_major": 2,
       "version_minor": 0
      },
      "text/plain": [
       "FloatProgress(value=0.0, bar_style='info', description='Progress:', layout=Layout(height='25px', width='50%'),…"
      ]
     },
     "metadata": {},
     "output_type": "display_data"
    }
   ],
   "source": [
    "artist_rdd_names = artist_rdd.map(lambda x: (x[1][0], \n",
    "                    x[1][2])).mapValues(lambda x: (x, 1))\\\n",
    "                             .reduceByKey(lambda a,b: (a[0]+b[0], a[1]+b[1]))\\\n",
    "                             .mapValues(lambda x: x[0]/x[1])\\\n",
    "                             .sortBy(lambda x :x[1], ascending=False, numPartitions = ct_partitions)\n",
    "\n",
    "hottest_artists = artist_rdd_names.map(lambda x: (x[0],x[1])).filter(lambda x : x[1] > 0.8)\n",
    "hottest_artists_name = hottest_artists.map(lambda x: x[0]).take(100) ## saving the list of top 20 artists for later filtering purposes\n",
    "hottest_artists_df = hottest_artists.toDF()\n",
    "hottest_artists_df.createOrReplaceTempView(\"hottest_artists_df_view\")"
   ]
  },
  {
   "cell_type": "code",
   "execution_count": 8,
   "id": "398456f4",
   "metadata": {},
   "outputs": [
    {
     "data": {
      "application/vnd.jupyter.widget-view+json": {
       "model_id": "980ceba3e5ba44f0b2fbb6597ddf2f1e",
       "version_major": 2,
       "version_minor": 0
      },
      "text/plain": [
       "VBox()"
      ]
     },
     "metadata": {},
     "output_type": "display_data"
    },
    {
     "data": {
      "application/vnd.jupyter.widget-view+json": {
       "model_id": "",
       "version_major": 2,
       "version_minor": 0
      },
      "text/plain": [
       "FloatProgress(value=0.0, bar_style='info', description='Progress:', layout=Layout(height='25px', width='50%'),…"
      ]
     },
     "metadata": {},
     "output_type": "display_data"
    }
   ],
   "source": [
    "# %%local\n",
    "# t_end = time.time()\n",
    "# t_end - t_start"
   ]
  },
  {
   "cell_type": "code",
   "execution_count": 9,
   "id": "1becbcf6",
   "metadata": {
    "scrolled": true
   },
   "outputs": [
    {
     "data": {
      "application/vnd.jupyter.widget-view+json": {
       "model_id": "",
       "version_major": 2,
       "version_minor": 0
      },
      "text/plain": [
       "FloatProgress(value=0.0, bar_style='info', description='Progress:', layout=Layout(height='25px', width='50%'),…"
      ]
     },
     "metadata": {},
     "output_type": "display_data"
    },
    {
     "data": {
      "application/vnd.jupyter.widget-view+json": {
       "model_id": "7bfd3f6dc4aa4c049317c3a1b72ef2b7",
       "version_major": 2,
       "version_minor": 0
      },
      "text/plain": [
       "VBox(children=(HBox(children=(HTML(value='Type:'), Button(description='Table', layout=Layout(width='70px'), st…"
      ]
     },
     "metadata": {},
     "output_type": "display_data"
    },
    {
     "data": {
      "application/vnd.jupyter.widget-view+json": {
       "model_id": "39ec9668f81944f3a0f8052a7ffbce01",
       "version_major": 2,
       "version_minor": 0
      },
      "text/plain": [
       "Output()"
      ]
     },
     "metadata": {},
     "output_type": "display_data"
    }
   ],
   "source": [
    "%%sql -o hottest_artists_df_tab\n",
    "SELECT * FROM hottest_artists_df_view"
   ]
  },
  {
   "cell_type": "markdown",
   "id": "9ceac05b",
   "metadata": {},
   "source": [
    "## Number of Songs per aritst vs popular artists"
   ]
  },
  {
   "cell_type": "code",
   "execution_count": 10,
   "id": "d2484eb9",
   "metadata": {},
   "outputs": [
    {
     "data": {
      "application/vnd.jupyter.widget-view+json": {
       "model_id": "06519ee0306a4e2895784281275c3918",
       "version_major": 2,
       "version_minor": 0
      },
      "text/plain": [
       "VBox()"
      ]
     },
     "metadata": {},
     "output_type": "display_data"
    },
    {
     "data": {
      "application/vnd.jupyter.widget-view+json": {
       "model_id": "",
       "version_major": 2,
       "version_minor": 0
      },
      "text/plain": [
       "FloatProgress(value=0.0, bar_style='info', description='Progress:', layout=Layout(height='25px', width='50%'),…"
      ]
     },
     "metadata": {},
     "output_type": "display_data"
    }
   ],
   "source": [
    "songs_per_artist = table_body.map(lambda x : (x[column_index['get_artist_name']],\n",
    "                                           [x[column_index['get_title']], \n",
    "                                           x[column_index['get_num_songs']],\n",
    "                                           x[column_index['get_artist_hotttnesss']],\n",
    "                                              x[column_index['get_duration']],\n",
    "                                              x[column_index['get_loudness']]])).cache()"
   ]
  },
  {
   "cell_type": "code",
   "execution_count": 11,
   "id": "bb5c91ac",
   "metadata": {},
   "outputs": [
    {
     "data": {
      "application/vnd.jupyter.widget-view+json": {
       "model_id": "ee8a2efaace64f178a73ccfc38198e6a",
       "version_major": 2,
       "version_minor": 0
      },
      "text/plain": [
       "VBox()"
      ]
     },
     "metadata": {},
     "output_type": "display_data"
    },
    {
     "data": {
      "application/vnd.jupyter.widget-view+json": {
       "model_id": "",
       "version_major": 2,
       "version_minor": 0
      },
      "text/plain": [
       "FloatProgress(value=0.0, bar_style='info', description='Progress:', layout=Layout(height='25px', width='50%'),…"
      ]
     },
     "metadata": {},
     "output_type": "display_data"
    }
   ],
   "source": [
    "## Ineffecient code\n",
    "\n",
    "# No_of_songs = songs_per_artist.filter(lambda x: x[1][1] != ''\n",
    "#                 ).map(lambda x: (x[0], int(x[1][1]))\n",
    "#                 ).groupByKey().mapValues(\n",
    "#     lambda x: sum(x)).sortBy(\n",
    "#     lambda x :x[1], ascending = False).map(lambda x: [x[0], x[1]]).filter(lambda x: x[1]>=10)"
   ]
  },
  {
   "cell_type": "code",
   "execution_count": 12,
   "id": "c603a36b",
   "metadata": {},
   "outputs": [
    {
     "data": {
      "application/vnd.jupyter.widget-view+json": {
       "model_id": "834bd543a8244f4aa028993eb0a42207",
       "version_major": 2,
       "version_minor": 0
      },
      "text/plain": [
       "VBox()"
      ]
     },
     "metadata": {},
     "output_type": "display_data"
    },
    {
     "data": {
      "application/vnd.jupyter.widget-view+json": {
       "model_id": "",
       "version_major": 2,
       "version_minor": 0
      },
      "text/plain": [
       "FloatProgress(value=0.0, bar_style='info', description='Progress:', layout=Layout(height='25px', width='50%'),…"
      ]
     },
     "metadata": {},
     "output_type": "display_data"
    }
   ],
   "source": [
    "No_of_songs = songs_per_artist.filter(lambda x: x[1][1] != ''\n",
    "                ).map(lambda x: (x[0], int(x[1][1]))\n",
    "                ).reduceByKey(lambda x,y: x+y).sortBy(\n",
    "                 lambda x :x[1], ascending = False, numPartitions = ct_partitions)\\\n",
    "                 .map(lambda x: [x[0], x[1]]).filter(lambda x: x[1]>=10)\n",
    "\n",
    "n_songs_df = No_of_songs.toDF()\n",
    "n_songs_df.createOrReplaceTempView(\"n_songs_df_view\")"
   ]
  },
  {
   "cell_type": "code",
   "execution_count": 13,
   "id": "fe997e63",
   "metadata": {},
   "outputs": [
    {
     "data": {
      "application/vnd.jupyter.widget-view+json": {
       "model_id": "",
       "version_major": 2,
       "version_minor": 0
      },
      "text/plain": [
       "FloatProgress(value=0.0, bar_style='info', description='Progress:', layout=Layout(height='25px', width='50%'),…"
      ]
     },
     "metadata": {},
     "output_type": "display_data"
    },
    {
     "data": {
      "application/vnd.jupyter.widget-view+json": {
       "model_id": "f6fe27bf40cc4d45b3d8622ad2c77da6",
       "version_major": 2,
       "version_minor": 0
      },
      "text/plain": [
       "VBox(children=(HBox(children=(HTML(value='Type:'), Button(description='Table', layout=Layout(width='70px'), st…"
      ]
     },
     "metadata": {},
     "output_type": "display_data"
    },
    {
     "data": {
      "application/vnd.jupyter.widget-view+json": {
       "model_id": "2469e225efc94cefa3dfaf66860993b8",
       "version_major": 2,
       "version_minor": 0
      },
      "text/plain": [
       "Output()"
      ]
     },
     "metadata": {},
     "output_type": "display_data"
    }
   ],
   "source": [
    "%%sql -o n_songs_df_tab\n",
    "SELECT * FROM n_songs_df_view"
   ]
  },
  {
   "cell_type": "code",
   "execution_count": 14,
   "id": "ce1d0e0d",
   "metadata": {},
   "outputs": [
    {
     "data": {
      "application/vnd.plotly.v1+json": {
       "config": {
        "plotlyServerURL": "https://plot.ly"
       },
       "data": [
        {
         "orientation": "h",
         "type": "bar",
         "x": [
          10,
          10,
          10,
          10,
          10,
          10,
          11,
          11,
          11,
          11,
          11,
          11,
          11,
          11,
          11,
          12,
          12,
          12,
          13,
          16
         ],
         "xaxis": "x",
         "y": [
          "Cowboy Mouth",
          "Jimi Hendrix",
          "Billie Holiday",
          "Bob Dylan",
          "Johnny Burnette",
          "The Velvet Underground",
          "Carly Simon",
          "Simon Harris",
          "Johnny Cash",
          "Charles Mingus",
          "Neil Diamond",
          "Joe Satriani",
          "Burl Ives",
          "Pretenders",
          "Cheap Trick",
          "Kenny Werner",
          "Santana",
          "David Bowie",
          "Dolly Parton",
          "Michael Jackson"
         ],
         "yaxis": "y"
        },
        {
         "orientation": "h",
         "type": "bar",
         "x": [
          0.8492910044654853,
          0.8501843129878313,
          0.8501843129878313,
          0.8521862384017338,
          0.853503182520976,
          0.8692523512580421,
          0.8728389206241831,
          0.8728389206241831,
          0.8792367447378946,
          0.8792367447378946,
          0.8863227203000507,
          0.908202619208482,
          0.9160532282837348,
          0.9183765976856179,
          0.9224124433658124,
          0.9981690448087303,
          1.005298343608816,
          1.0059419659547393,
          1.0059419659547393,
          1.02125558748807
         ],
         "xaxis": "x2",
         "y": [
          "Jason Aldean",
          "Taio Cruz / Luciana Caporaso",
          "Taio Cruz",
          "Chris Brown featuring Sean Paul",
          "Usher",
          "Michael Jackson",
          "T.I. & DJ Drama",
          "T.I.",
          "Eminem / D-12",
          "Eminem / Dr. Dre",
          "Trey Songz",
          "Rihanna feat. J-Status",
          "Coldplay",
          "Rihanna",
          "Taylor Swift",
          "Black Eyed Peas",
          "Kanye West",
          "The Black Eyed Peas",
          "Black Eyed Peas / Papa Roach",
          "Daft Punk"
         ],
         "yaxis": "y2"
        }
       ],
       "layout": {
        "annotations": [
         {
          "font": {
           "size": 16
          },
          "showarrow": false,
          "text": "Top 20 artists-Number of Songs",
          "x": 0.1875,
          "xanchor": "center",
          "xref": "paper",
          "y": 1,
          "yanchor": "bottom",
          "yref": "paper"
         },
         {
          "font": {
           "size": 16
          },
          "showarrow": false,
          "text": "Top 20 artists-Popularity",
          "x": 0.8125,
          "xanchor": "center",
          "xref": "paper",
          "y": 1,
          "yanchor": "bottom",
          "yref": "paper"
         }
        ],
        "autosize": false,
        "coloraxis": {
         "colorscale": [
          [
           0,
           "rgb(210, 251, 212)"
          ],
          [
           0.16666666666666666,
           "rgb(165, 219, 194)"
          ],
          [
           0.3333333333333333,
           "rgb(123, 188, 176)"
          ],
          [
           0.5,
           "rgb(85, 156, 158)"
          ],
          [
           0.6666666666666666,
           "rgb(58, 124, 137)"
          ],
          [
           0.8333333333333334,
           "rgb(35, 93, 114)"
          ],
          [
           1,
           "rgb(18, 63, 90)"
          ]
         ]
        },
        "height": 500,
        "margin": {
         "b": 30,
         "l": 50,
         "pad": 4,
         "r": 50,
         "t": 40
        },
        "showlegend": false,
        "template": {
         "data": {
          "bar": [
           {
            "error_x": {
             "color": "#2a3f5f"
            },
            "error_y": {
             "color": "#2a3f5f"
            },
            "marker": {
             "line": {
              "color": "#E5ECF6",
              "width": 0.5
             }
            },
            "type": "bar"
           }
          ],
          "barpolar": [
           {
            "marker": {
             "line": {
              "color": "#E5ECF6",
              "width": 0.5
             }
            },
            "type": "barpolar"
           }
          ],
          "carpet": [
           {
            "aaxis": {
             "endlinecolor": "#2a3f5f",
             "gridcolor": "white",
             "linecolor": "white",
             "minorgridcolor": "white",
             "startlinecolor": "#2a3f5f"
            },
            "baxis": {
             "endlinecolor": "#2a3f5f",
             "gridcolor": "white",
             "linecolor": "white",
             "minorgridcolor": "white",
             "startlinecolor": "#2a3f5f"
            },
            "type": "carpet"
           }
          ],
          "choropleth": [
           {
            "colorbar": {
             "outlinewidth": 0,
             "ticks": ""
            },
            "type": "choropleth"
           }
          ],
          "contour": [
           {
            "colorbar": {
             "outlinewidth": 0,
             "ticks": ""
            },
            "colorscale": [
             [
              0,
              "#0d0887"
             ],
             [
              0.1111111111111111,
              "#46039f"
             ],
             [
              0.2222222222222222,
              "#7201a8"
             ],
             [
              0.3333333333333333,
              "#9c179e"
             ],
             [
              0.4444444444444444,
              "#bd3786"
             ],
             [
              0.5555555555555556,
              "#d8576b"
             ],
             [
              0.6666666666666666,
              "#ed7953"
             ],
             [
              0.7777777777777778,
              "#fb9f3a"
             ],
             [
              0.8888888888888888,
              "#fdca26"
             ],
             [
              1,
              "#f0f921"
             ]
            ],
            "type": "contour"
           }
          ],
          "contourcarpet": [
           {
            "colorbar": {
             "outlinewidth": 0,
             "ticks": ""
            },
            "type": "contourcarpet"
           }
          ],
          "heatmap": [
           {
            "colorbar": {
             "outlinewidth": 0,
             "ticks": ""
            },
            "colorscale": [
             [
              0,
              "#0d0887"
             ],
             [
              0.1111111111111111,
              "#46039f"
             ],
             [
              0.2222222222222222,
              "#7201a8"
             ],
             [
              0.3333333333333333,
              "#9c179e"
             ],
             [
              0.4444444444444444,
              "#bd3786"
             ],
             [
              0.5555555555555556,
              "#d8576b"
             ],
             [
              0.6666666666666666,
              "#ed7953"
             ],
             [
              0.7777777777777778,
              "#fb9f3a"
             ],
             [
              0.8888888888888888,
              "#fdca26"
             ],
             [
              1,
              "#f0f921"
             ]
            ],
            "type": "heatmap"
           }
          ],
          "heatmapgl": [
           {
            "colorbar": {
             "outlinewidth": 0,
             "ticks": ""
            },
            "colorscale": [
             [
              0,
              "#0d0887"
             ],
             [
              0.1111111111111111,
              "#46039f"
             ],
             [
              0.2222222222222222,
              "#7201a8"
             ],
             [
              0.3333333333333333,
              "#9c179e"
             ],
             [
              0.4444444444444444,
              "#bd3786"
             ],
             [
              0.5555555555555556,
              "#d8576b"
             ],
             [
              0.6666666666666666,
              "#ed7953"
             ],
             [
              0.7777777777777778,
              "#fb9f3a"
             ],
             [
              0.8888888888888888,
              "#fdca26"
             ],
             [
              1,
              "#f0f921"
             ]
            ],
            "type": "heatmapgl"
           }
          ],
          "histogram": [
           {
            "marker": {
             "colorbar": {
              "outlinewidth": 0,
              "ticks": ""
             }
            },
            "type": "histogram"
           }
          ],
          "histogram2d": [
           {
            "colorbar": {
             "outlinewidth": 0,
             "ticks": ""
            },
            "colorscale": [
             [
              0,
              "#0d0887"
             ],
             [
              0.1111111111111111,
              "#46039f"
             ],
             [
              0.2222222222222222,
              "#7201a8"
             ],
             [
              0.3333333333333333,
              "#9c179e"
             ],
             [
              0.4444444444444444,
              "#bd3786"
             ],
             [
              0.5555555555555556,
              "#d8576b"
             ],
             [
              0.6666666666666666,
              "#ed7953"
             ],
             [
              0.7777777777777778,
              "#fb9f3a"
             ],
             [
              0.8888888888888888,
              "#fdca26"
             ],
             [
              1,
              "#f0f921"
             ]
            ],
            "type": "histogram2d"
           }
          ],
          "histogram2dcontour": [
           {
            "colorbar": {
             "outlinewidth": 0,
             "ticks": ""
            },
            "colorscale": [
             [
              0,
              "#0d0887"
             ],
             [
              0.1111111111111111,
              "#46039f"
             ],
             [
              0.2222222222222222,
              "#7201a8"
             ],
             [
              0.3333333333333333,
              "#9c179e"
             ],
             [
              0.4444444444444444,
              "#bd3786"
             ],
             [
              0.5555555555555556,
              "#d8576b"
             ],
             [
              0.6666666666666666,
              "#ed7953"
             ],
             [
              0.7777777777777778,
              "#fb9f3a"
             ],
             [
              0.8888888888888888,
              "#fdca26"
             ],
             [
              1,
              "#f0f921"
             ]
            ],
            "type": "histogram2dcontour"
           }
          ],
          "mesh3d": [
           {
            "colorbar": {
             "outlinewidth": 0,
             "ticks": ""
            },
            "type": "mesh3d"
           }
          ],
          "parcoords": [
           {
            "line": {
             "colorbar": {
              "outlinewidth": 0,
              "ticks": ""
             }
            },
            "type": "parcoords"
           }
          ],
          "pie": [
           {
            "automargin": true,
            "type": "pie"
           }
          ],
          "scatter": [
           {
            "marker": {
             "colorbar": {
              "outlinewidth": 0,
              "ticks": ""
             }
            },
            "type": "scatter"
           }
          ],
          "scatter3d": [
           {
            "line": {
             "colorbar": {
              "outlinewidth": 0,
              "ticks": ""
             }
            },
            "marker": {
             "colorbar": {
              "outlinewidth": 0,
              "ticks": ""
             }
            },
            "type": "scatter3d"
           }
          ],
          "scattercarpet": [
           {
            "marker": {
             "colorbar": {
              "outlinewidth": 0,
              "ticks": ""
             }
            },
            "type": "scattercarpet"
           }
          ],
          "scattergeo": [
           {
            "marker": {
             "colorbar": {
              "outlinewidth": 0,
              "ticks": ""
             }
            },
            "type": "scattergeo"
           }
          ],
          "scattergl": [
           {
            "marker": {
             "colorbar": {
              "outlinewidth": 0,
              "ticks": ""
             }
            },
            "type": "scattergl"
           }
          ],
          "scattermapbox": [
           {
            "marker": {
             "colorbar": {
              "outlinewidth": 0,
              "ticks": ""
             }
            },
            "type": "scattermapbox"
           }
          ],
          "scatterpolar": [
           {
            "marker": {
             "colorbar": {
              "outlinewidth": 0,
              "ticks": ""
             }
            },
            "type": "scatterpolar"
           }
          ],
          "scatterpolargl": [
           {
            "marker": {
             "colorbar": {
              "outlinewidth": 0,
              "ticks": ""
             }
            },
            "type": "scatterpolargl"
           }
          ],
          "scatterternary": [
           {
            "marker": {
             "colorbar": {
              "outlinewidth": 0,
              "ticks": ""
             }
            },
            "type": "scatterternary"
           }
          ],
          "surface": [
           {
            "colorbar": {
             "outlinewidth": 0,
             "ticks": ""
            },
            "colorscale": [
             [
              0,
              "#0d0887"
             ],
             [
              0.1111111111111111,
              "#46039f"
             ],
             [
              0.2222222222222222,
              "#7201a8"
             ],
             [
              0.3333333333333333,
              "#9c179e"
             ],
             [
              0.4444444444444444,
              "#bd3786"
             ],
             [
              0.5555555555555556,
              "#d8576b"
             ],
             [
              0.6666666666666666,
              "#ed7953"
             ],
             [
              0.7777777777777778,
              "#fb9f3a"
             ],
             [
              0.8888888888888888,
              "#fdca26"
             ],
             [
              1,
              "#f0f921"
             ]
            ],
            "type": "surface"
           }
          ],
          "table": [
           {
            "cells": {
             "fill": {
              "color": "#EBF0F8"
             },
             "line": {
              "color": "white"
             }
            },
            "header": {
             "fill": {
              "color": "#C8D4E3"
             },
             "line": {
              "color": "white"
             }
            },
            "type": "table"
           }
          ]
         },
         "layout": {
          "annotationdefaults": {
           "arrowcolor": "#2a3f5f",
           "arrowhead": 0,
           "arrowwidth": 1
          },
          "autotypenumbers": "strict",
          "coloraxis": {
           "colorbar": {
            "outlinewidth": 0,
            "ticks": ""
           }
          },
          "colorscale": {
           "diverging": [
            [
             0,
             "#8e0152"
            ],
            [
             0.1,
             "#c51b7d"
            ],
            [
             0.2,
             "#de77ae"
            ],
            [
             0.3,
             "#f1b6da"
            ],
            [
             0.4,
             "#fde0ef"
            ],
            [
             0.5,
             "#f7f7f7"
            ],
            [
             0.6,
             "#e6f5d0"
            ],
            [
             0.7,
             "#b8e186"
            ],
            [
             0.8,
             "#7fbc41"
            ],
            [
             0.9,
             "#4d9221"
            ],
            [
             1,
             "#276419"
            ]
           ],
           "sequential": [
            [
             0,
             "#0d0887"
            ],
            [
             0.1111111111111111,
             "#46039f"
            ],
            [
             0.2222222222222222,
             "#7201a8"
            ],
            [
             0.3333333333333333,
             "#9c179e"
            ],
            [
             0.4444444444444444,
             "#bd3786"
            ],
            [
             0.5555555555555556,
             "#d8576b"
            ],
            [
             0.6666666666666666,
             "#ed7953"
            ],
            [
             0.7777777777777778,
             "#fb9f3a"
            ],
            [
             0.8888888888888888,
             "#fdca26"
            ],
            [
             1,
             "#f0f921"
            ]
           ],
           "sequentialminus": [
            [
             0,
             "#0d0887"
            ],
            [
             0.1111111111111111,
             "#46039f"
            ],
            [
             0.2222222222222222,
             "#7201a8"
            ],
            [
             0.3333333333333333,
             "#9c179e"
            ],
            [
             0.4444444444444444,
             "#bd3786"
            ],
            [
             0.5555555555555556,
             "#d8576b"
            ],
            [
             0.6666666666666666,
             "#ed7953"
            ],
            [
             0.7777777777777778,
             "#fb9f3a"
            ],
            [
             0.8888888888888888,
             "#fdca26"
            ],
            [
             1,
             "#f0f921"
            ]
           ]
          },
          "colorway": [
           "#636efa",
           "#EF553B",
           "#00cc96",
           "#ab63fa",
           "#FFA15A",
           "#19d3f3",
           "#FF6692",
           "#B6E880",
           "#FF97FF",
           "#FECB52"
          ],
          "font": {
           "color": "#2a3f5f"
          },
          "geo": {
           "bgcolor": "white",
           "lakecolor": "white",
           "landcolor": "#E5ECF6",
           "showlakes": true,
           "showland": true,
           "subunitcolor": "white"
          },
          "hoverlabel": {
           "align": "left"
          },
          "hovermode": "closest",
          "mapbox": {
           "style": "light"
          },
          "paper_bgcolor": "white",
          "plot_bgcolor": "#E5ECF6",
          "polar": {
           "angularaxis": {
            "gridcolor": "white",
            "linecolor": "white",
            "ticks": ""
           },
           "bgcolor": "#E5ECF6",
           "radialaxis": {
            "gridcolor": "white",
            "linecolor": "white",
            "ticks": ""
           }
          },
          "scene": {
           "xaxis": {
            "backgroundcolor": "#E5ECF6",
            "gridcolor": "white",
            "gridwidth": 2,
            "linecolor": "white",
            "showbackground": true,
            "ticks": "",
            "zerolinecolor": "white"
           },
           "yaxis": {
            "backgroundcolor": "#E5ECF6",
            "gridcolor": "white",
            "gridwidth": 2,
            "linecolor": "white",
            "showbackground": true,
            "ticks": "",
            "zerolinecolor": "white"
           },
           "zaxis": {
            "backgroundcolor": "#E5ECF6",
            "gridcolor": "white",
            "gridwidth": 2,
            "linecolor": "white",
            "showbackground": true,
            "ticks": "",
            "zerolinecolor": "white"
           }
          },
          "shapedefaults": {
           "line": {
            "color": "#2a3f5f"
           }
          },
          "ternary": {
           "aaxis": {
            "gridcolor": "white",
            "linecolor": "white",
            "ticks": ""
           },
           "baxis": {
            "gridcolor": "white",
            "linecolor": "white",
            "ticks": ""
           },
           "bgcolor": "#E5ECF6",
           "caxis": {
            "gridcolor": "white",
            "linecolor": "white",
            "ticks": ""
           }
          },
          "title": {
           "x": 0.05
          },
          "xaxis": {
           "automargin": true,
           "gridcolor": "white",
           "linecolor": "white",
           "ticks": "",
           "title": {
            "standoff": 15
           },
           "zerolinecolor": "white",
           "zerolinewidth": 2
          },
          "yaxis": {
           "automargin": true,
           "gridcolor": "white",
           "linecolor": "white",
           "ticks": "",
           "title": {
            "standoff": 15
           },
           "zerolinecolor": "white",
           "zerolinewidth": 2
          }
         }
        },
        "width": 1000,
        "xaxis": {
         "anchor": "y",
         "domain": [
          0,
          0.375
         ]
        },
        "xaxis2": {
         "anchor": "y2",
         "domain": [
          0.625,
          1
         ]
        },
        "yaxis": {
         "anchor": "x",
         "domain": [
          0,
          1
         ],
         "type": "category"
        },
        "yaxis2": {
         "anchor": "x2",
         "domain": [
          0,
          1
         ],
         "type": "category"
        }
       }
      },
      "text/html": [
       "<div>                            <div id=\"6b3587c1-a29c-4bf4-8670-ca87d70e8a31\" class=\"plotly-graph-div\" style=\"height:500px; width:1000px;\"></div>            <script type=\"text/javascript\">                require([\"plotly\"], function(Plotly) {                    window.PLOTLYENV=window.PLOTLYENV || {};                                    if (document.getElementById(\"6b3587c1-a29c-4bf4-8670-ca87d70e8a31\")) {                    Plotly.newPlot(                        \"6b3587c1-a29c-4bf4-8670-ca87d70e8a31\",                        [{\"orientation\": \"h\", \"type\": \"bar\", \"x\": [10, 10, 10, 10, 10, 10, 11, 11, 11, 11, 11, 11, 11, 11, 11, 12, 12, 12, 13, 16], \"xaxis\": \"x\", \"y\": [\"Cowboy Mouth\", \"Jimi Hendrix\", \"Billie Holiday\", \"Bob Dylan\", \"Johnny Burnette\", \"The Velvet Underground\", \"Carly Simon\", \"Simon Harris\", \"Johnny Cash\", \"Charles Mingus\", \"Neil Diamond\", \"Joe Satriani\", \"Burl Ives\", \"Pretenders\", \"Cheap Trick\", \"Kenny Werner\", \"Santana\", \"David Bowie\", \"Dolly Parton\", \"Michael Jackson\"], \"yaxis\": \"y\"}, {\"orientation\": \"h\", \"type\": \"bar\", \"x\": [0.8492910044654853, 0.8501843129878313, 0.8501843129878313, 0.8521862384017338, 0.853503182520976, 0.8692523512580421, 0.8728389206241831, 0.8728389206241831, 0.8792367447378946, 0.8792367447378946, 0.8863227203000507, 0.908202619208482, 0.9160532282837348, 0.9183765976856179, 0.9224124433658124, 0.9981690448087303, 1.005298343608816, 1.0059419659547393, 1.0059419659547393, 1.02125558748807], \"xaxis\": \"x2\", \"y\": [\"Jason Aldean\", \"Taio Cruz / Luciana Caporaso\", \"Taio Cruz\", \"Chris Brown featuring Sean Paul\", \"Usher\", \"Michael Jackson\", \"T.I. & DJ Drama\", \"T.I.\", \"Eminem / D-12\", \"Eminem / Dr. Dre\", \"Trey Songz\", \"Rihanna feat. J-Status\", \"Coldplay\", \"Rihanna\", \"Taylor Swift\", \"Black Eyed Peas\", \"Kanye West\", \"The Black Eyed Peas\", \"Black Eyed Peas / Papa Roach\", \"Daft Punk\"], \"yaxis\": \"y2\"}],                        {\"annotations\": [{\"font\": {\"size\": 16}, \"showarrow\": false, \"text\": \"Top 20 artists-Number of Songs\", \"x\": 0.1875, \"xanchor\": \"center\", \"xref\": \"paper\", \"y\": 1.0, \"yanchor\": \"bottom\", \"yref\": \"paper\"}, {\"font\": {\"size\": 16}, \"showarrow\": false, \"text\": \"Top 20 artists-Popularity\", \"x\": 0.8125, \"xanchor\": \"center\", \"xref\": \"paper\", \"y\": 1.0, \"yanchor\": \"bottom\", \"yref\": \"paper\"}], \"autosize\": false, \"coloraxis\": {\"colorscale\": [[0.0, \"rgb(210, 251, 212)\"], [0.16666666666666666, \"rgb(165, 219, 194)\"], [0.3333333333333333, \"rgb(123, 188, 176)\"], [0.5, \"rgb(85, 156, 158)\"], [0.6666666666666666, \"rgb(58, 124, 137)\"], [0.8333333333333334, \"rgb(35, 93, 114)\"], [1.0, \"rgb(18, 63, 90)\"]]}, \"height\": 500, \"margin\": {\"b\": 30, \"l\": 50, \"pad\": 4, \"r\": 50, \"t\": 40}, \"showlegend\": false, \"template\": {\"data\": {\"bar\": [{\"error_x\": {\"color\": \"#2a3f5f\"}, \"error_y\": {\"color\": \"#2a3f5f\"}, \"marker\": {\"line\": {\"color\": \"#E5ECF6\", \"width\": 0.5}}, \"type\": \"bar\"}], \"barpolar\": [{\"marker\": {\"line\": {\"color\": \"#E5ECF6\", \"width\": 0.5}}, \"type\": \"barpolar\"}], \"carpet\": [{\"aaxis\": {\"endlinecolor\": \"#2a3f5f\", \"gridcolor\": \"white\", \"linecolor\": \"white\", \"minorgridcolor\": \"white\", \"startlinecolor\": \"#2a3f5f\"}, \"baxis\": {\"endlinecolor\": \"#2a3f5f\", \"gridcolor\": \"white\", \"linecolor\": \"white\", \"minorgridcolor\": \"white\", \"startlinecolor\": \"#2a3f5f\"}, \"type\": \"carpet\"}], \"choropleth\": [{\"colorbar\": {\"outlinewidth\": 0, \"ticks\": \"\"}, \"type\": \"choropleth\"}], \"contour\": [{\"colorbar\": {\"outlinewidth\": 0, \"ticks\": \"\"}, \"colorscale\": [[0.0, \"#0d0887\"], [0.1111111111111111, \"#46039f\"], [0.2222222222222222, \"#7201a8\"], [0.3333333333333333, \"#9c179e\"], [0.4444444444444444, \"#bd3786\"], [0.5555555555555556, \"#d8576b\"], [0.6666666666666666, \"#ed7953\"], [0.7777777777777778, \"#fb9f3a\"], [0.8888888888888888, \"#fdca26\"], [1.0, \"#f0f921\"]], \"type\": \"contour\"}], \"contourcarpet\": [{\"colorbar\": {\"outlinewidth\": 0, \"ticks\": \"\"}, \"type\": \"contourcarpet\"}], \"heatmap\": [{\"colorbar\": {\"outlinewidth\": 0, \"ticks\": \"\"}, \"colorscale\": [[0.0, \"#0d0887\"], [0.1111111111111111, \"#46039f\"], [0.2222222222222222, \"#7201a8\"], [0.3333333333333333, \"#9c179e\"], [0.4444444444444444, \"#bd3786\"], [0.5555555555555556, \"#d8576b\"], [0.6666666666666666, \"#ed7953\"], [0.7777777777777778, \"#fb9f3a\"], [0.8888888888888888, \"#fdca26\"], [1.0, \"#f0f921\"]], \"type\": \"heatmap\"}], \"heatmapgl\": [{\"colorbar\": {\"outlinewidth\": 0, \"ticks\": \"\"}, \"colorscale\": [[0.0, \"#0d0887\"], [0.1111111111111111, \"#46039f\"], [0.2222222222222222, \"#7201a8\"], [0.3333333333333333, \"#9c179e\"], [0.4444444444444444, \"#bd3786\"], [0.5555555555555556, \"#d8576b\"], [0.6666666666666666, \"#ed7953\"], [0.7777777777777778, \"#fb9f3a\"], [0.8888888888888888, \"#fdca26\"], [1.0, \"#f0f921\"]], \"type\": \"heatmapgl\"}], \"histogram\": [{\"marker\": {\"colorbar\": {\"outlinewidth\": 0, \"ticks\": \"\"}}, \"type\": \"histogram\"}], \"histogram2d\": [{\"colorbar\": {\"outlinewidth\": 0, \"ticks\": \"\"}, \"colorscale\": [[0.0, \"#0d0887\"], [0.1111111111111111, \"#46039f\"], [0.2222222222222222, \"#7201a8\"], [0.3333333333333333, \"#9c179e\"], [0.4444444444444444, \"#bd3786\"], [0.5555555555555556, \"#d8576b\"], [0.6666666666666666, \"#ed7953\"], [0.7777777777777778, \"#fb9f3a\"], [0.8888888888888888, \"#fdca26\"], [1.0, \"#f0f921\"]], \"type\": \"histogram2d\"}], \"histogram2dcontour\": [{\"colorbar\": {\"outlinewidth\": 0, \"ticks\": \"\"}, \"colorscale\": [[0.0, \"#0d0887\"], [0.1111111111111111, \"#46039f\"], [0.2222222222222222, \"#7201a8\"], [0.3333333333333333, \"#9c179e\"], [0.4444444444444444, \"#bd3786\"], [0.5555555555555556, \"#d8576b\"], [0.6666666666666666, \"#ed7953\"], [0.7777777777777778, \"#fb9f3a\"], [0.8888888888888888, \"#fdca26\"], [1.0, \"#f0f921\"]], \"type\": \"histogram2dcontour\"}], \"mesh3d\": [{\"colorbar\": {\"outlinewidth\": 0, \"ticks\": \"\"}, \"type\": \"mesh3d\"}], \"parcoords\": [{\"line\": {\"colorbar\": {\"outlinewidth\": 0, \"ticks\": \"\"}}, \"type\": \"parcoords\"}], \"pie\": [{\"automargin\": true, \"type\": \"pie\"}], \"scatter\": [{\"marker\": {\"colorbar\": {\"outlinewidth\": 0, \"ticks\": \"\"}}, \"type\": \"scatter\"}], \"scatter3d\": [{\"line\": {\"colorbar\": {\"outlinewidth\": 0, \"ticks\": \"\"}}, \"marker\": {\"colorbar\": {\"outlinewidth\": 0, \"ticks\": \"\"}}, \"type\": \"scatter3d\"}], \"scattercarpet\": [{\"marker\": {\"colorbar\": {\"outlinewidth\": 0, \"ticks\": \"\"}}, \"type\": \"scattercarpet\"}], \"scattergeo\": [{\"marker\": {\"colorbar\": {\"outlinewidth\": 0, \"ticks\": \"\"}}, \"type\": \"scattergeo\"}], \"scattergl\": [{\"marker\": {\"colorbar\": {\"outlinewidth\": 0, \"ticks\": \"\"}}, \"type\": \"scattergl\"}], \"scattermapbox\": [{\"marker\": {\"colorbar\": {\"outlinewidth\": 0, \"ticks\": \"\"}}, \"type\": \"scattermapbox\"}], \"scatterpolar\": [{\"marker\": {\"colorbar\": {\"outlinewidth\": 0, \"ticks\": \"\"}}, \"type\": \"scatterpolar\"}], \"scatterpolargl\": [{\"marker\": {\"colorbar\": {\"outlinewidth\": 0, \"ticks\": \"\"}}, \"type\": \"scatterpolargl\"}], \"scatterternary\": [{\"marker\": {\"colorbar\": {\"outlinewidth\": 0, \"ticks\": \"\"}}, \"type\": \"scatterternary\"}], \"surface\": [{\"colorbar\": {\"outlinewidth\": 0, \"ticks\": \"\"}, \"colorscale\": [[0.0, \"#0d0887\"], [0.1111111111111111, \"#46039f\"], [0.2222222222222222, \"#7201a8\"], [0.3333333333333333, \"#9c179e\"], [0.4444444444444444, \"#bd3786\"], [0.5555555555555556, \"#d8576b\"], [0.6666666666666666, \"#ed7953\"], [0.7777777777777778, \"#fb9f3a\"], [0.8888888888888888, \"#fdca26\"], [1.0, \"#f0f921\"]], \"type\": \"surface\"}], \"table\": [{\"cells\": {\"fill\": {\"color\": \"#EBF0F8\"}, \"line\": {\"color\": \"white\"}}, \"header\": {\"fill\": {\"color\": \"#C8D4E3\"}, \"line\": {\"color\": \"white\"}}, \"type\": \"table\"}]}, \"layout\": {\"annotationdefaults\": {\"arrowcolor\": \"#2a3f5f\", \"arrowhead\": 0, \"arrowwidth\": 1}, \"autotypenumbers\": \"strict\", \"coloraxis\": {\"colorbar\": {\"outlinewidth\": 0, \"ticks\": \"\"}}, \"colorscale\": {\"diverging\": [[0, \"#8e0152\"], [0.1, \"#c51b7d\"], [0.2, \"#de77ae\"], [0.3, \"#f1b6da\"], [0.4, \"#fde0ef\"], [0.5, \"#f7f7f7\"], [0.6, \"#e6f5d0\"], [0.7, \"#b8e186\"], [0.8, \"#7fbc41\"], [0.9, \"#4d9221\"], [1, \"#276419\"]], \"sequential\": [[0.0, \"#0d0887\"], [0.1111111111111111, \"#46039f\"], [0.2222222222222222, \"#7201a8\"], [0.3333333333333333, \"#9c179e\"], [0.4444444444444444, \"#bd3786\"], [0.5555555555555556, \"#d8576b\"], [0.6666666666666666, \"#ed7953\"], [0.7777777777777778, \"#fb9f3a\"], [0.8888888888888888, \"#fdca26\"], [1.0, \"#f0f921\"]], \"sequentialminus\": [[0.0, \"#0d0887\"], [0.1111111111111111, \"#46039f\"], [0.2222222222222222, \"#7201a8\"], [0.3333333333333333, \"#9c179e\"], [0.4444444444444444, \"#bd3786\"], [0.5555555555555556, \"#d8576b\"], [0.6666666666666666, \"#ed7953\"], [0.7777777777777778, \"#fb9f3a\"], [0.8888888888888888, \"#fdca26\"], [1.0, \"#f0f921\"]]}, \"colorway\": [\"#636efa\", \"#EF553B\", \"#00cc96\", \"#ab63fa\", \"#FFA15A\", \"#19d3f3\", \"#FF6692\", \"#B6E880\", \"#FF97FF\", \"#FECB52\"], \"font\": {\"color\": \"#2a3f5f\"}, \"geo\": {\"bgcolor\": \"white\", \"lakecolor\": \"white\", \"landcolor\": \"#E5ECF6\", \"showlakes\": true, \"showland\": true, \"subunitcolor\": \"white\"}, \"hoverlabel\": {\"align\": \"left\"}, \"hovermode\": \"closest\", \"mapbox\": {\"style\": \"light\"}, \"paper_bgcolor\": \"white\", \"plot_bgcolor\": \"#E5ECF6\", \"polar\": {\"angularaxis\": {\"gridcolor\": \"white\", \"linecolor\": \"white\", \"ticks\": \"\"}, \"bgcolor\": \"#E5ECF6\", \"radialaxis\": {\"gridcolor\": \"white\", \"linecolor\": \"white\", \"ticks\": \"\"}}, \"scene\": {\"xaxis\": {\"backgroundcolor\": \"#E5ECF6\", \"gridcolor\": \"white\", \"gridwidth\": 2, \"linecolor\": \"white\", \"showbackground\": true, \"ticks\": \"\", \"zerolinecolor\": \"white\"}, \"yaxis\": {\"backgroundcolor\": \"#E5ECF6\", \"gridcolor\": \"white\", \"gridwidth\": 2, \"linecolor\": \"white\", \"showbackground\": true, \"ticks\": \"\", \"zerolinecolor\": \"white\"}, \"zaxis\": {\"backgroundcolor\": \"#E5ECF6\", \"gridcolor\": \"white\", \"gridwidth\": 2, \"linecolor\": \"white\", \"showbackground\": true, \"ticks\": \"\", \"zerolinecolor\": \"white\"}}, \"shapedefaults\": {\"line\": {\"color\": \"#2a3f5f\"}}, \"ternary\": {\"aaxis\": {\"gridcolor\": \"white\", \"linecolor\": \"white\", \"ticks\": \"\"}, \"baxis\": {\"gridcolor\": \"white\", \"linecolor\": \"white\", \"ticks\": \"\"}, \"bgcolor\": \"#E5ECF6\", \"caxis\": {\"gridcolor\": \"white\", \"linecolor\": \"white\", \"ticks\": \"\"}}, \"title\": {\"x\": 0.05}, \"xaxis\": {\"automargin\": true, \"gridcolor\": \"white\", \"linecolor\": \"white\", \"ticks\": \"\", \"title\": {\"standoff\": 15}, \"zerolinecolor\": \"white\", \"zerolinewidth\": 2}, \"yaxis\": {\"automargin\": true, \"gridcolor\": \"white\", \"linecolor\": \"white\", \"ticks\": \"\", \"title\": {\"standoff\": 15}, \"zerolinecolor\": \"white\", \"zerolinewidth\": 2}}}, \"width\": 1000, \"xaxis\": {\"anchor\": \"y\", \"domain\": [0.0, 0.375]}, \"xaxis2\": {\"anchor\": \"y2\", \"domain\": [0.625, 1.0]}, \"yaxis\": {\"anchor\": \"x\", \"domain\": [0.0, 1.0], \"type\": \"category\"}, \"yaxis2\": {\"anchor\": \"x2\", \"domain\": [0.0, 1.0], \"type\": \"category\"}},                        {\"responsive\": true}                    ).then(function(){\n",
       "                            \n",
       "var gd = document.getElementById('6b3587c1-a29c-4bf4-8670-ca87d70e8a31');\n",
       "var x = new MutationObserver(function (mutations, observer) {{\n",
       "        var display = window.getComputedStyle(gd).display;\n",
       "        if (!display || display === 'none') {{\n",
       "            console.log([gd, 'removed!']);\n",
       "            Plotly.purge(gd);\n",
       "            observer.disconnect();\n",
       "        }}\n",
       "}});\n",
       "\n",
       "// Listen for the removal of the full notebook cells\n",
       "var notebookContainer = gd.closest('#notebook-container');\n",
       "if (notebookContainer) {{\n",
       "    x.observe(notebookContainer, {childList: true});\n",
       "}}\n",
       "\n",
       "// Listen for the clearing of the current output cell\n",
       "var outputEl = gd.closest('.output');\n",
       "if (outputEl) {{\n",
       "    x.observe(outputEl, {childList: true});\n",
       "}}\n",
       "\n",
       "                        })                };                });            </script>        </div>"
      ]
     },
     "metadata": {},
     "output_type": "display_data"
    }
   ],
   "source": [
    "%%local\n",
    "from plotly.subplots import make_subplots\n",
    "import plotly.graph_objects as go\n",
    "\n",
    "fig = make_subplots(rows=1, cols=2, shared_yaxes=False, horizontal_spacing = 0.25,subplot_titles=[\n",
    "        'Top 20 artists-Number of Songs', \n",
    "        'Top 20 artists-Popularity'\n",
    "    ])\n",
    "\n",
    "fig.add_trace(go.Bar(x=n_songs_df_tab['_2'][:20][::-1], y=n_songs_df_tab['_1'][:20][::-1], orientation='h'),\n",
    "                    #marker=dict(color=n_songs_df['artist'], coloraxis=\"coloraxis\")),\n",
    "              1, 1)\n",
    "\n",
    "fig.add_trace(go.Bar(x=hottest_artists_df_tab['_2'][:20][::-1], y=hottest_artists_df_tab['_1'][:20][::-1], orientation='h'),\n",
    "                    #marker=dict(color=[2, 3, 5], coloraxis=\"coloraxis\")),\n",
    "              1, 2)\n",
    "\n",
    "fig.update_layout(coloraxis=dict(colorscale='darkmint'), showlegend=False)\n",
    "\n",
    "fig.update_layout(\n",
    "    autosize=False,\n",
    "    width=1000,\n",
    "    height=500,\n",
    "    margin=dict(\n",
    "        l=50,\n",
    "        r=50,\n",
    "        b=30,\n",
    "        t=40,\n",
    "        pad=4\n",
    "    )\n",
    "    #paper_bgcolor=\"LightSteelBlue\",\n",
    ")\n",
    "fig.update_yaxes(type='category')\n",
    "fig.show()\n",
    "\n",
    "# fig.write_image(\"fig1.png\")\n",
    "# fig.write_html(\"fig1.html\")"
   ]
  },
  {
   "cell_type": "markdown",
   "id": "19edfef6",
   "metadata": {},
   "source": [
    "## Artist Metrics"
   ]
  },
  {
   "cell_type": "code",
   "execution_count": 15,
   "id": "be7f5538",
   "metadata": {},
   "outputs": [
    {
     "data": {
      "application/vnd.jupyter.widget-view+json": {
       "model_id": "56a8b59febed4b9088e01700a81123f2",
       "version_major": 2,
       "version_minor": 0
      },
      "text/plain": [
       "VBox()"
      ]
     },
     "metadata": {},
     "output_type": "display_data"
    },
    {
     "data": {
      "application/vnd.jupyter.widget-view+json": {
       "model_id": "",
       "version_major": 2,
       "version_minor": 0
      },
      "text/plain": [
       "FloatProgress(value=0.0, bar_style='info', description='Progress:', layout=Layout(height='25px', width='50%'),…"
      ]
     },
     "metadata": {},
     "output_type": "display_data"
    }
   ],
   "source": [
    "artist_keys = table_body.map(lambda x : (x[column_index['get_artist_name']], x[column_index['get_key']]))\n",
    "artist_tempo = table_body.map(lambda x : (x[column_index['get_artist_name']], x[column_index['get_tempo']]))\n",
    "artist_loudness = table_body.map(lambda x : (x[column_index['get_artist_name']], x[column_index['get_loudness']]))"
   ]
  },
  {
   "cell_type": "code",
   "execution_count": 16,
   "id": "9f418cc1",
   "metadata": {},
   "outputs": [
    {
     "data": {
      "application/vnd.jupyter.widget-view+json": {
       "model_id": "3d1860c1efc942869df15f62aa2a134d",
       "version_major": 2,
       "version_minor": 0
      },
      "text/plain": [
       "VBox()"
      ]
     },
     "metadata": {},
     "output_type": "display_data"
    },
    {
     "data": {
      "application/vnd.jupyter.widget-view+json": {
       "model_id": "",
       "version_major": 2,
       "version_minor": 0
      },
      "text/plain": [
       "FloatProgress(value=0.0, bar_style='info', description='Progress:', layout=Layout(height='25px', width='50%'),…"
      ]
     },
     "metadata": {},
     "output_type": "display_data"
    }
   ],
   "source": [
    "artist_keys_agg = artist_keys.filter(lambda x: x[1] != '')\\\n",
    "                             .map(lambda x : (x[0], float(x[1])))\\\n",
    "                             .mapValues(lambda x: (x, 1))\\\n",
    "                             .reduceByKey(lambda a,b: (a[0]+b[0], a[1]+b[1]),numPartitions = ct_partitions)\\\n",
    "                             .mapValues(lambda x: x[0]/x[1])\n",
    "\n",
    "artist_tempo_agg = artist_tempo.filter(lambda x: x[1] != '')\\\n",
    "                               .map(lambda x : (x[0], float(x[1])))\\\n",
    "                               .mapValues(lambda x: (x, 1))\\\n",
    "                               .reduceByKey(lambda a,b: (a[0]+b[0], a[1]+b[1]),numPartitions = ct_partitions)\\\n",
    "                               .mapValues(lambda x: x[0]/x[1])\n",
    "\n",
    "artist_loudness_agg = artist_loudness.filter(lambda x: x[1] != '')\\\n",
    "                                     .map(lambda x : (x[0], float(x[1])))\\\n",
    "                                     .mapValues(lambda x: (x, 1))\\\n",
    "                                     .reduceByKey(lambda a,b: (a[0]+b[0], a[1]+b[1]),numPartitions = ct_partitions)\\\n",
    "                                     .mapValues(lambda x: x[0]/x[1])\\"
   ]
  },
  {
   "cell_type": "code",
   "execution_count": 17,
   "id": "d43a1ef6",
   "metadata": {},
   "outputs": [
    {
     "data": {
      "application/vnd.jupyter.widget-view+json": {
       "model_id": "c29ee8883aea455298e64a650ca1ef5b",
       "version_major": 2,
       "version_minor": 0
      },
      "text/plain": [
       "VBox()"
      ]
     },
     "metadata": {},
     "output_type": "display_data"
    },
    {
     "data": {
      "application/vnd.jupyter.widget-view+json": {
       "model_id": "",
       "version_major": 2,
       "version_minor": 0
      },
      "text/plain": [
       "FloatProgress(value=0.0, bar_style='info', description='Progress:', layout=Layout(height='25px', width='50%'),…"
      ]
     },
     "metadata": {},
     "output_type": "display_data"
    }
   ],
   "source": [
    "artist_metrics = artist_keys_agg.join(artist_tempo_agg)\n",
    "all_metrics = artist_metrics.join(artist_loudness_agg, numPartitions = ct_partitions).map(lambda x : \n",
    "                                [x[0], x[1][0][0], x[1][0][1], x[1][1]]).filter(\n",
    "                                lambda x : x[0] in hottest_artists_name[:20])"
   ]
  },
  {
   "cell_type": "code",
   "execution_count": 18,
   "id": "88374ebe",
   "metadata": {},
   "outputs": [
    {
     "data": {
      "application/vnd.jupyter.widget-view+json": {
       "model_id": "1a751507739245e39c457fbccc4e4ad7",
       "version_major": 2,
       "version_minor": 0
      },
      "text/plain": [
       "VBox()"
      ]
     },
     "metadata": {},
     "output_type": "display_data"
    },
    {
     "data": {
      "application/vnd.jupyter.widget-view+json": {
       "model_id": "",
       "version_major": 2,
       "version_minor": 0
      },
      "text/plain": [
       "FloatProgress(value=0.0, bar_style='info', description='Progress:', layout=Layout(height='25px', width='50%'),…"
      ]
     },
     "metadata": {},
     "output_type": "display_data"
    }
   ],
   "source": [
    "all_metrics_df = all_metrics.toDF()\n",
    "all_metrics_df.createOrReplaceTempView(\"all_metrics_df_view\")"
   ]
  },
  {
   "cell_type": "code",
   "execution_count": 19,
   "id": "9524206c",
   "metadata": {},
   "outputs": [
    {
     "data": {
      "application/vnd.jupyter.widget-view+json": {
       "model_id": "",
       "version_major": 2,
       "version_minor": 0
      },
      "text/plain": [
       "FloatProgress(value=0.0, bar_style='info', description='Progress:', layout=Layout(height='25px', width='50%'),…"
      ]
     },
     "metadata": {},
     "output_type": "display_data"
    },
    {
     "data": {
      "application/vnd.jupyter.widget-view+json": {
       "model_id": "a42056b073b64d65b38f26f172cea7ef",
       "version_major": 2,
       "version_minor": 0
      },
      "text/plain": [
       "VBox(children=(HBox(children=(HTML(value='Type:'), Button(description='Table', layout=Layout(width='70px'), st…"
      ]
     },
     "metadata": {},
     "output_type": "display_data"
    },
    {
     "data": {
      "application/vnd.jupyter.widget-view+json": {
       "model_id": "fb73624236ca4d2f9d1a80e63e3ffa8c",
       "version_major": 2,
       "version_minor": 0
      },
      "text/plain": [
       "Output()"
      ]
     },
     "metadata": {},
     "output_type": "display_data"
    }
   ],
   "source": [
    "%%sql -o all_metrics_df_tab\n",
    "SELECT * FROM all_metrics_df_view"
   ]
  },
  {
   "cell_type": "code",
   "execution_count": 20,
   "id": "404062f7",
   "metadata": {},
   "outputs": [
    {
     "data": {
      "application/vnd.plotly.v1+json": {
       "config": {
        "plotlyServerURL": "https://plot.ly"
       },
       "data": [
        {
         "customdata": [
          [
           "Michael Jackson"
          ],
          [
           "Daft Punk"
          ],
          [
           "Taio Cruz"
          ],
          [
           "Taio Cruz / Luciana Caporaso"
          ],
          [
           "Black Eyed Peas / Papa Roach"
          ],
          [
           "The Black Eyed Peas"
          ],
          [
           "Black Eyed Peas"
          ],
          [
           "Jason Aldean"
          ],
          [
           "Kanye West"
          ],
          [
           "Rihanna feat. J-Status"
          ],
          [
           "Coldplay"
          ],
          [
           "Trey Songz"
          ],
          [
           "Rihanna"
          ],
          [
           "Usher"
          ],
          [
           "Chris Brown featuring Sean Paul"
          ],
          [
           "Eminem / D-12"
          ],
          [
           "T.I. & DJ Drama"
          ],
          [
           "T.I."
          ],
          [
           "Eminem / Dr. Dre"
          ],
          [
           "Taylor Swift"
          ]
         ],
         "hovertemplate": "tempo=%{x}<br>loudness=%{y}<br>artist name=%{customdata[0]}<extra></extra>",
         "legendgroup": "",
         "marker": {
          "color": "#17BECF",
          "symbol": "circle"
         },
         "mode": "markers+text",
         "name": "",
         "orientation": "v",
         "showlegend": false,
         "text": [
          "Michael Jackson",
          "Daft Punk",
          "Taio Cruz",
          "Taio Cruz / Luciana Caporaso",
          "Black Eyed Peas / Papa Roach",
          "The Black Eyed Peas",
          "Black Eyed Peas",
          "Jason Aldean",
          "Kanye West",
          "Rihanna feat. J-Status",
          "Coldplay",
          "Trey Songz",
          "Rihanna",
          "Usher",
          "Chris Brown featuring Sean Paul",
          "Eminem / D-12",
          "T.I. & DJ Drama",
          "T.I.",
          "Eminem / Dr. Dre",
          "Taylor Swift"
         ],
         "textposition": "top center",
         "type": "scatter",
         "x": [
          99.9150625,
          118.90483333333333,
          66.829,
          85.367,
          94.425,
          127.976,
          145.942,
          139.971,
          130.1055,
          127.003,
          93.854,
          168.249,
          130.74683333333334,
          99.90100000000001,
          162.724,
          193.698,
          157.126,
          150.19925,
          160.285,
          135.472
         ],
         "xaxis": "x",
         "y": [
          -8.3075625,
          -9.834166666666667,
          -4.437,
          -4.794,
          -3.489,
          -6.387,
          -10.224666666666666,
          -5.2115,
          -7.6385,
          -11.891,
          -9.784333333333334,
          -11.488,
          -5.4206666666666665,
          -7.091,
          -6.653,
          -5.759,
          -8.458,
          -5.1455,
          -3.057,
          -3.979
         ],
         "yaxis": "y"
        }
       ],
       "layout": {
        "height": 600,
        "legend": {
         "tracegroupgap": 0
        },
        "margin": {
         "t": 60
        },
        "template": {
         "data": {
          "bar": [
           {
            "error_x": {
             "color": "#2a3f5f"
            },
            "error_y": {
             "color": "#2a3f5f"
            },
            "marker": {
             "line": {
              "color": "#E5ECF6",
              "width": 0.5
             }
            },
            "type": "bar"
           }
          ],
          "barpolar": [
           {
            "marker": {
             "line": {
              "color": "#E5ECF6",
              "width": 0.5
             }
            },
            "type": "barpolar"
           }
          ],
          "carpet": [
           {
            "aaxis": {
             "endlinecolor": "#2a3f5f",
             "gridcolor": "white",
             "linecolor": "white",
             "minorgridcolor": "white",
             "startlinecolor": "#2a3f5f"
            },
            "baxis": {
             "endlinecolor": "#2a3f5f",
             "gridcolor": "white",
             "linecolor": "white",
             "minorgridcolor": "white",
             "startlinecolor": "#2a3f5f"
            },
            "type": "carpet"
           }
          ],
          "choropleth": [
           {
            "colorbar": {
             "outlinewidth": 0,
             "ticks": ""
            },
            "type": "choropleth"
           }
          ],
          "contour": [
           {
            "colorbar": {
             "outlinewidth": 0,
             "ticks": ""
            },
            "colorscale": [
             [
              0,
              "#0d0887"
             ],
             [
              0.1111111111111111,
              "#46039f"
             ],
             [
              0.2222222222222222,
              "#7201a8"
             ],
             [
              0.3333333333333333,
              "#9c179e"
             ],
             [
              0.4444444444444444,
              "#bd3786"
             ],
             [
              0.5555555555555556,
              "#d8576b"
             ],
             [
              0.6666666666666666,
              "#ed7953"
             ],
             [
              0.7777777777777778,
              "#fb9f3a"
             ],
             [
              0.8888888888888888,
              "#fdca26"
             ],
             [
              1,
              "#f0f921"
             ]
            ],
            "type": "contour"
           }
          ],
          "contourcarpet": [
           {
            "colorbar": {
             "outlinewidth": 0,
             "ticks": ""
            },
            "type": "contourcarpet"
           }
          ],
          "heatmap": [
           {
            "colorbar": {
             "outlinewidth": 0,
             "ticks": ""
            },
            "colorscale": [
             [
              0,
              "#0d0887"
             ],
             [
              0.1111111111111111,
              "#46039f"
             ],
             [
              0.2222222222222222,
              "#7201a8"
             ],
             [
              0.3333333333333333,
              "#9c179e"
             ],
             [
              0.4444444444444444,
              "#bd3786"
             ],
             [
              0.5555555555555556,
              "#d8576b"
             ],
             [
              0.6666666666666666,
              "#ed7953"
             ],
             [
              0.7777777777777778,
              "#fb9f3a"
             ],
             [
              0.8888888888888888,
              "#fdca26"
             ],
             [
              1,
              "#f0f921"
             ]
            ],
            "type": "heatmap"
           }
          ],
          "heatmapgl": [
           {
            "colorbar": {
             "outlinewidth": 0,
             "ticks": ""
            },
            "colorscale": [
             [
              0,
              "#0d0887"
             ],
             [
              0.1111111111111111,
              "#46039f"
             ],
             [
              0.2222222222222222,
              "#7201a8"
             ],
             [
              0.3333333333333333,
              "#9c179e"
             ],
             [
              0.4444444444444444,
              "#bd3786"
             ],
             [
              0.5555555555555556,
              "#d8576b"
             ],
             [
              0.6666666666666666,
              "#ed7953"
             ],
             [
              0.7777777777777778,
              "#fb9f3a"
             ],
             [
              0.8888888888888888,
              "#fdca26"
             ],
             [
              1,
              "#f0f921"
             ]
            ],
            "type": "heatmapgl"
           }
          ],
          "histogram": [
           {
            "marker": {
             "colorbar": {
              "outlinewidth": 0,
              "ticks": ""
             }
            },
            "type": "histogram"
           }
          ],
          "histogram2d": [
           {
            "colorbar": {
             "outlinewidth": 0,
             "ticks": ""
            },
            "colorscale": [
             [
              0,
              "#0d0887"
             ],
             [
              0.1111111111111111,
              "#46039f"
             ],
             [
              0.2222222222222222,
              "#7201a8"
             ],
             [
              0.3333333333333333,
              "#9c179e"
             ],
             [
              0.4444444444444444,
              "#bd3786"
             ],
             [
              0.5555555555555556,
              "#d8576b"
             ],
             [
              0.6666666666666666,
              "#ed7953"
             ],
             [
              0.7777777777777778,
              "#fb9f3a"
             ],
             [
              0.8888888888888888,
              "#fdca26"
             ],
             [
              1,
              "#f0f921"
             ]
            ],
            "type": "histogram2d"
           }
          ],
          "histogram2dcontour": [
           {
            "colorbar": {
             "outlinewidth": 0,
             "ticks": ""
            },
            "colorscale": [
             [
              0,
              "#0d0887"
             ],
             [
              0.1111111111111111,
              "#46039f"
             ],
             [
              0.2222222222222222,
              "#7201a8"
             ],
             [
              0.3333333333333333,
              "#9c179e"
             ],
             [
              0.4444444444444444,
              "#bd3786"
             ],
             [
              0.5555555555555556,
              "#d8576b"
             ],
             [
              0.6666666666666666,
              "#ed7953"
             ],
             [
              0.7777777777777778,
              "#fb9f3a"
             ],
             [
              0.8888888888888888,
              "#fdca26"
             ],
             [
              1,
              "#f0f921"
             ]
            ],
            "type": "histogram2dcontour"
           }
          ],
          "mesh3d": [
           {
            "colorbar": {
             "outlinewidth": 0,
             "ticks": ""
            },
            "type": "mesh3d"
           }
          ],
          "parcoords": [
           {
            "line": {
             "colorbar": {
              "outlinewidth": 0,
              "ticks": ""
             }
            },
            "type": "parcoords"
           }
          ],
          "pie": [
           {
            "automargin": true,
            "type": "pie"
           }
          ],
          "scatter": [
           {
            "marker": {
             "colorbar": {
              "outlinewidth": 0,
              "ticks": ""
             }
            },
            "type": "scatter"
           }
          ],
          "scatter3d": [
           {
            "line": {
             "colorbar": {
              "outlinewidth": 0,
              "ticks": ""
             }
            },
            "marker": {
             "colorbar": {
              "outlinewidth": 0,
              "ticks": ""
             }
            },
            "type": "scatter3d"
           }
          ],
          "scattercarpet": [
           {
            "marker": {
             "colorbar": {
              "outlinewidth": 0,
              "ticks": ""
             }
            },
            "type": "scattercarpet"
           }
          ],
          "scattergeo": [
           {
            "marker": {
             "colorbar": {
              "outlinewidth": 0,
              "ticks": ""
             }
            },
            "type": "scattergeo"
           }
          ],
          "scattergl": [
           {
            "marker": {
             "colorbar": {
              "outlinewidth": 0,
              "ticks": ""
             }
            },
            "type": "scattergl"
           }
          ],
          "scattermapbox": [
           {
            "marker": {
             "colorbar": {
              "outlinewidth": 0,
              "ticks": ""
             }
            },
            "type": "scattermapbox"
           }
          ],
          "scatterpolar": [
           {
            "marker": {
             "colorbar": {
              "outlinewidth": 0,
              "ticks": ""
             }
            },
            "type": "scatterpolar"
           }
          ],
          "scatterpolargl": [
           {
            "marker": {
             "colorbar": {
              "outlinewidth": 0,
              "ticks": ""
             }
            },
            "type": "scatterpolargl"
           }
          ],
          "scatterternary": [
           {
            "marker": {
             "colorbar": {
              "outlinewidth": 0,
              "ticks": ""
             }
            },
            "type": "scatterternary"
           }
          ],
          "surface": [
           {
            "colorbar": {
             "outlinewidth": 0,
             "ticks": ""
            },
            "colorscale": [
             [
              0,
              "#0d0887"
             ],
             [
              0.1111111111111111,
              "#46039f"
             ],
             [
              0.2222222222222222,
              "#7201a8"
             ],
             [
              0.3333333333333333,
              "#9c179e"
             ],
             [
              0.4444444444444444,
              "#bd3786"
             ],
             [
              0.5555555555555556,
              "#d8576b"
             ],
             [
              0.6666666666666666,
              "#ed7953"
             ],
             [
              0.7777777777777778,
              "#fb9f3a"
             ],
             [
              0.8888888888888888,
              "#fdca26"
             ],
             [
              1,
              "#f0f921"
             ]
            ],
            "type": "surface"
           }
          ],
          "table": [
           {
            "cells": {
             "fill": {
              "color": "#EBF0F8"
             },
             "line": {
              "color": "white"
             }
            },
            "header": {
             "fill": {
              "color": "#C8D4E3"
             },
             "line": {
              "color": "white"
             }
            },
            "type": "table"
           }
          ]
         },
         "layout": {
          "annotationdefaults": {
           "arrowcolor": "#2a3f5f",
           "arrowhead": 0,
           "arrowwidth": 1
          },
          "autotypenumbers": "strict",
          "coloraxis": {
           "colorbar": {
            "outlinewidth": 0,
            "ticks": ""
           }
          },
          "colorscale": {
           "diverging": [
            [
             0,
             "#8e0152"
            ],
            [
             0.1,
             "#c51b7d"
            ],
            [
             0.2,
             "#de77ae"
            ],
            [
             0.3,
             "#f1b6da"
            ],
            [
             0.4,
             "#fde0ef"
            ],
            [
             0.5,
             "#f7f7f7"
            ],
            [
             0.6,
             "#e6f5d0"
            ],
            [
             0.7,
             "#b8e186"
            ],
            [
             0.8,
             "#7fbc41"
            ],
            [
             0.9,
             "#4d9221"
            ],
            [
             1,
             "#276419"
            ]
           ],
           "sequential": [
            [
             0,
             "#0d0887"
            ],
            [
             0.1111111111111111,
             "#46039f"
            ],
            [
             0.2222222222222222,
             "#7201a8"
            ],
            [
             0.3333333333333333,
             "#9c179e"
            ],
            [
             0.4444444444444444,
             "#bd3786"
            ],
            [
             0.5555555555555556,
             "#d8576b"
            ],
            [
             0.6666666666666666,
             "#ed7953"
            ],
            [
             0.7777777777777778,
             "#fb9f3a"
            ],
            [
             0.8888888888888888,
             "#fdca26"
            ],
            [
             1,
             "#f0f921"
            ]
           ],
           "sequentialminus": [
            [
             0,
             "#0d0887"
            ],
            [
             0.1111111111111111,
             "#46039f"
            ],
            [
             0.2222222222222222,
             "#7201a8"
            ],
            [
             0.3333333333333333,
             "#9c179e"
            ],
            [
             0.4444444444444444,
             "#bd3786"
            ],
            [
             0.5555555555555556,
             "#d8576b"
            ],
            [
             0.6666666666666666,
             "#ed7953"
            ],
            [
             0.7777777777777778,
             "#fb9f3a"
            ],
            [
             0.8888888888888888,
             "#fdca26"
            ],
            [
             1,
             "#f0f921"
            ]
           ]
          },
          "colorway": [
           "#636efa",
           "#EF553B",
           "#00cc96",
           "#ab63fa",
           "#FFA15A",
           "#19d3f3",
           "#FF6692",
           "#B6E880",
           "#FF97FF",
           "#FECB52"
          ],
          "font": {
           "color": "#2a3f5f"
          },
          "geo": {
           "bgcolor": "white",
           "lakecolor": "white",
           "landcolor": "#E5ECF6",
           "showlakes": true,
           "showland": true,
           "subunitcolor": "white"
          },
          "hoverlabel": {
           "align": "left"
          },
          "hovermode": "closest",
          "mapbox": {
           "style": "light"
          },
          "paper_bgcolor": "white",
          "plot_bgcolor": "#E5ECF6",
          "polar": {
           "angularaxis": {
            "gridcolor": "white",
            "linecolor": "white",
            "ticks": ""
           },
           "bgcolor": "#E5ECF6",
           "radialaxis": {
            "gridcolor": "white",
            "linecolor": "white",
            "ticks": ""
           }
          },
          "scene": {
           "xaxis": {
            "backgroundcolor": "#E5ECF6",
            "gridcolor": "white",
            "gridwidth": 2,
            "linecolor": "white",
            "showbackground": true,
            "ticks": "",
            "zerolinecolor": "white"
           },
           "yaxis": {
            "backgroundcolor": "#E5ECF6",
            "gridcolor": "white",
            "gridwidth": 2,
            "linecolor": "white",
            "showbackground": true,
            "ticks": "",
            "zerolinecolor": "white"
           },
           "zaxis": {
            "backgroundcolor": "#E5ECF6",
            "gridcolor": "white",
            "gridwidth": 2,
            "linecolor": "white",
            "showbackground": true,
            "ticks": "",
            "zerolinecolor": "white"
           }
          },
          "shapedefaults": {
           "line": {
            "color": "#2a3f5f"
           }
          },
          "ternary": {
           "aaxis": {
            "gridcolor": "white",
            "linecolor": "white",
            "ticks": ""
           },
           "baxis": {
            "gridcolor": "white",
            "linecolor": "white",
            "ticks": ""
           },
           "bgcolor": "#E5ECF6",
           "caxis": {
            "gridcolor": "white",
            "linecolor": "white",
            "ticks": ""
           }
          },
          "title": {
           "x": 0.05
          },
          "xaxis": {
           "automargin": true,
           "gridcolor": "white",
           "linecolor": "white",
           "ticks": "",
           "title": {
            "standoff": 15
           },
           "zerolinecolor": "white",
           "zerolinewidth": 2
          },
          "yaxis": {
           "automargin": true,
           "gridcolor": "white",
           "linecolor": "white",
           "ticks": "",
           "title": {
            "standoff": 15
           },
           "zerolinecolor": "white",
           "zerolinewidth": 2
          }
         }
        },
        "title": {
         "text": "Sound quality analysis of Popular artists"
        },
        "width": 1000,
        "xaxis": {
         "anchor": "y",
         "domain": [
          0,
          1
         ],
         "title": {
          "text": "tempo"
         }
        },
        "yaxis": {
         "anchor": "x",
         "domain": [
          0,
          1
         ],
         "title": {
          "text": "loudness"
         }
        }
       }
      },
      "text/html": [
       "<div>                            <div id=\"cd861df9-81be-4c98-8dca-ac41e14e8d0e\" class=\"plotly-graph-div\" style=\"height:600px; width:1000px;\"></div>            <script type=\"text/javascript\">                require([\"plotly\"], function(Plotly) {                    window.PLOTLYENV=window.PLOTLYENV || {};                                    if (document.getElementById(\"cd861df9-81be-4c98-8dca-ac41e14e8d0e\")) {                    Plotly.newPlot(                        \"cd861df9-81be-4c98-8dca-ac41e14e8d0e\",                        [{\"customdata\": [[\"Michael Jackson\"], [\"Daft Punk\"], [\"Taio Cruz\"], [\"Taio Cruz / Luciana Caporaso\"], [\"Black Eyed Peas / Papa Roach\"], [\"The Black Eyed Peas\"], [\"Black Eyed Peas\"], [\"Jason Aldean\"], [\"Kanye West\"], [\"Rihanna feat. J-Status\"], [\"Coldplay\"], [\"Trey Songz\"], [\"Rihanna\"], [\"Usher\"], [\"Chris Brown featuring Sean Paul\"], [\"Eminem / D-12\"], [\"T.I. & DJ Drama\"], [\"T.I.\"], [\"Eminem / Dr. Dre\"], [\"Taylor Swift\"]], \"hovertemplate\": \"tempo=%{x}<br>loudness=%{y}<br>artist name=%{customdata[0]}<extra></extra>\", \"legendgroup\": \"\", \"marker\": {\"color\": \"#17BECF\", \"symbol\": \"circle\"}, \"mode\": \"markers+text\", \"name\": \"\", \"orientation\": \"v\", \"showlegend\": false, \"text\": [\"Michael Jackson\", \"Daft Punk\", \"Taio Cruz\", \"Taio Cruz / Luciana Caporaso\", \"Black Eyed Peas / Papa Roach\", \"The Black Eyed Peas\", \"Black Eyed Peas\", \"Jason Aldean\", \"Kanye West\", \"Rihanna feat. J-Status\", \"Coldplay\", \"Trey Songz\", \"Rihanna\", \"Usher\", \"Chris Brown featuring Sean Paul\", \"Eminem / D-12\", \"T.I. & DJ Drama\", \"T.I.\", \"Eminem / Dr. Dre\", \"Taylor Swift\"], \"textposition\": \"top center\", \"type\": \"scatter\", \"x\": [99.9150625, 118.90483333333333, 66.829, 85.367, 94.425, 127.976, 145.942, 139.971, 130.1055, 127.003, 93.854, 168.249, 130.74683333333334, 99.90100000000001, 162.724, 193.698, 157.126, 150.19925, 160.285, 135.472], \"xaxis\": \"x\", \"y\": [-8.3075625, -9.834166666666667, -4.437, -4.794, -3.489, -6.387, -10.224666666666666, -5.2115, -7.6385, -11.891, -9.784333333333334, -11.488, -5.4206666666666665, -7.091, -6.653, -5.759, -8.458, -5.1455, -3.057, -3.979], \"yaxis\": \"y\"}],                        {\"height\": 600, \"legend\": {\"tracegroupgap\": 0}, \"margin\": {\"t\": 60}, \"template\": {\"data\": {\"bar\": [{\"error_x\": {\"color\": \"#2a3f5f\"}, \"error_y\": {\"color\": \"#2a3f5f\"}, \"marker\": {\"line\": {\"color\": \"#E5ECF6\", \"width\": 0.5}}, \"type\": \"bar\"}], \"barpolar\": [{\"marker\": {\"line\": {\"color\": \"#E5ECF6\", \"width\": 0.5}}, \"type\": \"barpolar\"}], \"carpet\": [{\"aaxis\": {\"endlinecolor\": \"#2a3f5f\", \"gridcolor\": \"white\", \"linecolor\": \"white\", \"minorgridcolor\": \"white\", \"startlinecolor\": \"#2a3f5f\"}, \"baxis\": {\"endlinecolor\": \"#2a3f5f\", \"gridcolor\": \"white\", \"linecolor\": \"white\", \"minorgridcolor\": \"white\", \"startlinecolor\": \"#2a3f5f\"}, \"type\": \"carpet\"}], \"choropleth\": [{\"colorbar\": {\"outlinewidth\": 0, \"ticks\": \"\"}, \"type\": \"choropleth\"}], \"contour\": [{\"colorbar\": {\"outlinewidth\": 0, \"ticks\": \"\"}, \"colorscale\": [[0.0, \"#0d0887\"], [0.1111111111111111, \"#46039f\"], [0.2222222222222222, \"#7201a8\"], [0.3333333333333333, \"#9c179e\"], [0.4444444444444444, \"#bd3786\"], [0.5555555555555556, \"#d8576b\"], [0.6666666666666666, \"#ed7953\"], [0.7777777777777778, \"#fb9f3a\"], [0.8888888888888888, \"#fdca26\"], [1.0, \"#f0f921\"]], \"type\": \"contour\"}], \"contourcarpet\": [{\"colorbar\": {\"outlinewidth\": 0, \"ticks\": \"\"}, \"type\": \"contourcarpet\"}], \"heatmap\": [{\"colorbar\": {\"outlinewidth\": 0, \"ticks\": \"\"}, \"colorscale\": [[0.0, \"#0d0887\"], [0.1111111111111111, \"#46039f\"], [0.2222222222222222, \"#7201a8\"], [0.3333333333333333, \"#9c179e\"], [0.4444444444444444, \"#bd3786\"], [0.5555555555555556, \"#d8576b\"], [0.6666666666666666, \"#ed7953\"], [0.7777777777777778, \"#fb9f3a\"], [0.8888888888888888, \"#fdca26\"], [1.0, \"#f0f921\"]], \"type\": \"heatmap\"}], \"heatmapgl\": [{\"colorbar\": {\"outlinewidth\": 0, \"ticks\": \"\"}, \"colorscale\": [[0.0, \"#0d0887\"], [0.1111111111111111, \"#46039f\"], [0.2222222222222222, \"#7201a8\"], [0.3333333333333333, \"#9c179e\"], [0.4444444444444444, \"#bd3786\"], [0.5555555555555556, \"#d8576b\"], [0.6666666666666666, \"#ed7953\"], [0.7777777777777778, \"#fb9f3a\"], [0.8888888888888888, \"#fdca26\"], [1.0, \"#f0f921\"]], \"type\": \"heatmapgl\"}], \"histogram\": [{\"marker\": {\"colorbar\": {\"outlinewidth\": 0, \"ticks\": \"\"}}, \"type\": \"histogram\"}], \"histogram2d\": [{\"colorbar\": {\"outlinewidth\": 0, \"ticks\": \"\"}, \"colorscale\": [[0.0, \"#0d0887\"], [0.1111111111111111, \"#46039f\"], [0.2222222222222222, \"#7201a8\"], [0.3333333333333333, \"#9c179e\"], [0.4444444444444444, \"#bd3786\"], [0.5555555555555556, \"#d8576b\"], [0.6666666666666666, \"#ed7953\"], [0.7777777777777778, \"#fb9f3a\"], [0.8888888888888888, \"#fdca26\"], [1.0, \"#f0f921\"]], \"type\": \"histogram2d\"}], \"histogram2dcontour\": [{\"colorbar\": {\"outlinewidth\": 0, \"ticks\": \"\"}, \"colorscale\": [[0.0, \"#0d0887\"], [0.1111111111111111, \"#46039f\"], [0.2222222222222222, \"#7201a8\"], [0.3333333333333333, \"#9c179e\"], [0.4444444444444444, \"#bd3786\"], [0.5555555555555556, \"#d8576b\"], [0.6666666666666666, \"#ed7953\"], [0.7777777777777778, \"#fb9f3a\"], [0.8888888888888888, \"#fdca26\"], [1.0, \"#f0f921\"]], \"type\": \"histogram2dcontour\"}], \"mesh3d\": [{\"colorbar\": {\"outlinewidth\": 0, \"ticks\": \"\"}, \"type\": \"mesh3d\"}], \"parcoords\": [{\"line\": {\"colorbar\": {\"outlinewidth\": 0, \"ticks\": \"\"}}, \"type\": \"parcoords\"}], \"pie\": [{\"automargin\": true, \"type\": \"pie\"}], \"scatter\": [{\"marker\": {\"colorbar\": {\"outlinewidth\": 0, \"ticks\": \"\"}}, \"type\": \"scatter\"}], \"scatter3d\": [{\"line\": {\"colorbar\": {\"outlinewidth\": 0, \"ticks\": \"\"}}, \"marker\": {\"colorbar\": {\"outlinewidth\": 0, \"ticks\": \"\"}}, \"type\": \"scatter3d\"}], \"scattercarpet\": [{\"marker\": {\"colorbar\": {\"outlinewidth\": 0, \"ticks\": \"\"}}, \"type\": \"scattercarpet\"}], \"scattergeo\": [{\"marker\": {\"colorbar\": {\"outlinewidth\": 0, \"ticks\": \"\"}}, \"type\": \"scattergeo\"}], \"scattergl\": [{\"marker\": {\"colorbar\": {\"outlinewidth\": 0, \"ticks\": \"\"}}, \"type\": \"scattergl\"}], \"scattermapbox\": [{\"marker\": {\"colorbar\": {\"outlinewidth\": 0, \"ticks\": \"\"}}, \"type\": \"scattermapbox\"}], \"scatterpolar\": [{\"marker\": {\"colorbar\": {\"outlinewidth\": 0, \"ticks\": \"\"}}, \"type\": \"scatterpolar\"}], \"scatterpolargl\": [{\"marker\": {\"colorbar\": {\"outlinewidth\": 0, \"ticks\": \"\"}}, \"type\": \"scatterpolargl\"}], \"scatterternary\": [{\"marker\": {\"colorbar\": {\"outlinewidth\": 0, \"ticks\": \"\"}}, \"type\": \"scatterternary\"}], \"surface\": [{\"colorbar\": {\"outlinewidth\": 0, \"ticks\": \"\"}, \"colorscale\": [[0.0, \"#0d0887\"], [0.1111111111111111, \"#46039f\"], [0.2222222222222222, \"#7201a8\"], [0.3333333333333333, \"#9c179e\"], [0.4444444444444444, \"#bd3786\"], [0.5555555555555556, \"#d8576b\"], [0.6666666666666666, \"#ed7953\"], [0.7777777777777778, \"#fb9f3a\"], [0.8888888888888888, \"#fdca26\"], [1.0, \"#f0f921\"]], \"type\": \"surface\"}], \"table\": [{\"cells\": {\"fill\": {\"color\": \"#EBF0F8\"}, \"line\": {\"color\": \"white\"}}, \"header\": {\"fill\": {\"color\": \"#C8D4E3\"}, \"line\": {\"color\": \"white\"}}, \"type\": \"table\"}]}, \"layout\": {\"annotationdefaults\": {\"arrowcolor\": \"#2a3f5f\", \"arrowhead\": 0, \"arrowwidth\": 1}, \"autotypenumbers\": \"strict\", \"coloraxis\": {\"colorbar\": {\"outlinewidth\": 0, \"ticks\": \"\"}}, \"colorscale\": {\"diverging\": [[0, \"#8e0152\"], [0.1, \"#c51b7d\"], [0.2, \"#de77ae\"], [0.3, \"#f1b6da\"], [0.4, \"#fde0ef\"], [0.5, \"#f7f7f7\"], [0.6, \"#e6f5d0\"], [0.7, \"#b8e186\"], [0.8, \"#7fbc41\"], [0.9, \"#4d9221\"], [1, \"#276419\"]], \"sequential\": [[0.0, \"#0d0887\"], [0.1111111111111111, \"#46039f\"], [0.2222222222222222, \"#7201a8\"], [0.3333333333333333, \"#9c179e\"], [0.4444444444444444, \"#bd3786\"], [0.5555555555555556, \"#d8576b\"], [0.6666666666666666, \"#ed7953\"], [0.7777777777777778, \"#fb9f3a\"], [0.8888888888888888, \"#fdca26\"], [1.0, \"#f0f921\"]], \"sequentialminus\": [[0.0, \"#0d0887\"], [0.1111111111111111, \"#46039f\"], [0.2222222222222222, \"#7201a8\"], [0.3333333333333333, \"#9c179e\"], [0.4444444444444444, \"#bd3786\"], [0.5555555555555556, \"#d8576b\"], [0.6666666666666666, \"#ed7953\"], [0.7777777777777778, \"#fb9f3a\"], [0.8888888888888888, \"#fdca26\"], [1.0, \"#f0f921\"]]}, \"colorway\": [\"#636efa\", \"#EF553B\", \"#00cc96\", \"#ab63fa\", \"#FFA15A\", \"#19d3f3\", \"#FF6692\", \"#B6E880\", \"#FF97FF\", \"#FECB52\"], \"font\": {\"color\": \"#2a3f5f\"}, \"geo\": {\"bgcolor\": \"white\", \"lakecolor\": \"white\", \"landcolor\": \"#E5ECF6\", \"showlakes\": true, \"showland\": true, \"subunitcolor\": \"white\"}, \"hoverlabel\": {\"align\": \"left\"}, \"hovermode\": \"closest\", \"mapbox\": {\"style\": \"light\"}, \"paper_bgcolor\": \"white\", \"plot_bgcolor\": \"#E5ECF6\", \"polar\": {\"angularaxis\": {\"gridcolor\": \"white\", \"linecolor\": \"white\", \"ticks\": \"\"}, \"bgcolor\": \"#E5ECF6\", \"radialaxis\": {\"gridcolor\": \"white\", \"linecolor\": \"white\", \"ticks\": \"\"}}, \"scene\": {\"xaxis\": {\"backgroundcolor\": \"#E5ECF6\", \"gridcolor\": \"white\", \"gridwidth\": 2, \"linecolor\": \"white\", \"showbackground\": true, \"ticks\": \"\", \"zerolinecolor\": \"white\"}, \"yaxis\": {\"backgroundcolor\": \"#E5ECF6\", \"gridcolor\": \"white\", \"gridwidth\": 2, \"linecolor\": \"white\", \"showbackground\": true, \"ticks\": \"\", \"zerolinecolor\": \"white\"}, \"zaxis\": {\"backgroundcolor\": \"#E5ECF6\", \"gridcolor\": \"white\", \"gridwidth\": 2, \"linecolor\": \"white\", \"showbackground\": true, \"ticks\": \"\", \"zerolinecolor\": \"white\"}}, \"shapedefaults\": {\"line\": {\"color\": \"#2a3f5f\"}}, \"ternary\": {\"aaxis\": {\"gridcolor\": \"white\", \"linecolor\": \"white\", \"ticks\": \"\"}, \"baxis\": {\"gridcolor\": \"white\", \"linecolor\": \"white\", \"ticks\": \"\"}, \"bgcolor\": \"#E5ECF6\", \"caxis\": {\"gridcolor\": \"white\", \"linecolor\": \"white\", \"ticks\": \"\"}}, \"title\": {\"x\": 0.05}, \"xaxis\": {\"automargin\": true, \"gridcolor\": \"white\", \"linecolor\": \"white\", \"ticks\": \"\", \"title\": {\"standoff\": 15}, \"zerolinecolor\": \"white\", \"zerolinewidth\": 2}, \"yaxis\": {\"automargin\": true, \"gridcolor\": \"white\", \"linecolor\": \"white\", \"ticks\": \"\", \"title\": {\"standoff\": 15}, \"zerolinecolor\": \"white\", \"zerolinewidth\": 2}}}, \"title\": {\"text\": \"Sound quality analysis of Popular artists\"}, \"width\": 1000, \"xaxis\": {\"anchor\": \"y\", \"domain\": [0.0, 1.0], \"title\": {\"text\": \"tempo\"}}, \"yaxis\": {\"anchor\": \"x\", \"domain\": [0.0, 1.0], \"title\": {\"text\": \"loudness\"}}},                        {\"responsive\": true}                    ).then(function(){\n",
       "                            \n",
       "var gd = document.getElementById('cd861df9-81be-4c98-8dca-ac41e14e8d0e');\n",
       "var x = new MutationObserver(function (mutations, observer) {{\n",
       "        var display = window.getComputedStyle(gd).display;\n",
       "        if (!display || display === 'none') {{\n",
       "            console.log([gd, 'removed!']);\n",
       "            Plotly.purge(gd);\n",
       "            observer.disconnect();\n",
       "        }}\n",
       "}});\n",
       "\n",
       "// Listen for the removal of the full notebook cells\n",
       "var notebookContainer = gd.closest('#notebook-container');\n",
       "if (notebookContainer) {{\n",
       "    x.observe(notebookContainer, {childList: true});\n",
       "}}\n",
       "\n",
       "// Listen for the clearing of the current output cell\n",
       "var outputEl = gd.closest('.output');\n",
       "if (outputEl) {{\n",
       "    x.observe(outputEl, {childList: true});\n",
       "}}\n",
       "\n",
       "                        })                };                });            </script>        </div>"
      ]
     },
     "metadata": {},
     "output_type": "display_data"
    }
   ],
   "source": [
    "%%local\n",
    "fig = px.scatter(all_metrics_df_tab, x='_3', \n",
    "                 y='_4',\n",
    "                 \n",
    "                 #color = '_1',\n",
    "                 text = '_1',\n",
    "\n",
    "                 labels={\n",
    "                     \"_1\": \"artist name\",\n",
    "                     \"_2\": \"keys\",\n",
    "                     \"_3\": \"tempo\",\n",
    "                     \"_4\": \"loudness\"\n",
    "                     \n",
    "                 },\n",
    "                 color_discrete_sequence=px.colors.qualitative.D3_r,\n",
    "                 hover_data=['_1'], log_x=False, size_max=60)\n",
    "\n",
    "\n",
    "fig.update_traces(textposition='top center')\n",
    "\n",
    "fig.update_traces(marker=dict(size=10,\n",
    "                              line=dict(width=2\n",
    "                                        )),\n",
    "                  selector=dict(mode='markers'))\n",
    "\n",
    "fig.update_layout(\n",
    "    height=600,\n",
    "    width=1000,\n",
    "    title_text='Sound quality analysis of Popular artists'\n",
    "    \n",
    ")\n",
    "\n",
    "\n",
    "fig.show()\n",
    "\n",
    "# fig.write_image(\"fig3.png\")\n",
    "# fig.write_html(\"fig3.html\")"
   ]
  },
  {
   "cell_type": "markdown",
   "id": "73f2ef99",
   "metadata": {},
   "source": [
    "## Popular Songs of popular artists"
   ]
  },
  {
   "cell_type": "code",
   "execution_count": 21,
   "id": "0dbd6b8c",
   "metadata": {},
   "outputs": [
    {
     "data": {
      "application/vnd.jupyter.widget-view+json": {
       "model_id": "96bbc068b4474a2bb4b9132ef82d3905",
       "version_major": 2,
       "version_minor": 0
      },
      "text/plain": [
       "VBox()"
      ]
     },
     "metadata": {},
     "output_type": "display_data"
    },
    {
     "data": {
      "application/vnd.jupyter.widget-view+json": {
       "model_id": "",
       "version_major": 2,
       "version_minor": 0
      },
      "text/plain": [
       "FloatProgress(value=0.0, bar_style='info', description='Progress:', layout=Layout(height='25px', width='50%'),…"
      ]
     },
     "metadata": {},
     "output_type": "display_data"
    }
   ],
   "source": [
    "hottest_songs_rdd = table_body.map(lambda x : (x[column_index['get_artist_name']],\n",
    "                                           x[column_index['get_title']], \n",
    "                                           x[column_index['get_song_hotttnesss']],\n",
    "                                           x[column_index['get_artist_hotttnesss']],\n",
    "                                              x[column_index['get_duration']],\n",
    "                                              x[column_index['get_loudness']])).cache()"
   ]
  },
  {
   "cell_type": "code",
   "execution_count": 22,
   "id": "901901d5",
   "metadata": {},
   "outputs": [
    {
     "data": {
      "application/vnd.jupyter.widget-view+json": {
       "model_id": "a298583e3afc4022842b4c544cb67472",
       "version_major": 2,
       "version_minor": 0
      },
      "text/plain": [
       "VBox()"
      ]
     },
     "metadata": {},
     "output_type": "display_data"
    },
    {
     "data": {
      "application/vnd.jupyter.widget-view+json": {
       "model_id": "",
       "version_major": 2,
       "version_minor": 0
      },
      "text/plain": [
       "FloatProgress(value=0.0, bar_style='info', description='Progress:', layout=Layout(height='25px', width='50%'),…"
      ]
     },
     "metadata": {},
     "output_type": "display_data"
    }
   ],
   "source": [
    "hottest_songs = hottest_songs_rdd.filter(lambda x : x[2] != ''\n",
    "                     and x[3] != '' and x[4] != '' and x[5] != '').map(lambda x: (x[0],x[1],float(x[2]), \n",
    "                    float(x[3]), float(x[4]), float(x[5]))).sortBy(lambda x : x[3], \n",
    "                    ascending=False, numPartitions = ct_partitions).map(lambda x : [x[0], x[1].split('(')[0], x[2], x[3], x[4],\n",
    "                                                     x[5]]).filter(lambda x: x[2]>0.97)#.filter(lambda x: x[0] \n",
    "                                                    #in hottest_artists_name[:30])"
   ]
  },
  {
   "cell_type": "code",
   "execution_count": 23,
   "id": "544cdf6e",
   "metadata": {},
   "outputs": [
    {
     "data": {
      "application/vnd.jupyter.widget-view+json": {
       "model_id": "797a20a05d8a47d08614fe8cbdbfcef0",
       "version_major": 2,
       "version_minor": 0
      },
      "text/plain": [
       "VBox()"
      ]
     },
     "metadata": {},
     "output_type": "display_data"
    },
    {
     "data": {
      "application/vnd.jupyter.widget-view+json": {
       "model_id": "",
       "version_major": 2,
       "version_minor": 0
      },
      "text/plain": [
       "FloatProgress(value=0.0, bar_style='info', description='Progress:', layout=Layout(height='25px', width='50%'),…"
      ]
     },
     "metadata": {},
     "output_type": "display_data"
    }
   ],
   "source": [
    "hottest_songs_pop_artists = hottest_songs.filter(lambda x: x[0] in hottest_artists_name[:20])"
   ]
  },
  {
   "cell_type": "code",
   "execution_count": 24,
   "id": "fdd9438c",
   "metadata": {},
   "outputs": [
    {
     "data": {
      "application/vnd.jupyter.widget-view+json": {
       "model_id": "5a73170f6d5745a6993e6d9e809da833",
       "version_major": 2,
       "version_minor": 0
      },
      "text/plain": [
       "VBox()"
      ]
     },
     "metadata": {},
     "output_type": "display_data"
    },
    {
     "data": {
      "application/vnd.jupyter.widget-view+json": {
       "model_id": "",
       "version_major": 2,
       "version_minor": 0
      },
      "text/plain": [
       "FloatProgress(value=0.0, bar_style='info', description='Progress:', layout=Layout(height='25px', width='50%'),…"
      ]
     },
     "metadata": {},
     "output_type": "display_data"
    }
   ],
   "source": [
    "hottest_songs_df = hottest_songs.toDF()\n",
    "hottest_songs_df.createOrReplaceTempView(\"hottest_songs_df_view\")"
   ]
  },
  {
   "cell_type": "code",
   "execution_count": 25,
   "id": "459cc2bb",
   "metadata": {},
   "outputs": [
    {
     "data": {
      "application/vnd.jupyter.widget-view+json": {
       "model_id": "",
       "version_major": 2,
       "version_minor": 0
      },
      "text/plain": [
       "FloatProgress(value=0.0, bar_style='info', description='Progress:', layout=Layout(height='25px', width='50%'),…"
      ]
     },
     "metadata": {},
     "output_type": "display_data"
    },
    {
     "data": {
      "application/vnd.jupyter.widget-view+json": {
       "model_id": "b711c221e20242699a45202523a72ed4",
       "version_major": 2,
       "version_minor": 0
      },
      "text/plain": [
       "VBox(children=(HBox(children=(HTML(value='Type:'), Button(description='Table', layout=Layout(width='70px'), st…"
      ]
     },
     "metadata": {},
     "output_type": "display_data"
    },
    {
     "data": {
      "application/vnd.jupyter.widget-view+json": {
       "model_id": "77977f20f6964cbf83d59fe126f007f6",
       "version_major": 2,
       "version_minor": 0
      },
      "text/plain": [
       "Output()"
      ]
     },
     "metadata": {},
     "output_type": "display_data"
    }
   ],
   "source": [
    "%%sql -o hottest_songs_df_tab\n",
    "SELECT * FROM hottest_songs_df_view"
   ]
  },
  {
   "cell_type": "code",
   "execution_count": 26,
   "id": "00fa5858",
   "metadata": {},
   "outputs": [
    {
     "data": {
      "application/vnd.jupyter.widget-view+json": {
       "model_id": "d01118a6025e4da2a096740f4643d3f3",
       "version_major": 2,
       "version_minor": 0
      },
      "text/plain": [
       "VBox()"
      ]
     },
     "metadata": {},
     "output_type": "display_data"
    },
    {
     "data": {
      "application/vnd.jupyter.widget-view+json": {
       "model_id": "",
       "version_major": 2,
       "version_minor": 0
      },
      "text/plain": [
       "FloatProgress(value=0.0, bar_style='info', description='Progress:', layout=Layout(height='25px', width='50%'),…"
      ]
     },
     "metadata": {},
     "output_type": "display_data"
    }
   ],
   "source": [
    "hottest_songs_pop_df = hottest_songs_pop_artists.toDF()\n",
    "hottest_songs_pop_df.createOrReplaceTempView(\"hottest_songs_pop_view\")"
   ]
  },
  {
   "cell_type": "code",
   "execution_count": 27,
   "id": "abdee535",
   "metadata": {},
   "outputs": [
    {
     "data": {
      "application/vnd.jupyter.widget-view+json": {
       "model_id": "",
       "version_major": 2,
       "version_minor": 0
      },
      "text/plain": [
       "FloatProgress(value=0.0, bar_style='info', description='Progress:', layout=Layout(height='25px', width='50%'),…"
      ]
     },
     "metadata": {},
     "output_type": "display_data"
    },
    {
     "data": {
      "application/vnd.jupyter.widget-view+json": {
       "model_id": "6eedb87f5506467eacde28b559a3c1f2",
       "version_major": 2,
       "version_minor": 0
      },
      "text/plain": [
       "VBox(children=(HBox(children=(HTML(value='Type:'), Button(description='Table', layout=Layout(width='70px'), st…"
      ]
     },
     "metadata": {},
     "output_type": "display_data"
    },
    {
     "data": {
      "application/vnd.jupyter.widget-view+json": {
       "model_id": "82aeea7f71e2476aa3351164673e4378",
       "version_major": 2,
       "version_minor": 0
      },
      "text/plain": [
       "Output()"
      ]
     },
     "metadata": {},
     "output_type": "display_data"
    }
   ],
   "source": [
    "%%sql -o hottest_songs_pop_tab\n",
    "SELECT * FROM hottest_songs_pop_view"
   ]
  },
  {
   "cell_type": "code",
   "execution_count": 28,
   "id": "7e9f1df6",
   "metadata": {},
   "outputs": [
    {
     "data": {
      "application/vnd.plotly.v1+json": {
       "config": {
        "plotlyServerURL": "https://plot.ly"
       },
       "data": [
        {
         "customdata": [
          [
           "Harder Better Faster Stronger"
          ]
         ],
         "hovertemplate": "Artist=Daft Punk<br>song hotness=%{x}<br>loudness=%{y}<br>_5=%{marker.size}<br>song=%{customdata[0]}<extra></extra>",
         "legendgroup": "Daft Punk",
         "marker": {
          "color": "rgb(127, 60, 141)",
          "size": [
           223.60771
          ],
          "sizemode": "area",
          "sizeref": 0.37285392222222224,
          "symbol": "circle"
         },
         "mode": "markers+text",
         "name": "Daft Punk",
         "orientation": "v",
         "showlegend": true,
         "text": [
          "Harder Better Faster Stronger"
         ],
         "textposition": "bottom center",
         "type": "scatter",
         "x": [
          1
         ],
         "xaxis": "x",
         "y": [
          -9.953
         ],
         "yaxis": "y"
        },
        {
         "customdata": [
          [
           "Cold Desert"
          ]
         ],
         "hovertemplate": "Artist=Kings Of Leon<br>song hotness=%{x}<br>loudness=%{y}<br>_5=%{marker.size}<br>song=%{customdata[0]}<extra></extra>",
         "legendgroup": "Kings Of Leon",
         "marker": {
          "color": "rgb(17, 165, 121)",
          "size": [
           334.75873
          ],
          "sizemode": "area",
          "sizeref": 0.37285392222222224,
          "symbol": "circle"
         },
         "mode": "markers+text",
         "name": "Kings Of Leon",
         "orientation": "v",
         "showlegend": true,
         "text": [
          "Cold Desert"
         ],
         "textposition": "bottom center",
         "type": "scatter",
         "x": [
          0.9898369977230832
         ],
         "xaxis": "x",
         "y": [
          -9.24
         ],
         "yaxis": "y"
        },
        {
         "customdata": [
          [
           "All The Right Moves"
          ]
         ],
         "hovertemplate": "Artist=OneRepublic<br>song hotness=%{x}<br>loudness=%{y}<br>_5=%{marker.size}<br>song=%{customdata[0]}<extra></extra>",
         "legendgroup": "OneRepublic",
         "marker": {
          "color": "rgb(57, 105, 172)",
          "size": [
           238.70649
          ],
          "sizemode": "area",
          "sizeref": 0.37285392222222224,
          "symbol": "circle"
         },
         "mode": "markers+text",
         "name": "OneRepublic",
         "orientation": "v",
         "showlegend": true,
         "text": [
          "All The Right Moves"
         ],
         "textposition": "bottom center",
         "type": "scatter",
         "x": [
          1
         ],
         "xaxis": "x",
         "y": [
          -4.504
         ],
         "yaxis": "y"
        },
        {
         "customdata": [
          [
           "Burn It To The Ground "
          ]
         ],
         "hovertemplate": "Artist=Nickelback<br>song hotness=%{x}<br>loudness=%{y}<br>_5=%{marker.size}<br>song=%{customdata[0]}<extra></extra>",
         "legendgroup": "Nickelback",
         "marker": {
          "color": "rgb(242, 183, 1)",
          "size": [
           208.71791
          ],
          "sizemode": "area",
          "sizeref": 0.37285392222222224,
          "symbol": "circle"
         },
         "mode": "markers+text",
         "name": "Nickelback",
         "orientation": "v",
         "showlegend": true,
         "text": [
          "Burn It To The Ground "
         ],
         "textposition": "bottom center",
         "type": "scatter",
         "x": [
          0.9839558684190424
         ],
         "xaxis": "x",
         "y": [
          -3.363
         ],
         "yaxis": "y"
        },
        {
         "customdata": [
          [
           "Lucky "
          ]
         ],
         "hovertemplate": "Artist=Jason Mraz & Colbie Caillat<br>song hotness=%{x}<br>loudness=%{y}<br>_5=%{marker.size}<br>song=%{customdata[0]}<extra></extra>",
         "legendgroup": "Jason Mraz & Colbie Caillat",
         "marker": {
          "color": "rgb(231, 63, 116)",
          "size": [
           189.6224
          ],
          "sizemode": "area",
          "sizeref": 0.37285392222222224,
          "symbol": "circle"
         },
         "mode": "markers+text",
         "name": "Jason Mraz & Colbie Caillat",
         "orientation": "v",
         "showlegend": true,
         "text": [
          "Lucky "
         ],
         "textposition": "bottom center",
         "type": "scatter",
         "x": [
          0.9814329462035004
         ],
         "xaxis": "x",
         "y": [
          -8.414
         ],
         "yaxis": "y"
        },
        {
         "customdata": [
          [
           "I Run To You"
          ]
         ],
         "hovertemplate": "Artist=Lady Antebellum<br>song hotness=%{x}<br>loudness=%{y}<br>_5=%{marker.size}<br>song=%{customdata[0]}<extra></extra>",
         "legendgroup": "Lady Antebellum",
         "marker": {
          "color": "rgb(128, 186, 90)",
          "size": [
           258.61179
          ],
          "sizemode": "area",
          "sizeref": 0.37285392222222224,
          "symbol": "circle"
         },
         "mode": "markers+text",
         "name": "Lady Antebellum",
         "orientation": "v",
         "showlegend": true,
         "text": [
          "I Run To You"
         ],
         "textposition": "bottom center",
         "type": "scatter",
         "x": [
          0.9986813247516756
         ],
         "xaxis": "x",
         "y": [
          -6.387
         ],
         "yaxis": "y"
        },
        {
         "customdata": [
          [
           "Gunpowder & Lead"
          ]
         ],
         "hovertemplate": "Artist=Miranda Lambert<br>song hotness=%{x}<br>loudness=%{y}<br>_5=%{marker.size}<br>song=%{customdata[0]}<extra></extra>",
         "legendgroup": "Miranda Lambert",
         "marker": {
          "color": "rgb(230, 131, 16)",
          "size": [
           191.68608
          ],
          "sizemode": "area",
          "sizeref": 0.37285392222222224,
          "symbol": "circle"
         },
         "mode": "markers+text",
         "name": "Miranda Lambert",
         "orientation": "v",
         "showlegend": true,
         "text": [
          "Gunpowder & Lead"
         ],
         "textposition": "bottom center",
         "type": "scatter",
         "x": [
          0.9801386862031494
         ],
         "xaxis": "x",
         "y": [
          -4.139
         ],
         "yaxis": "y"
        },
        {
         "customdata": [
          [
           "Knock You Down"
          ]
         ],
         "hovertemplate": "Artist=Keri Hilson / Kanye West / Ne-Yo<br>song hotness=%{x}<br>loudness=%{y}<br>_5=%{marker.size}<br>song=%{customdata[0]}<extra></extra>",
         "legendgroup": "Keri Hilson / Kanye West / Ne-Yo",
         "marker": {
          "color": "rgb(0, 134, 149)",
          "size": [
           326.13832
          ],
          "sizemode": "area",
          "sizeref": 0.37285392222222224,
          "symbol": "circle"
         },
         "mode": "markers+text",
         "name": "Keri Hilson / Kanye West / Ne-Yo",
         "orientation": "v",
         "showlegend": true,
         "text": [
          "Knock You Down"
         ],
         "textposition": "bottom center",
         "type": "scatter",
         "x": [
          1
         ],
         "xaxis": "x",
         "y": [
          -4.66
         ],
         "yaxis": "y"
        },
        {
         "customdata": [
          [
           "The Only Exception "
          ]
         ],
         "hovertemplate": "Artist=Paramore<br>song hotness=%{x}<br>loudness=%{y}<br>_5=%{marker.size}<br>song=%{customdata[0]}<extra></extra>",
         "legendgroup": "Paramore",
         "marker": {
          "color": "rgb(207, 28, 144)",
          "size": [
           267.65016
          ],
          "sizemode": "area",
          "sizeref": 0.37285392222222224,
          "symbol": "circle"
         },
         "mode": "markers+text",
         "name": "Paramore",
         "orientation": "v",
         "showlegend": true,
         "text": [
          "The Only Exception "
         ],
         "textposition": "bottom center",
         "type": "scatter",
         "x": [
          1
         ],
         "xaxis": "x",
         "y": [
          -7.297
         ],
         "yaxis": "y"
        },
        {
         "customdata": [
          [
           "Forsaken"
          ]
         ],
         "hovertemplate": "Artist=Dream Theater<br>song hotness=%{x}<br>loudness=%{y}<br>_5=%{marker.size}<br>song=%{customdata[0]}<extra></extra>",
         "legendgroup": "Dream Theater",
         "marker": {
          "color": "rgb(249, 123, 114)",
          "size": [
           335.56853
          ],
          "sizemode": "area",
          "sizeref": 0.37285392222222224,
          "symbol": "circle"
         },
         "mode": "markers+text",
         "name": "Dream Theater",
         "orientation": "v",
         "showlegend": true,
         "text": [
          "Forsaken"
         ],
         "textposition": "bottom center",
         "type": "scatter",
         "x": [
          0.9830489333861626
         ],
         "xaxis": "x",
         "y": [
          -3.802
         ],
         "yaxis": "y"
        },
        {
         "customdata": [
          [
           "Make Me Wanna Die"
          ]
         ],
         "hovertemplate": "Artist=The Pretty Reckless<br>song hotness=%{x}<br>loudness=%{y}<br>_5=%{marker.size}<br>song=%{customdata[0]}<extra></extra>",
         "legendgroup": "The Pretty Reckless",
         "marker": {
          "color": "rgb(165, 170, 153)",
          "size": [
           235.17995
          ],
          "sizemode": "area",
          "sizeref": 0.37285392222222224,
          "symbol": "circle"
         },
         "mode": "markers+text",
         "name": "The Pretty Reckless",
         "orientation": "v",
         "showlegend": true,
         "text": [
          "Make Me Wanna Die"
         ],
         "textposition": "bottom center",
         "type": "scatter",
         "x": [
          0.9883950482146394
         ],
         "xaxis": "x",
         "y": [
          -8.905
         ],
         "yaxis": "y"
        },
        {
         "customdata": [
          [
           "Even Flow"
          ]
         ],
         "hovertemplate": "Artist=Pearl Jam<br>song hotness=%{x}<br>loudness=%{y}<br>_5=%{marker.size}<br>song=%{customdata[0]}<extra></extra>",
         "legendgroup": "Pearl Jam",
         "marker": {
          "color": "rgb(127, 60, 141)",
          "size": [
           293.09342
          ],
          "sizemode": "area",
          "sizeref": 0.37285392222222224,
          "symbol": "circle"
         },
         "mode": "markers+text",
         "name": "Pearl Jam",
         "orientation": "v",
         "showlegend": true,
         "text": [
          "Even Flow"
         ],
         "textposition": "bottom center",
         "type": "scatter",
         "x": [
          0.990309625387419
         ],
         "xaxis": "x",
         "y": [
          -5.043
         ],
         "yaxis": "y"
        },
        {
         "customdata": [
          [
           "When Everyday\u0019s The Weekend "
          ]
         ],
         "hovertemplate": "Artist=Asking Alexandria<br>song hotness=%{x}<br>loudness=%{y}<br>_5=%{marker.size}<br>song=%{customdata[0]}<extra></extra>",
         "legendgroup": "Asking Alexandria",
         "marker": {
          "color": "rgb(17, 165, 121)",
          "size": [
           262.5824
          ],
          "sizemode": "area",
          "sizeref": 0.37285392222222224,
          "symbol": "circle"
         },
         "mode": "markers+text",
         "name": "Asking Alexandria",
         "orientation": "v",
         "showlegend": true,
         "text": [
          "When Everyday\u0019s The Weekend "
         ],
         "textposition": "bottom center",
         "type": "scatter",
         "x": [
          0.9759443213752844
         ],
         "xaxis": "x",
         "y": [
          -3.961
         ],
         "yaxis": "y"
        },
        {
         "customdata": [
          [
           "The Red"
          ]
         ],
         "hovertemplate": "Artist=Chevelle<br>song hotness=%{x}<br>loudness=%{y}<br>_5=%{marker.size}<br>song=%{customdata[0]}<extra></extra>",
         "legendgroup": "Chevelle",
         "marker": {
          "color": "rgb(57, 105, 172)",
          "size": [
           238.39302
          ],
          "sizemode": "area",
          "sizeref": 0.37285392222222224,
          "symbol": "circle"
         },
         "mode": "markers+text",
         "name": "Chevelle",
         "orientation": "v",
         "showlegend": true,
         "text": [
          "The Red"
         ],
         "textposition": "bottom center",
         "type": "scatter",
         "x": [
          0.9765610568666588
         ],
         "xaxis": "x",
         "y": [
          -2.935
         ],
         "yaxis": "y"
        },
        {
         "customdata": [
          [
           "It's A Great Day To Be Alive "
          ]
         ],
         "hovertemplate": "Artist=Travis Tritt<br>song hotness=%{x}<br>loudness=%{y}<br>_5=%{marker.size}<br>song=%{customdata[0]}<extra></extra>",
         "legendgroup": "Travis Tritt",
         "marker": {
          "color": "rgb(242, 183, 1)",
          "size": [
           241.31873
          ],
          "sizemode": "area",
          "sizeref": 0.37285392222222224,
          "symbol": "circle"
         },
         "mode": "markers+text",
         "name": "Travis Tritt",
         "orientation": "v",
         "showlegend": true,
         "text": [
          "It's A Great Day To Be Alive "
         ],
         "textposition": "bottom center",
         "type": "scatter",
         "x": [
          0.9987191212458236
         ],
         "xaxis": "x",
         "y": [
          -5.492
         ],
         "yaxis": "y"
        }
       ],
       "layout": {
        "height": 650,
        "legend": {
         "itemsizing": "constant",
         "title": {
          "text": "Artist"
         },
         "tracegroupgap": 0
        },
        "margin": {
         "t": 60
        },
        "template": {
         "data": {
          "bar": [
           {
            "error_x": {
             "color": "#2a3f5f"
            },
            "error_y": {
             "color": "#2a3f5f"
            },
            "marker": {
             "line": {
              "color": "#E5ECF6",
              "width": 0.5
             }
            },
            "type": "bar"
           }
          ],
          "barpolar": [
           {
            "marker": {
             "line": {
              "color": "#E5ECF6",
              "width": 0.5
             }
            },
            "type": "barpolar"
           }
          ],
          "carpet": [
           {
            "aaxis": {
             "endlinecolor": "#2a3f5f",
             "gridcolor": "white",
             "linecolor": "white",
             "minorgridcolor": "white",
             "startlinecolor": "#2a3f5f"
            },
            "baxis": {
             "endlinecolor": "#2a3f5f",
             "gridcolor": "white",
             "linecolor": "white",
             "minorgridcolor": "white",
             "startlinecolor": "#2a3f5f"
            },
            "type": "carpet"
           }
          ],
          "choropleth": [
           {
            "colorbar": {
             "outlinewidth": 0,
             "ticks": ""
            },
            "type": "choropleth"
           }
          ],
          "contour": [
           {
            "colorbar": {
             "outlinewidth": 0,
             "ticks": ""
            },
            "colorscale": [
             [
              0,
              "#0d0887"
             ],
             [
              0.1111111111111111,
              "#46039f"
             ],
             [
              0.2222222222222222,
              "#7201a8"
             ],
             [
              0.3333333333333333,
              "#9c179e"
             ],
             [
              0.4444444444444444,
              "#bd3786"
             ],
             [
              0.5555555555555556,
              "#d8576b"
             ],
             [
              0.6666666666666666,
              "#ed7953"
             ],
             [
              0.7777777777777778,
              "#fb9f3a"
             ],
             [
              0.8888888888888888,
              "#fdca26"
             ],
             [
              1,
              "#f0f921"
             ]
            ],
            "type": "contour"
           }
          ],
          "contourcarpet": [
           {
            "colorbar": {
             "outlinewidth": 0,
             "ticks": ""
            },
            "type": "contourcarpet"
           }
          ],
          "heatmap": [
           {
            "colorbar": {
             "outlinewidth": 0,
             "ticks": ""
            },
            "colorscale": [
             [
              0,
              "#0d0887"
             ],
             [
              0.1111111111111111,
              "#46039f"
             ],
             [
              0.2222222222222222,
              "#7201a8"
             ],
             [
              0.3333333333333333,
              "#9c179e"
             ],
             [
              0.4444444444444444,
              "#bd3786"
             ],
             [
              0.5555555555555556,
              "#d8576b"
             ],
             [
              0.6666666666666666,
              "#ed7953"
             ],
             [
              0.7777777777777778,
              "#fb9f3a"
             ],
             [
              0.8888888888888888,
              "#fdca26"
             ],
             [
              1,
              "#f0f921"
             ]
            ],
            "type": "heatmap"
           }
          ],
          "heatmapgl": [
           {
            "colorbar": {
             "outlinewidth": 0,
             "ticks": ""
            },
            "colorscale": [
             [
              0,
              "#0d0887"
             ],
             [
              0.1111111111111111,
              "#46039f"
             ],
             [
              0.2222222222222222,
              "#7201a8"
             ],
             [
              0.3333333333333333,
              "#9c179e"
             ],
             [
              0.4444444444444444,
              "#bd3786"
             ],
             [
              0.5555555555555556,
              "#d8576b"
             ],
             [
              0.6666666666666666,
              "#ed7953"
             ],
             [
              0.7777777777777778,
              "#fb9f3a"
             ],
             [
              0.8888888888888888,
              "#fdca26"
             ],
             [
              1,
              "#f0f921"
             ]
            ],
            "type": "heatmapgl"
           }
          ],
          "histogram": [
           {
            "marker": {
             "colorbar": {
              "outlinewidth": 0,
              "ticks": ""
             }
            },
            "type": "histogram"
           }
          ],
          "histogram2d": [
           {
            "colorbar": {
             "outlinewidth": 0,
             "ticks": ""
            },
            "colorscale": [
             [
              0,
              "#0d0887"
             ],
             [
              0.1111111111111111,
              "#46039f"
             ],
             [
              0.2222222222222222,
              "#7201a8"
             ],
             [
              0.3333333333333333,
              "#9c179e"
             ],
             [
              0.4444444444444444,
              "#bd3786"
             ],
             [
              0.5555555555555556,
              "#d8576b"
             ],
             [
              0.6666666666666666,
              "#ed7953"
             ],
             [
              0.7777777777777778,
              "#fb9f3a"
             ],
             [
              0.8888888888888888,
              "#fdca26"
             ],
             [
              1,
              "#f0f921"
             ]
            ],
            "type": "histogram2d"
           }
          ],
          "histogram2dcontour": [
           {
            "colorbar": {
             "outlinewidth": 0,
             "ticks": ""
            },
            "colorscale": [
             [
              0,
              "#0d0887"
             ],
             [
              0.1111111111111111,
              "#46039f"
             ],
             [
              0.2222222222222222,
              "#7201a8"
             ],
             [
              0.3333333333333333,
              "#9c179e"
             ],
             [
              0.4444444444444444,
              "#bd3786"
             ],
             [
              0.5555555555555556,
              "#d8576b"
             ],
             [
              0.6666666666666666,
              "#ed7953"
             ],
             [
              0.7777777777777778,
              "#fb9f3a"
             ],
             [
              0.8888888888888888,
              "#fdca26"
             ],
             [
              1,
              "#f0f921"
             ]
            ],
            "type": "histogram2dcontour"
           }
          ],
          "mesh3d": [
           {
            "colorbar": {
             "outlinewidth": 0,
             "ticks": ""
            },
            "type": "mesh3d"
           }
          ],
          "parcoords": [
           {
            "line": {
             "colorbar": {
              "outlinewidth": 0,
              "ticks": ""
             }
            },
            "type": "parcoords"
           }
          ],
          "pie": [
           {
            "automargin": true,
            "type": "pie"
           }
          ],
          "scatter": [
           {
            "marker": {
             "colorbar": {
              "outlinewidth": 0,
              "ticks": ""
             }
            },
            "type": "scatter"
           }
          ],
          "scatter3d": [
           {
            "line": {
             "colorbar": {
              "outlinewidth": 0,
              "ticks": ""
             }
            },
            "marker": {
             "colorbar": {
              "outlinewidth": 0,
              "ticks": ""
             }
            },
            "type": "scatter3d"
           }
          ],
          "scattercarpet": [
           {
            "marker": {
             "colorbar": {
              "outlinewidth": 0,
              "ticks": ""
             }
            },
            "type": "scattercarpet"
           }
          ],
          "scattergeo": [
           {
            "marker": {
             "colorbar": {
              "outlinewidth": 0,
              "ticks": ""
             }
            },
            "type": "scattergeo"
           }
          ],
          "scattergl": [
           {
            "marker": {
             "colorbar": {
              "outlinewidth": 0,
              "ticks": ""
             }
            },
            "type": "scattergl"
           }
          ],
          "scattermapbox": [
           {
            "marker": {
             "colorbar": {
              "outlinewidth": 0,
              "ticks": ""
             }
            },
            "type": "scattermapbox"
           }
          ],
          "scatterpolar": [
           {
            "marker": {
             "colorbar": {
              "outlinewidth": 0,
              "ticks": ""
             }
            },
            "type": "scatterpolar"
           }
          ],
          "scatterpolargl": [
           {
            "marker": {
             "colorbar": {
              "outlinewidth": 0,
              "ticks": ""
             }
            },
            "type": "scatterpolargl"
           }
          ],
          "scatterternary": [
           {
            "marker": {
             "colorbar": {
              "outlinewidth": 0,
              "ticks": ""
             }
            },
            "type": "scatterternary"
           }
          ],
          "surface": [
           {
            "colorbar": {
             "outlinewidth": 0,
             "ticks": ""
            },
            "colorscale": [
             [
              0,
              "#0d0887"
             ],
             [
              0.1111111111111111,
              "#46039f"
             ],
             [
              0.2222222222222222,
              "#7201a8"
             ],
             [
              0.3333333333333333,
              "#9c179e"
             ],
             [
              0.4444444444444444,
              "#bd3786"
             ],
             [
              0.5555555555555556,
              "#d8576b"
             ],
             [
              0.6666666666666666,
              "#ed7953"
             ],
             [
              0.7777777777777778,
              "#fb9f3a"
             ],
             [
              0.8888888888888888,
              "#fdca26"
             ],
             [
              1,
              "#f0f921"
             ]
            ],
            "type": "surface"
           }
          ],
          "table": [
           {
            "cells": {
             "fill": {
              "color": "#EBF0F8"
             },
             "line": {
              "color": "white"
             }
            },
            "header": {
             "fill": {
              "color": "#C8D4E3"
             },
             "line": {
              "color": "white"
             }
            },
            "type": "table"
           }
          ]
         },
         "layout": {
          "annotationdefaults": {
           "arrowcolor": "#2a3f5f",
           "arrowhead": 0,
           "arrowwidth": 1
          },
          "autotypenumbers": "strict",
          "coloraxis": {
           "colorbar": {
            "outlinewidth": 0,
            "ticks": ""
           }
          },
          "colorscale": {
           "diverging": [
            [
             0,
             "#8e0152"
            ],
            [
             0.1,
             "#c51b7d"
            ],
            [
             0.2,
             "#de77ae"
            ],
            [
             0.3,
             "#f1b6da"
            ],
            [
             0.4,
             "#fde0ef"
            ],
            [
             0.5,
             "#f7f7f7"
            ],
            [
             0.6,
             "#e6f5d0"
            ],
            [
             0.7,
             "#b8e186"
            ],
            [
             0.8,
             "#7fbc41"
            ],
            [
             0.9,
             "#4d9221"
            ],
            [
             1,
             "#276419"
            ]
           ],
           "sequential": [
            [
             0,
             "#0d0887"
            ],
            [
             0.1111111111111111,
             "#46039f"
            ],
            [
             0.2222222222222222,
             "#7201a8"
            ],
            [
             0.3333333333333333,
             "#9c179e"
            ],
            [
             0.4444444444444444,
             "#bd3786"
            ],
            [
             0.5555555555555556,
             "#d8576b"
            ],
            [
             0.6666666666666666,
             "#ed7953"
            ],
            [
             0.7777777777777778,
             "#fb9f3a"
            ],
            [
             0.8888888888888888,
             "#fdca26"
            ],
            [
             1,
             "#f0f921"
            ]
           ],
           "sequentialminus": [
            [
             0,
             "#0d0887"
            ],
            [
             0.1111111111111111,
             "#46039f"
            ],
            [
             0.2222222222222222,
             "#7201a8"
            ],
            [
             0.3333333333333333,
             "#9c179e"
            ],
            [
             0.4444444444444444,
             "#bd3786"
            ],
            [
             0.5555555555555556,
             "#d8576b"
            ],
            [
             0.6666666666666666,
             "#ed7953"
            ],
            [
             0.7777777777777778,
             "#fb9f3a"
            ],
            [
             0.8888888888888888,
             "#fdca26"
            ],
            [
             1,
             "#f0f921"
            ]
           ]
          },
          "colorway": [
           "#636efa",
           "#EF553B",
           "#00cc96",
           "#ab63fa",
           "#FFA15A",
           "#19d3f3",
           "#FF6692",
           "#B6E880",
           "#FF97FF",
           "#FECB52"
          ],
          "font": {
           "color": "#2a3f5f"
          },
          "geo": {
           "bgcolor": "white",
           "lakecolor": "white",
           "landcolor": "#E5ECF6",
           "showlakes": true,
           "showland": true,
           "subunitcolor": "white"
          },
          "hoverlabel": {
           "align": "left"
          },
          "hovermode": "closest",
          "mapbox": {
           "style": "light"
          },
          "paper_bgcolor": "white",
          "plot_bgcolor": "#E5ECF6",
          "polar": {
           "angularaxis": {
            "gridcolor": "white",
            "linecolor": "white",
            "ticks": ""
           },
           "bgcolor": "#E5ECF6",
           "radialaxis": {
            "gridcolor": "white",
            "linecolor": "white",
            "ticks": ""
           }
          },
          "scene": {
           "xaxis": {
            "backgroundcolor": "#E5ECF6",
            "gridcolor": "white",
            "gridwidth": 2,
            "linecolor": "white",
            "showbackground": true,
            "ticks": "",
            "zerolinecolor": "white"
           },
           "yaxis": {
            "backgroundcolor": "#E5ECF6",
            "gridcolor": "white",
            "gridwidth": 2,
            "linecolor": "white",
            "showbackground": true,
            "ticks": "",
            "zerolinecolor": "white"
           },
           "zaxis": {
            "backgroundcolor": "#E5ECF6",
            "gridcolor": "white",
            "gridwidth": 2,
            "linecolor": "white",
            "showbackground": true,
            "ticks": "",
            "zerolinecolor": "white"
           }
          },
          "shapedefaults": {
           "line": {
            "color": "#2a3f5f"
           }
          },
          "ternary": {
           "aaxis": {
            "gridcolor": "white",
            "linecolor": "white",
            "ticks": ""
           },
           "baxis": {
            "gridcolor": "white",
            "linecolor": "white",
            "ticks": ""
           },
           "bgcolor": "#E5ECF6",
           "caxis": {
            "gridcolor": "white",
            "linecolor": "white",
            "ticks": ""
           }
          },
          "title": {
           "x": 0.05
          },
          "xaxis": {
           "automargin": true,
           "gridcolor": "white",
           "linecolor": "white",
           "ticks": "",
           "title": {
            "standoff": 15
           },
           "zerolinecolor": "white",
           "zerolinewidth": 2
          },
          "yaxis": {
           "automargin": true,
           "gridcolor": "white",
           "linecolor": "white",
           "ticks": "",
           "title": {
            "standoff": 15
           },
           "zerolinecolor": "white",
           "zerolinewidth": 2
          }
         }
        },
        "title": {
         "text": "Popular Songs of All Time"
        },
        "width": 900,
        "xaxis": {
         "anchor": "y",
         "domain": [
          0,
          1
         ],
         "title": {
          "text": "song hotness"
         }
        },
        "yaxis": {
         "anchor": "x",
         "domain": [
          0,
          1
         ],
         "title": {
          "text": "loudness"
         }
        }
       }
      },
      "text/html": [
       "<div>                            <div id=\"307d611f-e092-4842-aae3-3d6dfaecea00\" class=\"plotly-graph-div\" style=\"height:650px; width:900px;\"></div>            <script type=\"text/javascript\">                require([\"plotly\"], function(Plotly) {                    window.PLOTLYENV=window.PLOTLYENV || {};                                    if (document.getElementById(\"307d611f-e092-4842-aae3-3d6dfaecea00\")) {                    Plotly.newPlot(                        \"307d611f-e092-4842-aae3-3d6dfaecea00\",                        [{\"customdata\": [[\"Harder Better Faster Stronger\"]], \"hovertemplate\": \"Artist=Daft Punk<br>song hotness=%{x}<br>loudness=%{y}<br>_5=%{marker.size}<br>song=%{customdata[0]}<extra></extra>\", \"legendgroup\": \"Daft Punk\", \"marker\": {\"color\": \"rgb(127, 60, 141)\", \"size\": [223.60771], \"sizemode\": \"area\", \"sizeref\": 0.37285392222222224, \"symbol\": \"circle\"}, \"mode\": \"markers+text\", \"name\": \"Daft Punk\", \"orientation\": \"v\", \"showlegend\": true, \"text\": [\"Harder Better Faster Stronger\"], \"textposition\": \"bottom center\", \"type\": \"scatter\", \"x\": [1.0], \"xaxis\": \"x\", \"y\": [-9.953], \"yaxis\": \"y\"}, {\"customdata\": [[\"Cold Desert\"]], \"hovertemplate\": \"Artist=Kings Of Leon<br>song hotness=%{x}<br>loudness=%{y}<br>_5=%{marker.size}<br>song=%{customdata[0]}<extra></extra>\", \"legendgroup\": \"Kings Of Leon\", \"marker\": {\"color\": \"rgb(17, 165, 121)\", \"size\": [334.75873], \"sizemode\": \"area\", \"sizeref\": 0.37285392222222224, \"symbol\": \"circle\"}, \"mode\": \"markers+text\", \"name\": \"Kings Of Leon\", \"orientation\": \"v\", \"showlegend\": true, \"text\": [\"Cold Desert\"], \"textposition\": \"bottom center\", \"type\": \"scatter\", \"x\": [0.9898369977230832], \"xaxis\": \"x\", \"y\": [-9.24], \"yaxis\": \"y\"}, {\"customdata\": [[\"All The Right Moves\"]], \"hovertemplate\": \"Artist=OneRepublic<br>song hotness=%{x}<br>loudness=%{y}<br>_5=%{marker.size}<br>song=%{customdata[0]}<extra></extra>\", \"legendgroup\": \"OneRepublic\", \"marker\": {\"color\": \"rgb(57, 105, 172)\", \"size\": [238.70649], \"sizemode\": \"area\", \"sizeref\": 0.37285392222222224, \"symbol\": \"circle\"}, \"mode\": \"markers+text\", \"name\": \"OneRepublic\", \"orientation\": \"v\", \"showlegend\": true, \"text\": [\"All The Right Moves\"], \"textposition\": \"bottom center\", \"type\": \"scatter\", \"x\": [1.0], \"xaxis\": \"x\", \"y\": [-4.504], \"yaxis\": \"y\"}, {\"customdata\": [[\"Burn It To The Ground \"]], \"hovertemplate\": \"Artist=Nickelback<br>song hotness=%{x}<br>loudness=%{y}<br>_5=%{marker.size}<br>song=%{customdata[0]}<extra></extra>\", \"legendgroup\": \"Nickelback\", \"marker\": {\"color\": \"rgb(242, 183, 1)\", \"size\": [208.71791], \"sizemode\": \"area\", \"sizeref\": 0.37285392222222224, \"symbol\": \"circle\"}, \"mode\": \"markers+text\", \"name\": \"Nickelback\", \"orientation\": \"v\", \"showlegend\": true, \"text\": [\"Burn It To The Ground \"], \"textposition\": \"bottom center\", \"type\": \"scatter\", \"x\": [0.9839558684190424], \"xaxis\": \"x\", \"y\": [-3.363], \"yaxis\": \"y\"}, {\"customdata\": [[\"Lucky \"]], \"hovertemplate\": \"Artist=Jason Mraz & Colbie Caillat<br>song hotness=%{x}<br>loudness=%{y}<br>_5=%{marker.size}<br>song=%{customdata[0]}<extra></extra>\", \"legendgroup\": \"Jason Mraz & Colbie Caillat\", \"marker\": {\"color\": \"rgb(231, 63, 116)\", \"size\": [189.6224], \"sizemode\": \"area\", \"sizeref\": 0.37285392222222224, \"symbol\": \"circle\"}, \"mode\": \"markers+text\", \"name\": \"Jason Mraz & Colbie Caillat\", \"orientation\": \"v\", \"showlegend\": true, \"text\": [\"Lucky \"], \"textposition\": \"bottom center\", \"type\": \"scatter\", \"x\": [0.9814329462035004], \"xaxis\": \"x\", \"y\": [-8.414], \"yaxis\": \"y\"}, {\"customdata\": [[\"I Run To You\"]], \"hovertemplate\": \"Artist=Lady Antebellum<br>song hotness=%{x}<br>loudness=%{y}<br>_5=%{marker.size}<br>song=%{customdata[0]}<extra></extra>\", \"legendgroup\": \"Lady Antebellum\", \"marker\": {\"color\": \"rgb(128, 186, 90)\", \"size\": [258.61179], \"sizemode\": \"area\", \"sizeref\": 0.37285392222222224, \"symbol\": \"circle\"}, \"mode\": \"markers+text\", \"name\": \"Lady Antebellum\", \"orientation\": \"v\", \"showlegend\": true, \"text\": [\"I Run To You\"], \"textposition\": \"bottom center\", \"type\": \"scatter\", \"x\": [0.9986813247516756], \"xaxis\": \"x\", \"y\": [-6.387], \"yaxis\": \"y\"}, {\"customdata\": [[\"Gunpowder & Lead\"]], \"hovertemplate\": \"Artist=Miranda Lambert<br>song hotness=%{x}<br>loudness=%{y}<br>_5=%{marker.size}<br>song=%{customdata[0]}<extra></extra>\", \"legendgroup\": \"Miranda Lambert\", \"marker\": {\"color\": \"rgb(230, 131, 16)\", \"size\": [191.68608], \"sizemode\": \"area\", \"sizeref\": 0.37285392222222224, \"symbol\": \"circle\"}, \"mode\": \"markers+text\", \"name\": \"Miranda Lambert\", \"orientation\": \"v\", \"showlegend\": true, \"text\": [\"Gunpowder & Lead\"], \"textposition\": \"bottom center\", \"type\": \"scatter\", \"x\": [0.9801386862031494], \"xaxis\": \"x\", \"y\": [-4.139], \"yaxis\": \"y\"}, {\"customdata\": [[\"Knock You Down\"]], \"hovertemplate\": \"Artist=Keri Hilson / Kanye West / Ne-Yo<br>song hotness=%{x}<br>loudness=%{y}<br>_5=%{marker.size}<br>song=%{customdata[0]}<extra></extra>\", \"legendgroup\": \"Keri Hilson / Kanye West / Ne-Yo\", \"marker\": {\"color\": \"rgb(0, 134, 149)\", \"size\": [326.13832], \"sizemode\": \"area\", \"sizeref\": 0.37285392222222224, \"symbol\": \"circle\"}, \"mode\": \"markers+text\", \"name\": \"Keri Hilson / Kanye West / Ne-Yo\", \"orientation\": \"v\", \"showlegend\": true, \"text\": [\"Knock You Down\"], \"textposition\": \"bottom center\", \"type\": \"scatter\", \"x\": [1.0], \"xaxis\": \"x\", \"y\": [-4.66], \"yaxis\": \"y\"}, {\"customdata\": [[\"The Only Exception \"]], \"hovertemplate\": \"Artist=Paramore<br>song hotness=%{x}<br>loudness=%{y}<br>_5=%{marker.size}<br>song=%{customdata[0]}<extra></extra>\", \"legendgroup\": \"Paramore\", \"marker\": {\"color\": \"rgb(207, 28, 144)\", \"size\": [267.65016], \"sizemode\": \"area\", \"sizeref\": 0.37285392222222224, \"symbol\": \"circle\"}, \"mode\": \"markers+text\", \"name\": \"Paramore\", \"orientation\": \"v\", \"showlegend\": true, \"text\": [\"The Only Exception \"], \"textposition\": \"bottom center\", \"type\": \"scatter\", \"x\": [1.0], \"xaxis\": \"x\", \"y\": [-7.297], \"yaxis\": \"y\"}, {\"customdata\": [[\"Forsaken\"]], \"hovertemplate\": \"Artist=Dream Theater<br>song hotness=%{x}<br>loudness=%{y}<br>_5=%{marker.size}<br>song=%{customdata[0]}<extra></extra>\", \"legendgroup\": \"Dream Theater\", \"marker\": {\"color\": \"rgb(249, 123, 114)\", \"size\": [335.56853], \"sizemode\": \"area\", \"sizeref\": 0.37285392222222224, \"symbol\": \"circle\"}, \"mode\": \"markers+text\", \"name\": \"Dream Theater\", \"orientation\": \"v\", \"showlegend\": true, \"text\": [\"Forsaken\"], \"textposition\": \"bottom center\", \"type\": \"scatter\", \"x\": [0.9830489333861626], \"xaxis\": \"x\", \"y\": [-3.802], \"yaxis\": \"y\"}, {\"customdata\": [[\"Make Me Wanna Die\"]], \"hovertemplate\": \"Artist=The Pretty Reckless<br>song hotness=%{x}<br>loudness=%{y}<br>_5=%{marker.size}<br>song=%{customdata[0]}<extra></extra>\", \"legendgroup\": \"The Pretty Reckless\", \"marker\": {\"color\": \"rgb(165, 170, 153)\", \"size\": [235.17995], \"sizemode\": \"area\", \"sizeref\": 0.37285392222222224, \"symbol\": \"circle\"}, \"mode\": \"markers+text\", \"name\": \"The Pretty Reckless\", \"orientation\": \"v\", \"showlegend\": true, \"text\": [\"Make Me Wanna Die\"], \"textposition\": \"bottom center\", \"type\": \"scatter\", \"x\": [0.9883950482146394], \"xaxis\": \"x\", \"y\": [-8.905], \"yaxis\": \"y\"}, {\"customdata\": [[\"Even Flow\"]], \"hovertemplate\": \"Artist=Pearl Jam<br>song hotness=%{x}<br>loudness=%{y}<br>_5=%{marker.size}<br>song=%{customdata[0]}<extra></extra>\", \"legendgroup\": \"Pearl Jam\", \"marker\": {\"color\": \"rgb(127, 60, 141)\", \"size\": [293.09342], \"sizemode\": \"area\", \"sizeref\": 0.37285392222222224, \"symbol\": \"circle\"}, \"mode\": \"markers+text\", \"name\": \"Pearl Jam\", \"orientation\": \"v\", \"showlegend\": true, \"text\": [\"Even Flow\"], \"textposition\": \"bottom center\", \"type\": \"scatter\", \"x\": [0.990309625387419], \"xaxis\": \"x\", \"y\": [-5.043], \"yaxis\": \"y\"}, {\"customdata\": [[\"When Everyday\\u0019s The Weekend \"]], \"hovertemplate\": \"Artist=Asking Alexandria<br>song hotness=%{x}<br>loudness=%{y}<br>_5=%{marker.size}<br>song=%{customdata[0]}<extra></extra>\", \"legendgroup\": \"Asking Alexandria\", \"marker\": {\"color\": \"rgb(17, 165, 121)\", \"size\": [262.5824], \"sizemode\": \"area\", \"sizeref\": 0.37285392222222224, \"symbol\": \"circle\"}, \"mode\": \"markers+text\", \"name\": \"Asking Alexandria\", \"orientation\": \"v\", \"showlegend\": true, \"text\": [\"When Everyday\\u0019s The Weekend \"], \"textposition\": \"bottom center\", \"type\": \"scatter\", \"x\": [0.9759443213752844], \"xaxis\": \"x\", \"y\": [-3.961], \"yaxis\": \"y\"}, {\"customdata\": [[\"The Red\"]], \"hovertemplate\": \"Artist=Chevelle<br>song hotness=%{x}<br>loudness=%{y}<br>_5=%{marker.size}<br>song=%{customdata[0]}<extra></extra>\", \"legendgroup\": \"Chevelle\", \"marker\": {\"color\": \"rgb(57, 105, 172)\", \"size\": [238.39302], \"sizemode\": \"area\", \"sizeref\": 0.37285392222222224, \"symbol\": \"circle\"}, \"mode\": \"markers+text\", \"name\": \"Chevelle\", \"orientation\": \"v\", \"showlegend\": true, \"text\": [\"The Red\"], \"textposition\": \"bottom center\", \"type\": \"scatter\", \"x\": [0.9765610568666588], \"xaxis\": \"x\", \"y\": [-2.935], \"yaxis\": \"y\"}, {\"customdata\": [[\"It's A Great Day To Be Alive \"]], \"hovertemplate\": \"Artist=Travis Tritt<br>song hotness=%{x}<br>loudness=%{y}<br>_5=%{marker.size}<br>song=%{customdata[0]}<extra></extra>\", \"legendgroup\": \"Travis Tritt\", \"marker\": {\"color\": \"rgb(242, 183, 1)\", \"size\": [241.31873], \"sizemode\": \"area\", \"sizeref\": 0.37285392222222224, \"symbol\": \"circle\"}, \"mode\": \"markers+text\", \"name\": \"Travis Tritt\", \"orientation\": \"v\", \"showlegend\": true, \"text\": [\"It's A Great Day To Be Alive \"], \"textposition\": \"bottom center\", \"type\": \"scatter\", \"x\": [0.9987191212458236], \"xaxis\": \"x\", \"y\": [-5.492], \"yaxis\": \"y\"}],                        {\"height\": 650, \"legend\": {\"itemsizing\": \"constant\", \"title\": {\"text\": \"Artist\"}, \"tracegroupgap\": 0}, \"margin\": {\"t\": 60}, \"template\": {\"data\": {\"bar\": [{\"error_x\": {\"color\": \"#2a3f5f\"}, \"error_y\": {\"color\": \"#2a3f5f\"}, \"marker\": {\"line\": {\"color\": \"#E5ECF6\", \"width\": 0.5}}, \"type\": \"bar\"}], \"barpolar\": [{\"marker\": {\"line\": {\"color\": \"#E5ECF6\", \"width\": 0.5}}, \"type\": \"barpolar\"}], \"carpet\": [{\"aaxis\": {\"endlinecolor\": \"#2a3f5f\", \"gridcolor\": \"white\", \"linecolor\": \"white\", \"minorgridcolor\": \"white\", \"startlinecolor\": \"#2a3f5f\"}, \"baxis\": {\"endlinecolor\": \"#2a3f5f\", \"gridcolor\": \"white\", \"linecolor\": \"white\", \"minorgridcolor\": \"white\", \"startlinecolor\": \"#2a3f5f\"}, \"type\": \"carpet\"}], \"choropleth\": [{\"colorbar\": {\"outlinewidth\": 0, \"ticks\": \"\"}, \"type\": \"choropleth\"}], \"contour\": [{\"colorbar\": {\"outlinewidth\": 0, \"ticks\": \"\"}, \"colorscale\": [[0.0, \"#0d0887\"], [0.1111111111111111, \"#46039f\"], [0.2222222222222222, \"#7201a8\"], [0.3333333333333333, \"#9c179e\"], [0.4444444444444444, \"#bd3786\"], [0.5555555555555556, \"#d8576b\"], [0.6666666666666666, \"#ed7953\"], [0.7777777777777778, \"#fb9f3a\"], [0.8888888888888888, \"#fdca26\"], [1.0, \"#f0f921\"]], \"type\": \"contour\"}], \"contourcarpet\": [{\"colorbar\": {\"outlinewidth\": 0, \"ticks\": \"\"}, \"type\": \"contourcarpet\"}], \"heatmap\": [{\"colorbar\": {\"outlinewidth\": 0, \"ticks\": \"\"}, \"colorscale\": [[0.0, \"#0d0887\"], [0.1111111111111111, \"#46039f\"], [0.2222222222222222, \"#7201a8\"], [0.3333333333333333, \"#9c179e\"], [0.4444444444444444, \"#bd3786\"], [0.5555555555555556, \"#d8576b\"], [0.6666666666666666, \"#ed7953\"], [0.7777777777777778, \"#fb9f3a\"], [0.8888888888888888, \"#fdca26\"], [1.0, \"#f0f921\"]], \"type\": \"heatmap\"}], \"heatmapgl\": [{\"colorbar\": {\"outlinewidth\": 0, \"ticks\": \"\"}, \"colorscale\": [[0.0, \"#0d0887\"], [0.1111111111111111, \"#46039f\"], [0.2222222222222222, \"#7201a8\"], [0.3333333333333333, \"#9c179e\"], [0.4444444444444444, \"#bd3786\"], [0.5555555555555556, \"#d8576b\"], [0.6666666666666666, \"#ed7953\"], [0.7777777777777778, \"#fb9f3a\"], [0.8888888888888888, \"#fdca26\"], [1.0, \"#f0f921\"]], \"type\": \"heatmapgl\"}], \"histogram\": [{\"marker\": {\"colorbar\": {\"outlinewidth\": 0, \"ticks\": \"\"}}, \"type\": \"histogram\"}], \"histogram2d\": [{\"colorbar\": {\"outlinewidth\": 0, \"ticks\": \"\"}, \"colorscale\": [[0.0, \"#0d0887\"], [0.1111111111111111, \"#46039f\"], [0.2222222222222222, \"#7201a8\"], [0.3333333333333333, \"#9c179e\"], [0.4444444444444444, \"#bd3786\"], [0.5555555555555556, \"#d8576b\"], [0.6666666666666666, \"#ed7953\"], [0.7777777777777778, \"#fb9f3a\"], [0.8888888888888888, \"#fdca26\"], [1.0, \"#f0f921\"]], \"type\": \"histogram2d\"}], \"histogram2dcontour\": [{\"colorbar\": {\"outlinewidth\": 0, \"ticks\": \"\"}, \"colorscale\": [[0.0, \"#0d0887\"], [0.1111111111111111, \"#46039f\"], [0.2222222222222222, \"#7201a8\"], [0.3333333333333333, \"#9c179e\"], [0.4444444444444444, \"#bd3786\"], [0.5555555555555556, \"#d8576b\"], [0.6666666666666666, \"#ed7953\"], [0.7777777777777778, \"#fb9f3a\"], [0.8888888888888888, \"#fdca26\"], [1.0, \"#f0f921\"]], \"type\": \"histogram2dcontour\"}], \"mesh3d\": [{\"colorbar\": {\"outlinewidth\": 0, \"ticks\": \"\"}, \"type\": \"mesh3d\"}], \"parcoords\": [{\"line\": {\"colorbar\": {\"outlinewidth\": 0, \"ticks\": \"\"}}, \"type\": \"parcoords\"}], \"pie\": [{\"automargin\": true, \"type\": \"pie\"}], \"scatter\": [{\"marker\": {\"colorbar\": {\"outlinewidth\": 0, \"ticks\": \"\"}}, \"type\": \"scatter\"}], \"scatter3d\": [{\"line\": {\"colorbar\": {\"outlinewidth\": 0, \"ticks\": \"\"}}, \"marker\": {\"colorbar\": {\"outlinewidth\": 0, \"ticks\": \"\"}}, \"type\": \"scatter3d\"}], \"scattercarpet\": [{\"marker\": {\"colorbar\": {\"outlinewidth\": 0, \"ticks\": \"\"}}, \"type\": \"scattercarpet\"}], \"scattergeo\": [{\"marker\": {\"colorbar\": {\"outlinewidth\": 0, \"ticks\": \"\"}}, \"type\": \"scattergeo\"}], \"scattergl\": [{\"marker\": {\"colorbar\": {\"outlinewidth\": 0, \"ticks\": \"\"}}, \"type\": \"scattergl\"}], \"scattermapbox\": [{\"marker\": {\"colorbar\": {\"outlinewidth\": 0, \"ticks\": \"\"}}, \"type\": \"scattermapbox\"}], \"scatterpolar\": [{\"marker\": {\"colorbar\": {\"outlinewidth\": 0, \"ticks\": \"\"}}, \"type\": \"scatterpolar\"}], \"scatterpolargl\": [{\"marker\": {\"colorbar\": {\"outlinewidth\": 0, \"ticks\": \"\"}}, \"type\": \"scatterpolargl\"}], \"scatterternary\": [{\"marker\": {\"colorbar\": {\"outlinewidth\": 0, \"ticks\": \"\"}}, \"type\": \"scatterternary\"}], \"surface\": [{\"colorbar\": {\"outlinewidth\": 0, \"ticks\": \"\"}, \"colorscale\": [[0.0, \"#0d0887\"], [0.1111111111111111, \"#46039f\"], [0.2222222222222222, \"#7201a8\"], [0.3333333333333333, \"#9c179e\"], [0.4444444444444444, \"#bd3786\"], [0.5555555555555556, \"#d8576b\"], [0.6666666666666666, \"#ed7953\"], [0.7777777777777778, \"#fb9f3a\"], [0.8888888888888888, \"#fdca26\"], [1.0, \"#f0f921\"]], \"type\": \"surface\"}], \"table\": [{\"cells\": {\"fill\": {\"color\": \"#EBF0F8\"}, \"line\": {\"color\": \"white\"}}, \"header\": {\"fill\": {\"color\": \"#C8D4E3\"}, \"line\": {\"color\": \"white\"}}, \"type\": \"table\"}]}, \"layout\": {\"annotationdefaults\": {\"arrowcolor\": \"#2a3f5f\", \"arrowhead\": 0, \"arrowwidth\": 1}, \"autotypenumbers\": \"strict\", \"coloraxis\": {\"colorbar\": {\"outlinewidth\": 0, \"ticks\": \"\"}}, \"colorscale\": {\"diverging\": [[0, \"#8e0152\"], [0.1, \"#c51b7d\"], [0.2, \"#de77ae\"], [0.3, \"#f1b6da\"], [0.4, \"#fde0ef\"], [0.5, \"#f7f7f7\"], [0.6, \"#e6f5d0\"], [0.7, \"#b8e186\"], [0.8, \"#7fbc41\"], [0.9, \"#4d9221\"], [1, \"#276419\"]], \"sequential\": [[0.0, \"#0d0887\"], [0.1111111111111111, \"#46039f\"], [0.2222222222222222, \"#7201a8\"], [0.3333333333333333, \"#9c179e\"], [0.4444444444444444, \"#bd3786\"], [0.5555555555555556, \"#d8576b\"], [0.6666666666666666, \"#ed7953\"], [0.7777777777777778, \"#fb9f3a\"], [0.8888888888888888, \"#fdca26\"], [1.0, \"#f0f921\"]], \"sequentialminus\": [[0.0, \"#0d0887\"], [0.1111111111111111, \"#46039f\"], [0.2222222222222222, \"#7201a8\"], [0.3333333333333333, \"#9c179e\"], [0.4444444444444444, \"#bd3786\"], [0.5555555555555556, \"#d8576b\"], [0.6666666666666666, \"#ed7953\"], [0.7777777777777778, \"#fb9f3a\"], [0.8888888888888888, \"#fdca26\"], [1.0, \"#f0f921\"]]}, \"colorway\": [\"#636efa\", \"#EF553B\", \"#00cc96\", \"#ab63fa\", \"#FFA15A\", \"#19d3f3\", \"#FF6692\", \"#B6E880\", \"#FF97FF\", \"#FECB52\"], \"font\": {\"color\": \"#2a3f5f\"}, \"geo\": {\"bgcolor\": \"white\", \"lakecolor\": \"white\", \"landcolor\": \"#E5ECF6\", \"showlakes\": true, \"showland\": true, \"subunitcolor\": \"white\"}, \"hoverlabel\": {\"align\": \"left\"}, \"hovermode\": \"closest\", \"mapbox\": {\"style\": \"light\"}, \"paper_bgcolor\": \"white\", \"plot_bgcolor\": \"#E5ECF6\", \"polar\": {\"angularaxis\": {\"gridcolor\": \"white\", \"linecolor\": \"white\", \"ticks\": \"\"}, \"bgcolor\": \"#E5ECF6\", \"radialaxis\": {\"gridcolor\": \"white\", \"linecolor\": \"white\", \"ticks\": \"\"}}, \"scene\": {\"xaxis\": {\"backgroundcolor\": \"#E5ECF6\", \"gridcolor\": \"white\", \"gridwidth\": 2, \"linecolor\": \"white\", \"showbackground\": true, \"ticks\": \"\", \"zerolinecolor\": \"white\"}, \"yaxis\": {\"backgroundcolor\": \"#E5ECF6\", \"gridcolor\": \"white\", \"gridwidth\": 2, \"linecolor\": \"white\", \"showbackground\": true, \"ticks\": \"\", \"zerolinecolor\": \"white\"}, \"zaxis\": {\"backgroundcolor\": \"#E5ECF6\", \"gridcolor\": \"white\", \"gridwidth\": 2, \"linecolor\": \"white\", \"showbackground\": true, \"ticks\": \"\", \"zerolinecolor\": \"white\"}}, \"shapedefaults\": {\"line\": {\"color\": \"#2a3f5f\"}}, \"ternary\": {\"aaxis\": {\"gridcolor\": \"white\", \"linecolor\": \"white\", \"ticks\": \"\"}, \"baxis\": {\"gridcolor\": \"white\", \"linecolor\": \"white\", \"ticks\": \"\"}, \"bgcolor\": \"#E5ECF6\", \"caxis\": {\"gridcolor\": \"white\", \"linecolor\": \"white\", \"ticks\": \"\"}}, \"title\": {\"x\": 0.05}, \"xaxis\": {\"automargin\": true, \"gridcolor\": \"white\", \"linecolor\": \"white\", \"ticks\": \"\", \"title\": {\"standoff\": 15}, \"zerolinecolor\": \"white\", \"zerolinewidth\": 2}, \"yaxis\": {\"automargin\": true, \"gridcolor\": \"white\", \"linecolor\": \"white\", \"ticks\": \"\", \"title\": {\"standoff\": 15}, \"zerolinecolor\": \"white\", \"zerolinewidth\": 2}}}, \"title\": {\"text\": \"Popular Songs of All Time\"}, \"width\": 900, \"xaxis\": {\"anchor\": \"y\", \"domain\": [0.0, 1.0], \"title\": {\"text\": \"song hotness\"}}, \"yaxis\": {\"anchor\": \"x\", \"domain\": [0.0, 1.0], \"title\": {\"text\": \"loudness\"}}},                        {\"responsive\": true}                    ).then(function(){\n",
       "                            \n",
       "var gd = document.getElementById('307d611f-e092-4842-aae3-3d6dfaecea00');\n",
       "var x = new MutationObserver(function (mutations, observer) {{\n",
       "        var display = window.getComputedStyle(gd).display;\n",
       "        if (!display || display === 'none') {{\n",
       "            console.log([gd, 'removed!']);\n",
       "            Plotly.purge(gd);\n",
       "            observer.disconnect();\n",
       "        }}\n",
       "}});\n",
       "\n",
       "// Listen for the removal of the full notebook cells\n",
       "var notebookContainer = gd.closest('#notebook-container');\n",
       "if (notebookContainer) {{\n",
       "    x.observe(notebookContainer, {childList: true});\n",
       "}}\n",
       "\n",
       "// Listen for the clearing of the current output cell\n",
       "var outputEl = gd.closest('.output');\n",
       "if (outputEl) {{\n",
       "    x.observe(outputEl, {childList: true});\n",
       "}}\n",
       "\n",
       "                        })                };                });            </script>        </div>"
      ]
     },
     "metadata": {},
     "output_type": "display_data"
    }
   ],
   "source": [
    "%%local\n",
    "import plotly.express as px\n",
    "\n",
    "fig = px.scatter(hottest_songs_df_tab, x='_3', \n",
    "                 y='_6',\n",
    "                 size =  '_5',\n",
    "                 color = '_1',\n",
    "                 text = '_2',\n",
    "                 \n",
    "                 labels={\n",
    "                     \"_4\": \"artist popularity\",\n",
    "                     \"_3\": \"song hotness\",\n",
    "                     \"_1\": \"Artist\",\n",
    "                     \"_6\": \"loudness\",\n",
    "                     \"_2\": \"song\"\n",
    "                     \n",
    "                 },\n",
    "                 color_discrete_sequence=px.colors.qualitative.Bold,\n",
    "                  hover_data = ['_2'], log_x=False, size_max=30)\n",
    "fig.update_traces(textposition='bottom center')\n",
    "\n",
    "fig.update_layout(\n",
    "    height=650,\n",
    "    width=900,\n",
    "    title_text='Popular Songs of All Time'\n",
    "    \n",
    ")\n",
    "fig.show()\n"
   ]
  },
  {
   "cell_type": "markdown",
   "id": "c8ec2cf2",
   "metadata": {},
   "source": [
    "## Similar Artists"
   ]
  },
  {
   "cell_type": "code",
   "execution_count": 29,
   "id": "a4c26535",
   "metadata": {},
   "outputs": [
    {
     "data": {
      "application/vnd.jupyter.widget-view+json": {
       "model_id": "903cdb11d8a74d089dce2ea18732ecdb",
       "version_major": 2,
       "version_minor": 0
      },
      "text/plain": [
       "VBox()"
      ]
     },
     "metadata": {},
     "output_type": "display_data"
    },
    {
     "data": {
      "application/vnd.jupyter.widget-view+json": {
       "model_id": "",
       "version_major": 2,
       "version_minor": 0
      },
      "text/plain": [
       "FloatProgress(value=0.0, bar_style='info', description='Progress:', layout=Layout(height='25px', width='50%'),…"
      ]
     },
     "metadata": {},
     "output_type": "display_data"
    }
   ],
   "source": [
    "similar_artists = table_body.map(lambda x: (x[column_index['get_artist_id']],\n",
    "                          [x[column_index['get_artist_name']], \n",
    "                           x[column_index['get_similar_artists']]]))\n",
    "\n",
    "artists = similar_artists.map(lambda x :(x[0], x[1][0]))\n",
    "ArtistDict = artists.collectAsMap()"
   ]
  },
  {
   "cell_type": "code",
   "execution_count": 30,
   "id": "6a003516",
   "metadata": {},
   "outputs": [
    {
     "data": {
      "application/vnd.jupyter.widget-view+json": {
       "model_id": "fb884b1ebe3642bda7b0cb87c2e37240",
       "version_major": 2,
       "version_minor": 0
      },
      "text/plain": [
       "VBox()"
      ]
     },
     "metadata": {},
     "output_type": "display_data"
    },
    {
     "data": {
      "application/vnd.jupyter.widget-view+json": {
       "model_id": "",
       "version_major": 2,
       "version_minor": 0
      },
      "text/plain": [
       "FloatProgress(value=0.0, bar_style='info', description='Progress:', layout=Layout(height='25px', width='50%'),…"
      ]
     },
     "metadata": {},
     "output_type": "display_data"
    }
   ],
   "source": [
    "def get_list_of_artists(str_lst):\n",
    "    str_lst = str_lst.replace('[', '').replace(']', '').replace(\"'\", \"\")\n",
    "    ids = str_lst.split()\n",
    "    id_names = []\n",
    "    for i in ids:\n",
    "        if i in ArtistDict:\n",
    "            id_names.append(ArtistDict[i])\n",
    "    return id_names"
   ]
  },
  {
   "cell_type": "code",
   "execution_count": 31,
   "id": "83b860b4",
   "metadata": {},
   "outputs": [
    {
     "data": {
      "application/vnd.jupyter.widget-view+json": {
       "model_id": "20067d37b85b4cd0913e2817708062d3",
       "version_major": 2,
       "version_minor": 0
      },
      "text/plain": [
       "VBox()"
      ]
     },
     "metadata": {},
     "output_type": "display_data"
    },
    {
     "data": {
      "application/vnd.jupyter.widget-view+json": {
       "model_id": "",
       "version_major": 2,
       "version_minor": 0
      },
      "text/plain": [
       "FloatProgress(value=0.0, bar_style='info', description='Progress:', layout=Layout(height='25px', width='50%'),…"
      ]
     },
     "metadata": {},
     "output_type": "display_data"
    }
   ],
   "source": [
    "similar_artists_names = similar_artists.map(lambda x: (x[1][0], get_list_of_artists(x[1][1])))"
   ]
  },
  {
   "cell_type": "code",
   "execution_count": 32,
   "id": "447edc19",
   "metadata": {},
   "outputs": [
    {
     "data": {
      "application/vnd.jupyter.widget-view+json": {
       "model_id": "924f3dc77a3740ed927740217d828473",
       "version_major": 2,
       "version_minor": 0
      },
      "text/plain": [
       "VBox()"
      ]
     },
     "metadata": {},
     "output_type": "display_data"
    },
    {
     "data": {
      "application/vnd.jupyter.widget-view+json": {
       "model_id": "",
       "version_major": 2,
       "version_minor": 0
      },
      "text/plain": [
       "FloatProgress(value=0.0, bar_style='info', description='Progress:', layout=Layout(height='25px', width='50%'),…"
      ]
     },
     "metadata": {},
     "output_type": "display_data"
    }
   ],
   "source": [
    "similar_artists_names_df = similar_artists_names.toDF()\n",
    "similar_artists_names_df.createOrReplaceTempView(\"similar_artists_df_view\")"
   ]
  },
  {
   "cell_type": "code",
   "execution_count": 33,
   "id": "86c6f9cb",
   "metadata": {
    "scrolled": false
   },
   "outputs": [
    {
     "data": {
      "application/vnd.jupyter.widget-view+json": {
       "model_id": "",
       "version_major": 2,
       "version_minor": 0
      },
      "text/plain": [
       "FloatProgress(value=0.0, bar_style='info', description='Progress:', layout=Layout(height='25px', width='50%'),…"
      ]
     },
     "metadata": {},
     "output_type": "display_data"
    },
    {
     "data": {
      "application/vnd.jupyter.widget-view+json": {
       "model_id": "229a3441b79548f28b64e0a3047f4245",
       "version_major": 2,
       "version_minor": 0
      },
      "text/plain": [
       "VBox(children=(HBox(children=(HTML(value='Type:'), Button(description='Table', layout=Layout(width='70px'), st…"
      ]
     },
     "metadata": {},
     "output_type": "display_data"
    },
    {
     "data": {
      "application/vnd.jupyter.widget-view+json": {
       "model_id": "e352e9724c964a75a4f1cfaf90c5f34f",
       "version_major": 2,
       "version_minor": 0
      },
      "text/plain": [
       "Output()"
      ]
     },
     "metadata": {},
     "output_type": "display_data"
    }
   ],
   "source": [
    "%%sql -o similar_artists_df_tab\n",
    "SELECT * FROM similar_artists_df_view"
   ]
  },
  {
   "cell_type": "code",
   "execution_count": 36,
   "id": "1069e3ad",
   "metadata": {},
   "outputs": [
    {
     "data": {
      "text/plain": [
       "58.12773609161377"
      ]
     },
     "execution_count": 36,
     "metadata": {},
     "output_type": "execute_result"
    }
   ],
   "source": [
    "%%local\n",
    "t_end = time.time()\n",
    "t_end - t_start"
   ]
  },
  {
   "cell_type": "code",
   "execution_count": 34,
   "id": "1bd71b95",
   "metadata": {},
   "outputs": [
    {
     "data": {
      "application/vnd.jupyter.widget-view+json": {
       "model_id": "655d4b3abc494f19b91dc5528ac6b983",
       "version_major": 2,
       "version_minor": 0
      },
      "text/plain": [
       "VBox()"
      ]
     },
     "metadata": {},
     "output_type": "display_data"
    },
    {
     "data": {
      "application/vnd.jupyter.widget-view+json": {
       "model_id": "",
       "version_major": 2,
       "version_minor": 0
      },
      "text/plain": [
       "FloatProgress(value=0.0, bar_style='info', description='Progress:', layout=Layout(height='25px', width='50%'),…"
      ]
     },
     "metadata": {},
     "output_type": "display_data"
    }
   ],
   "source": [
    "sc.stop()"
   ]
  },
  {
   "cell_type": "markdown",
   "id": "eeb03ee4",
   "metadata": {},
   "source": [
    "## Time Taken"
   ]
  },
  {
   "cell_type": "markdown",
   "id": "6cbb4ed5",
   "metadata": {},
   "source": [
    "### Initial time : 203 secs\n",
    "### After minimizing actions : 180 secs \n",
    "### replacing groupbykey by reducebykey : 95 secs\n",
    "### After adding numPartitions : 58 secs\n"
   ]
  }
 ],
 "metadata": {
  "kernelspec": {
   "display_name": "PySpark",
   "language": "",
   "name": "pysparkkernel"
  },
  "language_info": {
   "codemirror_mode": {
    "name": "python",
    "version": 3
   },
   "mimetype": "text/x-python",
   "name": "pyspark",
   "pygments_lexer": "python3"
  }
 },
 "nbformat": 4,
 "nbformat_minor": 5
}
