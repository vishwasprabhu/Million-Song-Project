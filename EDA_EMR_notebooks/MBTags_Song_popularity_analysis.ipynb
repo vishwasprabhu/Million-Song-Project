{
 "cells": [
  {
   "cell_type": "markdown",
   "id": "b99e4f98",
   "metadata": {},
   "source": [
    "**Analytics goal:  Identifying the most frequent mbtags and their popularity**"
   ]
  },
  {
   "cell_type": "code",
   "execution_count": 1,
   "id": "b3853748",
   "metadata": {},
   "outputs": [],
   "source": [
    "%%local\n",
    "import time\n",
    "start = time.time()"
   ]
  },
  {
   "cell_type": "code",
   "execution_count": 2,
   "id": "7658bca9",
   "metadata": {},
   "outputs": [
    {
     "data": {
      "application/vnd.jupyter.widget-view+json": {
       "model_id": "1e57d62c809c4b239d4146861cd3c7a3",
       "version_major": 2,
       "version_minor": 0
      },
      "text/plain": [
       "VBox()"
      ]
     },
     "metadata": {},
     "output_type": "display_data"
    },
    {
     "name": "stdout",
     "output_type": "stream",
     "text": [
      "Starting Spark application\n"
     ]
    },
    {
     "data": {
      "text/html": [
       "<table>\n",
       "<tr><th>ID</th><th>YARN Application ID</th><th>Kind</th><th>State</th><th>Spark UI</th><th>Driver log</th><th>Current session?</th></tr><tr><td>62</td><td>application_1638946947785_0064</td><td>pyspark</td><td>idle</td><td><a target=\"_blank\" href=\"http://ip-172-31-0-224.us-west-1.compute.internal:20888/proxy/application_1638946947785_0064/\" class=\"emr-proxy-link\" emr-resource=\"j-QXT3PBMEUKWS\n",
       "\" application-id=\"application_1638946947785_0064\">Link</a></td><td><a target=\"_blank\" href=\"http://ip-172-31-11-153.us-west-1.compute.internal:8042/node/containerlogs/container_1638946947785_0064_01_000001/livy\" >Link</a></td><td>✔</td></tr></table>"
      ],
      "text/plain": [
       "<IPython.core.display.HTML object>"
      ]
     },
     "metadata": {},
     "output_type": "display_data"
    },
    {
     "data": {
      "application/vnd.jupyter.widget-view+json": {
       "model_id": "",
       "version_major": 2,
       "version_minor": 0
      },
      "text/plain": [
       "FloatProgress(value=0.0, bar_style='info', description='Progress:', layout=Layout(height='25px', width='50%'),…"
      ]
     },
     "metadata": {},
     "output_type": "display_data"
    },
    {
     "name": "stdout",
     "output_type": "stream",
     "text": [
      "SparkSession available as 'spark'.\n"
     ]
    },
    {
     "data": {
      "application/vnd.jupyter.widget-view+json": {
       "model_id": "",
       "version_major": 2,
       "version_minor": 0
      },
      "text/plain": [
       "FloatProgress(value=0.0, bar_style='info', description='Progress:', layout=Layout(height='25px', width='50%'),…"
      ]
     },
     "metadata": {},
     "output_type": "display_data"
    }
   ],
   "source": [
    "import pyspark\n",
    "import os\n",
    "import re"
   ]
  },
  {
   "cell_type": "code",
   "execution_count": 3,
   "id": "668a34c7",
   "metadata": {},
   "outputs": [],
   "source": [
    "%%local\n",
    "import plotly.graph_objects as go"
   ]
  },
  {
   "cell_type": "code",
   "execution_count": 4,
   "id": "132fe729",
   "metadata": {},
   "outputs": [],
   "source": [
    "%%local\n",
    "import os\n",
    "import re\n",
    "\n",
    "from IPython.display import display\n",
    "from ipywidgets import widgets, interactive\n",
    "import ipywidgets as widgets\n",
    "%config InlineBackend.figure_format = 'retina'\n",
    "import time\n",
    "import plotly.express as px\n",
    "import warnings\n",
    "warnings.filterwarnings(\"ignore\")\n"
   ]
  },
  {
   "cell_type": "code",
   "execution_count": 5,
   "id": "abf44f92",
   "metadata": {},
   "outputs": [
    {
     "data": {
      "application/vnd.jupyter.widget-view+json": {
       "model_id": "96f204bf91f74f68987e1ea5055a83e2",
       "version_major": 2,
       "version_minor": 0
      },
      "text/plain": [
       "VBox()"
      ]
     },
     "metadata": {},
     "output_type": "display_data"
    },
    {
     "data": {
      "application/vnd.jupyter.widget-view+json": {
       "model_id": "",
       "version_major": 2,
       "version_minor": 0
      },
      "text/plain": [
       "FloatProgress(value=0.0, bar_style='info', description='Progress:', layout=Layout(height='25px', width='50%'),…"
      ]
     },
     "metadata": {},
     "output_type": "display_data"
    }
   ],
   "source": [
    "rdd = sc.textFile(\"s3://millionsongs-data/new_g4g.csv\")"
   ]
  },
  {
   "cell_type": "code",
   "execution_count": 6,
   "id": "c40b0c70",
   "metadata": {},
   "outputs": [
    {
     "data": {
      "application/vnd.jupyter.widget-view+json": {
       "model_id": "a62766a0469742aab9b5c314a7690a46",
       "version_major": 2,
       "version_minor": 0
      },
      "text/plain": [
       "VBox()"
      ]
     },
     "metadata": {},
     "output_type": "display_data"
    },
    {
     "data": {
      "application/vnd.jupyter.widget-view+json": {
       "model_id": "",
       "version_major": 2,
       "version_minor": 0
      },
      "text/plain": [
       "FloatProgress(value=0.0, bar_style='info', description='Progress:', layout=Layout(height='25px', width='50%'),…"
      ]
     },
     "metadata": {},
     "output_type": "display_data"
    }
   ],
   "source": [
    "first_row = rdd.first()\n",
    "input_rdd = rdd.filter(lambda x:x != first_row).map(lambda x : x.split('\\t'))"
   ]
  },
  {
   "cell_type": "code",
   "execution_count": 7,
   "id": "0956b0ef",
   "metadata": {},
   "outputs": [
    {
     "data": {
      "application/vnd.jupyter.widget-view+json": {
       "model_id": "2c2f6e0a28104a5894fe68094f6cab0d",
       "version_major": 2,
       "version_minor": 0
      },
      "text/plain": [
       "VBox()"
      ]
     },
     "metadata": {},
     "output_type": "display_data"
    },
    {
     "data": {
      "application/vnd.jupyter.widget-view+json": {
       "model_id": "",
       "version_major": 2,
       "version_minor": 0
      },
      "text/plain": [
       "FloatProgress(value=0.0, bar_style='info', description='Progress:', layout=Layout(height='25px', width='50%'),…"
      ]
     },
     "metadata": {},
     "output_type": "display_data"
    },
    {
     "name": "stdout",
     "output_type": "stream",
     "text": [
      "PythonRDD[3] at RDD at PythonRDD.scala:53"
     ]
    }
   ],
   "source": [
    "input_rdd.cache()"
   ]
  },
  {
   "cell_type": "markdown",
   "id": "af16b344",
   "metadata": {},
   "source": [
    "# mb_tags with highest song popularity"
   ]
  },
  {
   "cell_type": "code",
   "execution_count": 8,
   "id": "9ea654a0",
   "metadata": {},
   "outputs": [
    {
     "data": {
      "application/vnd.jupyter.widget-view+json": {
       "model_id": "96b63ab6d8494e86b6771ce5d474007d",
       "version_major": 2,
       "version_minor": 0
      },
      "text/plain": [
       "VBox()"
      ]
     },
     "metadata": {},
     "output_type": "display_data"
    },
    {
     "data": {
      "application/vnd.jupyter.widget-view+json": {
       "model_id": "",
       "version_major": 2,
       "version_minor": 0
      },
      "text/plain": [
       "FloatProgress(value=0.0, bar_style='info', description='Progress:', layout=Layout(height='25px', width='50%'),…"
      ]
     },
     "metadata": {},
     "output_type": "display_data"
    }
   ],
   "source": [
    "rdd_map=input_rdd.filter(lambda x : x[43]!= '')\\\n",
    "        .map(lambda x : (float(x[43]), re.findall(r\"'(.*?)'\", x[9], re.DOTALL) ))\\\n",
    "        .flatMapValues(lambda x :x)"
   ]
  },
  {
   "cell_type": "code",
   "execution_count": 9,
   "id": "0e0ee392",
   "metadata": {},
   "outputs": [
    {
     "data": {
      "application/vnd.jupyter.widget-view+json": {
       "model_id": "8087e722fdc243e78bdda1adb2985d20",
       "version_major": 2,
       "version_minor": 0
      },
      "text/plain": [
       "VBox()"
      ]
     },
     "metadata": {},
     "output_type": "display_data"
    },
    {
     "data": {
      "application/vnd.jupyter.widget-view+json": {
       "model_id": "",
       "version_major": 2,
       "version_minor": 0
      },
      "text/plain": [
       "FloatProgress(value=0.0, bar_style='info', description='Progress:', layout=Layout(height='25px', width='50%'),…"
      ]
     },
     "metadata": {},
     "output_type": "display_data"
    }
   ],
   "source": [
    "top_categories = rdd_map.map(lambda x : (x[1],x[0])).mapValues(lambda v: (v, 1))\\\n",
    "        .reduceByKey(lambda a,b : (a[0] +b[0], a[1] +b[1]),numPartitions=7)\\\n",
    "        .mapValues(lambda x : x[0]/x[1])\\\n",
    "        .sortBy(lambda x: x[1], ascending=False,numPartitions=7)"
   ]
  },
  {
   "cell_type": "code",
   "execution_count": 10,
   "id": "59ce2eef",
   "metadata": {},
   "outputs": [
    {
     "data": {
      "application/vnd.jupyter.widget-view+json": {
       "model_id": "0fc867e0f48d4e7ea6ce727756bdce17",
       "version_major": 2,
       "version_minor": 0
      },
      "text/plain": [
       "VBox()"
      ]
     },
     "metadata": {},
     "output_type": "display_data"
    },
    {
     "data": {
      "application/vnd.jupyter.widget-view+json": {
       "model_id": "",
       "version_major": 2,
       "version_minor": 0
      },
      "text/plain": [
       "FloatProgress(value=0.0, bar_style='info', description='Progress:', layout=Layout(height='25px', width='50%'),…"
      ]
     },
     "metadata": {},
     "output_type": "display_data"
    }
   ],
   "source": [
    "top_categories_df = top_categories.toDF()\n",
    "top_categories_df.createOrReplaceTempView('top_categories_view')"
   ]
  },
  {
   "cell_type": "code",
   "execution_count": 11,
   "id": "993e2fd9",
   "metadata": {},
   "outputs": [
    {
     "data": {
      "application/vnd.jupyter.widget-view+json": {
       "model_id": "",
       "version_major": 2,
       "version_minor": 0
      },
      "text/plain": [
       "FloatProgress(value=0.0, bar_style='info', description='Progress:', layout=Layout(height='25px', width='50%'),…"
      ]
     },
     "metadata": {},
     "output_type": "display_data"
    },
    {
     "data": {
      "application/vnd.jupyter.widget-view+json": {
       "model_id": "a331238953744044abfe546af38b24c1",
       "version_major": 2,
       "version_minor": 0
      },
      "text/plain": [
       "VBox(children=(HBox(children=(HTML(value='Type:'), Button(description='Table', layout=Layout(width='70px'), st…"
      ]
     },
     "metadata": {},
     "output_type": "display_data"
    },
    {
     "data": {
      "application/vnd.jupyter.widget-view+json": {
       "model_id": "228867a41be94f26b6819ff4898b9d1e",
       "version_major": 2,
       "version_minor": 0
      },
      "text/plain": [
       "Output()"
      ]
     },
     "metadata": {},
     "output_type": "display_data"
    }
   ],
   "source": [
    "%%sql -o df_popularity\n",
    "SELECT * FROM top_categories_view order by _2 desc LIMIT 10"
   ]
  },
  {
   "cell_type": "code",
   "execution_count": 12,
   "id": "647159cd",
   "metadata": {},
   "outputs": [
    {
     "data": {
      "application/vnd.plotly.v1+json": {
       "config": {
        "plotlyServerURL": "https://plot.ly"
       },
       "data": [
        {
         "alignmentgroup": "True",
         "hovertemplate": "Artist Popularity=%{x}<br>mb_tags=%{y}<extra></extra>",
         "legendgroup": "",
         "marker": {
          "color": "#636efa"
         },
         "name": "",
         "offsetgroup": "",
         "orientation": "h",
         "showlegend": false,
         "textposition": "auto",
         "type": "bar",
         "x": [
          0.8287479498455682,
          0.8318037425656669,
          0.8318037425656669,
          0.841876333495726,
          0.8547177215465694,
          0.8664897397326315,
          0.8664897397326315,
          0.8801799827768519,
          0.8964786847075179,
          0.9041696612136142
         ],
         "xaxis": "x",
         "y": [
          "sucky",
          "néo-zélandais",
          "nouvelle-zélande",
          "hip hop soul",
          "experimental metal",
          "connecticut",
          "new haven",
          "no doubt",
          "early demos",
          "indietronica"
         ],
         "yaxis": "y"
        }
       ],
       "layout": {
        "barmode": "relative",
        "legend": {
         "tracegroupgap": 0
        },
        "template": {
         "data": {
          "bar": [
           {
            "error_x": {
             "color": "#2a3f5f"
            },
            "error_y": {
             "color": "#2a3f5f"
            },
            "marker": {
             "line": {
              "color": "#E5ECF6",
              "width": 0.5
             }
            },
            "type": "bar"
           }
          ],
          "barpolar": [
           {
            "marker": {
             "line": {
              "color": "#E5ECF6",
              "width": 0.5
             }
            },
            "type": "barpolar"
           }
          ],
          "carpet": [
           {
            "aaxis": {
             "endlinecolor": "#2a3f5f",
             "gridcolor": "white",
             "linecolor": "white",
             "minorgridcolor": "white",
             "startlinecolor": "#2a3f5f"
            },
            "baxis": {
             "endlinecolor": "#2a3f5f",
             "gridcolor": "white",
             "linecolor": "white",
             "minorgridcolor": "white",
             "startlinecolor": "#2a3f5f"
            },
            "type": "carpet"
           }
          ],
          "choropleth": [
           {
            "colorbar": {
             "outlinewidth": 0,
             "ticks": ""
            },
            "type": "choropleth"
           }
          ],
          "contour": [
           {
            "colorbar": {
             "outlinewidth": 0,
             "ticks": ""
            },
            "colorscale": [
             [
              0,
              "#0d0887"
             ],
             [
              0.1111111111111111,
              "#46039f"
             ],
             [
              0.2222222222222222,
              "#7201a8"
             ],
             [
              0.3333333333333333,
              "#9c179e"
             ],
             [
              0.4444444444444444,
              "#bd3786"
             ],
             [
              0.5555555555555556,
              "#d8576b"
             ],
             [
              0.6666666666666666,
              "#ed7953"
             ],
             [
              0.7777777777777778,
              "#fb9f3a"
             ],
             [
              0.8888888888888888,
              "#fdca26"
             ],
             [
              1,
              "#f0f921"
             ]
            ],
            "type": "contour"
           }
          ],
          "contourcarpet": [
           {
            "colorbar": {
             "outlinewidth": 0,
             "ticks": ""
            },
            "type": "contourcarpet"
           }
          ],
          "heatmap": [
           {
            "colorbar": {
             "outlinewidth": 0,
             "ticks": ""
            },
            "colorscale": [
             [
              0,
              "#0d0887"
             ],
             [
              0.1111111111111111,
              "#46039f"
             ],
             [
              0.2222222222222222,
              "#7201a8"
             ],
             [
              0.3333333333333333,
              "#9c179e"
             ],
             [
              0.4444444444444444,
              "#bd3786"
             ],
             [
              0.5555555555555556,
              "#d8576b"
             ],
             [
              0.6666666666666666,
              "#ed7953"
             ],
             [
              0.7777777777777778,
              "#fb9f3a"
             ],
             [
              0.8888888888888888,
              "#fdca26"
             ],
             [
              1,
              "#f0f921"
             ]
            ],
            "type": "heatmap"
           }
          ],
          "heatmapgl": [
           {
            "colorbar": {
             "outlinewidth": 0,
             "ticks": ""
            },
            "colorscale": [
             [
              0,
              "#0d0887"
             ],
             [
              0.1111111111111111,
              "#46039f"
             ],
             [
              0.2222222222222222,
              "#7201a8"
             ],
             [
              0.3333333333333333,
              "#9c179e"
             ],
             [
              0.4444444444444444,
              "#bd3786"
             ],
             [
              0.5555555555555556,
              "#d8576b"
             ],
             [
              0.6666666666666666,
              "#ed7953"
             ],
             [
              0.7777777777777778,
              "#fb9f3a"
             ],
             [
              0.8888888888888888,
              "#fdca26"
             ],
             [
              1,
              "#f0f921"
             ]
            ],
            "type": "heatmapgl"
           }
          ],
          "histogram": [
           {
            "marker": {
             "colorbar": {
              "outlinewidth": 0,
              "ticks": ""
             }
            },
            "type": "histogram"
           }
          ],
          "histogram2d": [
           {
            "colorbar": {
             "outlinewidth": 0,
             "ticks": ""
            },
            "colorscale": [
             [
              0,
              "#0d0887"
             ],
             [
              0.1111111111111111,
              "#46039f"
             ],
             [
              0.2222222222222222,
              "#7201a8"
             ],
             [
              0.3333333333333333,
              "#9c179e"
             ],
             [
              0.4444444444444444,
              "#bd3786"
             ],
             [
              0.5555555555555556,
              "#d8576b"
             ],
             [
              0.6666666666666666,
              "#ed7953"
             ],
             [
              0.7777777777777778,
              "#fb9f3a"
             ],
             [
              0.8888888888888888,
              "#fdca26"
             ],
             [
              1,
              "#f0f921"
             ]
            ],
            "type": "histogram2d"
           }
          ],
          "histogram2dcontour": [
           {
            "colorbar": {
             "outlinewidth": 0,
             "ticks": ""
            },
            "colorscale": [
             [
              0,
              "#0d0887"
             ],
             [
              0.1111111111111111,
              "#46039f"
             ],
             [
              0.2222222222222222,
              "#7201a8"
             ],
             [
              0.3333333333333333,
              "#9c179e"
             ],
             [
              0.4444444444444444,
              "#bd3786"
             ],
             [
              0.5555555555555556,
              "#d8576b"
             ],
             [
              0.6666666666666666,
              "#ed7953"
             ],
             [
              0.7777777777777778,
              "#fb9f3a"
             ],
             [
              0.8888888888888888,
              "#fdca26"
             ],
             [
              1,
              "#f0f921"
             ]
            ],
            "type": "histogram2dcontour"
           }
          ],
          "mesh3d": [
           {
            "colorbar": {
             "outlinewidth": 0,
             "ticks": ""
            },
            "type": "mesh3d"
           }
          ],
          "parcoords": [
           {
            "line": {
             "colorbar": {
              "outlinewidth": 0,
              "ticks": ""
             }
            },
            "type": "parcoords"
           }
          ],
          "pie": [
           {
            "automargin": true,
            "type": "pie"
           }
          ],
          "scatter": [
           {
            "marker": {
             "colorbar": {
              "outlinewidth": 0,
              "ticks": ""
             }
            },
            "type": "scatter"
           }
          ],
          "scatter3d": [
           {
            "line": {
             "colorbar": {
              "outlinewidth": 0,
              "ticks": ""
             }
            },
            "marker": {
             "colorbar": {
              "outlinewidth": 0,
              "ticks": ""
             }
            },
            "type": "scatter3d"
           }
          ],
          "scattercarpet": [
           {
            "marker": {
             "colorbar": {
              "outlinewidth": 0,
              "ticks": ""
             }
            },
            "type": "scattercarpet"
           }
          ],
          "scattergeo": [
           {
            "marker": {
             "colorbar": {
              "outlinewidth": 0,
              "ticks": ""
             }
            },
            "type": "scattergeo"
           }
          ],
          "scattergl": [
           {
            "marker": {
             "colorbar": {
              "outlinewidth": 0,
              "ticks": ""
             }
            },
            "type": "scattergl"
           }
          ],
          "scattermapbox": [
           {
            "marker": {
             "colorbar": {
              "outlinewidth": 0,
              "ticks": ""
             }
            },
            "type": "scattermapbox"
           }
          ],
          "scatterpolar": [
           {
            "marker": {
             "colorbar": {
              "outlinewidth": 0,
              "ticks": ""
             }
            },
            "type": "scatterpolar"
           }
          ],
          "scatterpolargl": [
           {
            "marker": {
             "colorbar": {
              "outlinewidth": 0,
              "ticks": ""
             }
            },
            "type": "scatterpolargl"
           }
          ],
          "scatterternary": [
           {
            "marker": {
             "colorbar": {
              "outlinewidth": 0,
              "ticks": ""
             }
            },
            "type": "scatterternary"
           }
          ],
          "surface": [
           {
            "colorbar": {
             "outlinewidth": 0,
             "ticks": ""
            },
            "colorscale": [
             [
              0,
              "#0d0887"
             ],
             [
              0.1111111111111111,
              "#46039f"
             ],
             [
              0.2222222222222222,
              "#7201a8"
             ],
             [
              0.3333333333333333,
              "#9c179e"
             ],
             [
              0.4444444444444444,
              "#bd3786"
             ],
             [
              0.5555555555555556,
              "#d8576b"
             ],
             [
              0.6666666666666666,
              "#ed7953"
             ],
             [
              0.7777777777777778,
              "#fb9f3a"
             ],
             [
              0.8888888888888888,
              "#fdca26"
             ],
             [
              1,
              "#f0f921"
             ]
            ],
            "type": "surface"
           }
          ],
          "table": [
           {
            "cells": {
             "fill": {
              "color": "#EBF0F8"
             },
             "line": {
              "color": "white"
             }
            },
            "header": {
             "fill": {
              "color": "#C8D4E3"
             },
             "line": {
              "color": "white"
             }
            },
            "type": "table"
           }
          ]
         },
         "layout": {
          "annotationdefaults": {
           "arrowcolor": "#2a3f5f",
           "arrowhead": 0,
           "arrowwidth": 1
          },
          "autotypenumbers": "strict",
          "coloraxis": {
           "colorbar": {
            "outlinewidth": 0,
            "ticks": ""
           }
          },
          "colorscale": {
           "diverging": [
            [
             0,
             "#8e0152"
            ],
            [
             0.1,
             "#c51b7d"
            ],
            [
             0.2,
             "#de77ae"
            ],
            [
             0.3,
             "#f1b6da"
            ],
            [
             0.4,
             "#fde0ef"
            ],
            [
             0.5,
             "#f7f7f7"
            ],
            [
             0.6,
             "#e6f5d0"
            ],
            [
             0.7,
             "#b8e186"
            ],
            [
             0.8,
             "#7fbc41"
            ],
            [
             0.9,
             "#4d9221"
            ],
            [
             1,
             "#276419"
            ]
           ],
           "sequential": [
            [
             0,
             "#0d0887"
            ],
            [
             0.1111111111111111,
             "#46039f"
            ],
            [
             0.2222222222222222,
             "#7201a8"
            ],
            [
             0.3333333333333333,
             "#9c179e"
            ],
            [
             0.4444444444444444,
             "#bd3786"
            ],
            [
             0.5555555555555556,
             "#d8576b"
            ],
            [
             0.6666666666666666,
             "#ed7953"
            ],
            [
             0.7777777777777778,
             "#fb9f3a"
            ],
            [
             0.8888888888888888,
             "#fdca26"
            ],
            [
             1,
             "#f0f921"
            ]
           ],
           "sequentialminus": [
            [
             0,
             "#0d0887"
            ],
            [
             0.1111111111111111,
             "#46039f"
            ],
            [
             0.2222222222222222,
             "#7201a8"
            ],
            [
             0.3333333333333333,
             "#9c179e"
            ],
            [
             0.4444444444444444,
             "#bd3786"
            ],
            [
             0.5555555555555556,
             "#d8576b"
            ],
            [
             0.6666666666666666,
             "#ed7953"
            ],
            [
             0.7777777777777778,
             "#fb9f3a"
            ],
            [
             0.8888888888888888,
             "#fdca26"
            ],
            [
             1,
             "#f0f921"
            ]
           ]
          },
          "colorway": [
           "#636efa",
           "#EF553B",
           "#00cc96",
           "#ab63fa",
           "#FFA15A",
           "#19d3f3",
           "#FF6692",
           "#B6E880",
           "#FF97FF",
           "#FECB52"
          ],
          "font": {
           "color": "#2a3f5f"
          },
          "geo": {
           "bgcolor": "white",
           "lakecolor": "white",
           "landcolor": "#E5ECF6",
           "showlakes": true,
           "showland": true,
           "subunitcolor": "white"
          },
          "hoverlabel": {
           "align": "left"
          },
          "hovermode": "closest",
          "mapbox": {
           "style": "light"
          },
          "paper_bgcolor": "white",
          "plot_bgcolor": "#E5ECF6",
          "polar": {
           "angularaxis": {
            "gridcolor": "white",
            "linecolor": "white",
            "ticks": ""
           },
           "bgcolor": "#E5ECF6",
           "radialaxis": {
            "gridcolor": "white",
            "linecolor": "white",
            "ticks": ""
           }
          },
          "scene": {
           "xaxis": {
            "backgroundcolor": "#E5ECF6",
            "gridcolor": "white",
            "gridwidth": 2,
            "linecolor": "white",
            "showbackground": true,
            "ticks": "",
            "zerolinecolor": "white"
           },
           "yaxis": {
            "backgroundcolor": "#E5ECF6",
            "gridcolor": "white",
            "gridwidth": 2,
            "linecolor": "white",
            "showbackground": true,
            "ticks": "",
            "zerolinecolor": "white"
           },
           "zaxis": {
            "backgroundcolor": "#E5ECF6",
            "gridcolor": "white",
            "gridwidth": 2,
            "linecolor": "white",
            "showbackground": true,
            "ticks": "",
            "zerolinecolor": "white"
           }
          },
          "shapedefaults": {
           "line": {
            "color": "#2a3f5f"
           }
          },
          "ternary": {
           "aaxis": {
            "gridcolor": "white",
            "linecolor": "white",
            "ticks": ""
           },
           "baxis": {
            "gridcolor": "white",
            "linecolor": "white",
            "ticks": ""
           },
           "bgcolor": "#E5ECF6",
           "caxis": {
            "gridcolor": "white",
            "linecolor": "white",
            "ticks": ""
           }
          },
          "title": {
           "x": 0.05
          },
          "xaxis": {
           "automargin": true,
           "gridcolor": "white",
           "linecolor": "white",
           "ticks": "",
           "title": {
            "standoff": 15
           },
           "zerolinecolor": "white",
           "zerolinewidth": 2
          },
          "yaxis": {
           "automargin": true,
           "gridcolor": "white",
           "linecolor": "white",
           "ticks": "",
           "title": {
            "standoff": 15
           },
           "zerolinecolor": "white",
           "zerolinewidth": 2
          }
         }
        },
        "title": {
         "text": "Mb_tags and Song Popularity"
        },
        "xaxis": {
         "anchor": "y",
         "domain": [
          0,
          1
         ],
         "title": {
          "text": "Artist Popularity"
         }
        },
        "yaxis": {
         "anchor": "x",
         "domain": [
          0,
          1
         ],
         "title": {
          "text": "mb_tags"
         }
        }
       }
      },
      "text/html": [
       "<div>                            <div id=\"a9795994-0583-420b-9af2-073313e82c8d\" class=\"plotly-graph-div\" style=\"height:525px; width:100%;\"></div>            <script type=\"text/javascript\">                require([\"plotly\"], function(Plotly) {                    window.PLOTLYENV=window.PLOTLYENV || {};                                    if (document.getElementById(\"a9795994-0583-420b-9af2-073313e82c8d\")) {                    Plotly.newPlot(                        \"a9795994-0583-420b-9af2-073313e82c8d\",                        [{\"alignmentgroup\": \"True\", \"hovertemplate\": \"Artist Popularity=%{x}<br>mb_tags=%{y}<extra></extra>\", \"legendgroup\": \"\", \"marker\": {\"color\": \"#636efa\"}, \"name\": \"\", \"offsetgroup\": \"\", \"orientation\": \"h\", \"showlegend\": false, \"textposition\": \"auto\", \"type\": \"bar\", \"x\": [0.8287479498455682, 0.8318037425656669, 0.8318037425656669, 0.841876333495726, 0.8547177215465694, 0.8664897397326315, 0.8664897397326315, 0.8801799827768519, 0.8964786847075179, 0.9041696612136142], \"xaxis\": \"x\", \"y\": [\"sucky\", \"n\\u00e9o-z\\u00e9landais\", \"nouvelle-z\\u00e9lande\", \"hip hop soul\", \"experimental metal\", \"connecticut\", \"new haven\", \"no doubt\", \"early demos\", \"indietronica\"], \"yaxis\": \"y\"}],                        {\"barmode\": \"relative\", \"legend\": {\"tracegroupgap\": 0}, \"template\": {\"data\": {\"bar\": [{\"error_x\": {\"color\": \"#2a3f5f\"}, \"error_y\": {\"color\": \"#2a3f5f\"}, \"marker\": {\"line\": {\"color\": \"#E5ECF6\", \"width\": 0.5}}, \"type\": \"bar\"}], \"barpolar\": [{\"marker\": {\"line\": {\"color\": \"#E5ECF6\", \"width\": 0.5}}, \"type\": \"barpolar\"}], \"carpet\": [{\"aaxis\": {\"endlinecolor\": \"#2a3f5f\", \"gridcolor\": \"white\", \"linecolor\": \"white\", \"minorgridcolor\": \"white\", \"startlinecolor\": \"#2a3f5f\"}, \"baxis\": {\"endlinecolor\": \"#2a3f5f\", \"gridcolor\": \"white\", \"linecolor\": \"white\", \"minorgridcolor\": \"white\", \"startlinecolor\": \"#2a3f5f\"}, \"type\": \"carpet\"}], \"choropleth\": [{\"colorbar\": {\"outlinewidth\": 0, \"ticks\": \"\"}, \"type\": \"choropleth\"}], \"contour\": [{\"colorbar\": {\"outlinewidth\": 0, \"ticks\": \"\"}, \"colorscale\": [[0.0, \"#0d0887\"], [0.1111111111111111, \"#46039f\"], [0.2222222222222222, \"#7201a8\"], [0.3333333333333333, \"#9c179e\"], [0.4444444444444444, \"#bd3786\"], [0.5555555555555556, \"#d8576b\"], [0.6666666666666666, \"#ed7953\"], [0.7777777777777778, \"#fb9f3a\"], [0.8888888888888888, \"#fdca26\"], [1.0, \"#f0f921\"]], \"type\": \"contour\"}], \"contourcarpet\": [{\"colorbar\": {\"outlinewidth\": 0, \"ticks\": \"\"}, \"type\": \"contourcarpet\"}], \"heatmap\": [{\"colorbar\": {\"outlinewidth\": 0, \"ticks\": \"\"}, \"colorscale\": [[0.0, \"#0d0887\"], [0.1111111111111111, \"#46039f\"], [0.2222222222222222, \"#7201a8\"], [0.3333333333333333, \"#9c179e\"], [0.4444444444444444, \"#bd3786\"], [0.5555555555555556, \"#d8576b\"], [0.6666666666666666, \"#ed7953\"], [0.7777777777777778, \"#fb9f3a\"], [0.8888888888888888, \"#fdca26\"], [1.0, \"#f0f921\"]], \"type\": \"heatmap\"}], \"heatmapgl\": [{\"colorbar\": {\"outlinewidth\": 0, \"ticks\": \"\"}, \"colorscale\": [[0.0, \"#0d0887\"], [0.1111111111111111, \"#46039f\"], [0.2222222222222222, \"#7201a8\"], [0.3333333333333333, \"#9c179e\"], [0.4444444444444444, \"#bd3786\"], [0.5555555555555556, \"#d8576b\"], [0.6666666666666666, \"#ed7953\"], [0.7777777777777778, \"#fb9f3a\"], [0.8888888888888888, \"#fdca26\"], [1.0, \"#f0f921\"]], \"type\": \"heatmapgl\"}], \"histogram\": [{\"marker\": {\"colorbar\": {\"outlinewidth\": 0, \"ticks\": \"\"}}, \"type\": \"histogram\"}], \"histogram2d\": [{\"colorbar\": {\"outlinewidth\": 0, \"ticks\": \"\"}, \"colorscale\": [[0.0, \"#0d0887\"], [0.1111111111111111, \"#46039f\"], [0.2222222222222222, \"#7201a8\"], [0.3333333333333333, \"#9c179e\"], [0.4444444444444444, \"#bd3786\"], [0.5555555555555556, \"#d8576b\"], [0.6666666666666666, \"#ed7953\"], [0.7777777777777778, \"#fb9f3a\"], [0.8888888888888888, \"#fdca26\"], [1.0, \"#f0f921\"]], \"type\": \"histogram2d\"}], \"histogram2dcontour\": [{\"colorbar\": {\"outlinewidth\": 0, \"ticks\": \"\"}, \"colorscale\": [[0.0, \"#0d0887\"], [0.1111111111111111, \"#46039f\"], [0.2222222222222222, \"#7201a8\"], [0.3333333333333333, \"#9c179e\"], [0.4444444444444444, \"#bd3786\"], [0.5555555555555556, \"#d8576b\"], [0.6666666666666666, \"#ed7953\"], [0.7777777777777778, \"#fb9f3a\"], [0.8888888888888888, \"#fdca26\"], [1.0, \"#f0f921\"]], \"type\": \"histogram2dcontour\"}], \"mesh3d\": [{\"colorbar\": {\"outlinewidth\": 0, \"ticks\": \"\"}, \"type\": \"mesh3d\"}], \"parcoords\": [{\"line\": {\"colorbar\": {\"outlinewidth\": 0, \"ticks\": \"\"}}, \"type\": \"parcoords\"}], \"pie\": [{\"automargin\": true, \"type\": \"pie\"}], \"scatter\": [{\"marker\": {\"colorbar\": {\"outlinewidth\": 0, \"ticks\": \"\"}}, \"type\": \"scatter\"}], \"scatter3d\": [{\"line\": {\"colorbar\": {\"outlinewidth\": 0, \"ticks\": \"\"}}, \"marker\": {\"colorbar\": {\"outlinewidth\": 0, \"ticks\": \"\"}}, \"type\": \"scatter3d\"}], \"scattercarpet\": [{\"marker\": {\"colorbar\": {\"outlinewidth\": 0, \"ticks\": \"\"}}, \"type\": \"scattercarpet\"}], \"scattergeo\": [{\"marker\": {\"colorbar\": {\"outlinewidth\": 0, \"ticks\": \"\"}}, \"type\": \"scattergeo\"}], \"scattergl\": [{\"marker\": {\"colorbar\": {\"outlinewidth\": 0, \"ticks\": \"\"}}, \"type\": \"scattergl\"}], \"scattermapbox\": [{\"marker\": {\"colorbar\": {\"outlinewidth\": 0, \"ticks\": \"\"}}, \"type\": \"scattermapbox\"}], \"scatterpolar\": [{\"marker\": {\"colorbar\": {\"outlinewidth\": 0, \"ticks\": \"\"}}, \"type\": \"scatterpolar\"}], \"scatterpolargl\": [{\"marker\": {\"colorbar\": {\"outlinewidth\": 0, \"ticks\": \"\"}}, \"type\": \"scatterpolargl\"}], \"scatterternary\": [{\"marker\": {\"colorbar\": {\"outlinewidth\": 0, \"ticks\": \"\"}}, \"type\": \"scatterternary\"}], \"surface\": [{\"colorbar\": {\"outlinewidth\": 0, \"ticks\": \"\"}, \"colorscale\": [[0.0, \"#0d0887\"], [0.1111111111111111, \"#46039f\"], [0.2222222222222222, \"#7201a8\"], [0.3333333333333333, \"#9c179e\"], [0.4444444444444444, \"#bd3786\"], [0.5555555555555556, \"#d8576b\"], [0.6666666666666666, \"#ed7953\"], [0.7777777777777778, \"#fb9f3a\"], [0.8888888888888888, \"#fdca26\"], [1.0, \"#f0f921\"]], \"type\": \"surface\"}], \"table\": [{\"cells\": {\"fill\": {\"color\": \"#EBF0F8\"}, \"line\": {\"color\": \"white\"}}, \"header\": {\"fill\": {\"color\": \"#C8D4E3\"}, \"line\": {\"color\": \"white\"}}, \"type\": \"table\"}]}, \"layout\": {\"annotationdefaults\": {\"arrowcolor\": \"#2a3f5f\", \"arrowhead\": 0, \"arrowwidth\": 1}, \"autotypenumbers\": \"strict\", \"coloraxis\": {\"colorbar\": {\"outlinewidth\": 0, \"ticks\": \"\"}}, \"colorscale\": {\"diverging\": [[0, \"#8e0152\"], [0.1, \"#c51b7d\"], [0.2, \"#de77ae\"], [0.3, \"#f1b6da\"], [0.4, \"#fde0ef\"], [0.5, \"#f7f7f7\"], [0.6, \"#e6f5d0\"], [0.7, \"#b8e186\"], [0.8, \"#7fbc41\"], [0.9, \"#4d9221\"], [1, \"#276419\"]], \"sequential\": [[0.0, \"#0d0887\"], [0.1111111111111111, \"#46039f\"], [0.2222222222222222, \"#7201a8\"], [0.3333333333333333, \"#9c179e\"], [0.4444444444444444, \"#bd3786\"], [0.5555555555555556, \"#d8576b\"], [0.6666666666666666, \"#ed7953\"], [0.7777777777777778, \"#fb9f3a\"], [0.8888888888888888, \"#fdca26\"], [1.0, \"#f0f921\"]], \"sequentialminus\": [[0.0, \"#0d0887\"], [0.1111111111111111, \"#46039f\"], [0.2222222222222222, \"#7201a8\"], [0.3333333333333333, \"#9c179e\"], [0.4444444444444444, \"#bd3786\"], [0.5555555555555556, \"#d8576b\"], [0.6666666666666666, \"#ed7953\"], [0.7777777777777778, \"#fb9f3a\"], [0.8888888888888888, \"#fdca26\"], [1.0, \"#f0f921\"]]}, \"colorway\": [\"#636efa\", \"#EF553B\", \"#00cc96\", \"#ab63fa\", \"#FFA15A\", \"#19d3f3\", \"#FF6692\", \"#B6E880\", \"#FF97FF\", \"#FECB52\"], \"font\": {\"color\": \"#2a3f5f\"}, \"geo\": {\"bgcolor\": \"white\", \"lakecolor\": \"white\", \"landcolor\": \"#E5ECF6\", \"showlakes\": true, \"showland\": true, \"subunitcolor\": \"white\"}, \"hoverlabel\": {\"align\": \"left\"}, \"hovermode\": \"closest\", \"mapbox\": {\"style\": \"light\"}, \"paper_bgcolor\": \"white\", \"plot_bgcolor\": \"#E5ECF6\", \"polar\": {\"angularaxis\": {\"gridcolor\": \"white\", \"linecolor\": \"white\", \"ticks\": \"\"}, \"bgcolor\": \"#E5ECF6\", \"radialaxis\": {\"gridcolor\": \"white\", \"linecolor\": \"white\", \"ticks\": \"\"}}, \"scene\": {\"xaxis\": {\"backgroundcolor\": \"#E5ECF6\", \"gridcolor\": \"white\", \"gridwidth\": 2, \"linecolor\": \"white\", \"showbackground\": true, \"ticks\": \"\", \"zerolinecolor\": \"white\"}, \"yaxis\": {\"backgroundcolor\": \"#E5ECF6\", \"gridcolor\": \"white\", \"gridwidth\": 2, \"linecolor\": \"white\", \"showbackground\": true, \"ticks\": \"\", \"zerolinecolor\": \"white\"}, \"zaxis\": {\"backgroundcolor\": \"#E5ECF6\", \"gridcolor\": \"white\", \"gridwidth\": 2, \"linecolor\": \"white\", \"showbackground\": true, \"ticks\": \"\", \"zerolinecolor\": \"white\"}}, \"shapedefaults\": {\"line\": {\"color\": \"#2a3f5f\"}}, \"ternary\": {\"aaxis\": {\"gridcolor\": \"white\", \"linecolor\": \"white\", \"ticks\": \"\"}, \"baxis\": {\"gridcolor\": \"white\", \"linecolor\": \"white\", \"ticks\": \"\"}, \"bgcolor\": \"#E5ECF6\", \"caxis\": {\"gridcolor\": \"white\", \"linecolor\": \"white\", \"ticks\": \"\"}}, \"title\": {\"x\": 0.05}, \"xaxis\": {\"automargin\": true, \"gridcolor\": \"white\", \"linecolor\": \"white\", \"ticks\": \"\", \"title\": {\"standoff\": 15}, \"zerolinecolor\": \"white\", \"zerolinewidth\": 2}, \"yaxis\": {\"automargin\": true, \"gridcolor\": \"white\", \"linecolor\": \"white\", \"ticks\": \"\", \"title\": {\"standoff\": 15}, \"zerolinecolor\": \"white\", \"zerolinewidth\": 2}}}, \"title\": {\"text\": \"Mb_tags and Song Popularity\"}, \"xaxis\": {\"anchor\": \"y\", \"domain\": [0.0, 1.0], \"title\": {\"text\": \"Artist Popularity\"}}, \"yaxis\": {\"anchor\": \"x\", \"domain\": [0.0, 1.0], \"title\": {\"text\": \"mb_tags\"}}},                        {\"responsive\": true}                    ).then(function(){\n",
       "                            \n",
       "var gd = document.getElementById('a9795994-0583-420b-9af2-073313e82c8d');\n",
       "var x = new MutationObserver(function (mutations, observer) {{\n",
       "        var display = window.getComputedStyle(gd).display;\n",
       "        if (!display || display === 'none') {{\n",
       "            console.log([gd, 'removed!']);\n",
       "            Plotly.purge(gd);\n",
       "            observer.disconnect();\n",
       "        }}\n",
       "}});\n",
       "\n",
       "// Listen for the removal of the full notebook cells\n",
       "var notebookContainer = gd.closest('#notebook-container');\n",
       "if (notebookContainer) {{\n",
       "    x.observe(notebookContainer, {childList: true});\n",
       "}}\n",
       "\n",
       "// Listen for the clearing of the current output cell\n",
       "var outputEl = gd.closest('.output');\n",
       "if (outputEl) {{\n",
       "    x.observe(outputEl, {childList: true});\n",
       "}}\n",
       "\n",
       "                        })                };                });            </script>        </div>"
      ]
     },
     "metadata": {},
     "output_type": "display_data"
    }
   ],
   "source": [
    "%%local\n",
    "import plotly.express as px\n",
    "import plotly.graph_objects as go\n",
    "fig = go.Figure()\n",
    "#data_canada = px.data.gapminder()\n",
    "fig = px.bar(df_popularity[::-1], y='_1', x='_2', orientation='h', labels={\n",
    "     \"_1\": \"mb_tags\",\n",
    "     \"_2\": \"Artist Popularity\"},title=\"Mb_tags and Song Popularity\",)\n",
    "fig.show()"
   ]
  },
  {
   "cell_type": "markdown",
   "id": "ed2723e4",
   "metadata": {},
   "source": [
    "# WorldCloud of Top mbids with respect to their frequency"
   ]
  },
  {
   "cell_type": "code",
   "execution_count": 13,
   "id": "bafb385f",
   "metadata": {},
   "outputs": [
    {
     "data": {
      "application/vnd.jupyter.widget-view+json": {
       "model_id": "a1d7551161284bfd917db66f14861dcd",
       "version_major": 2,
       "version_minor": 0
      },
      "text/plain": [
       "VBox()"
      ]
     },
     "metadata": {},
     "output_type": "display_data"
    },
    {
     "data": {
      "application/vnd.jupyter.widget-view+json": {
       "model_id": "",
       "version_major": 2,
       "version_minor": 0
      },
      "text/plain": [
       "FloatProgress(value=0.0, bar_style='info', description='Progress:', layout=Layout(height='25px', width='50%'),…"
      ]
     },
     "metadata": {},
     "output_type": "display_data"
    }
   ],
   "source": [
    "import re\n",
    "mb_tags = input_rdd.map(lambda x: x[9])\\\n",
    "                .map(lambda x : re.findall(r\"'(.*?)'\", x, re.DOTALL) )\\\n",
    "                .flatMap(lambda x: x).map(lambda x : (x,1))\\\n",
    "                .reduceByKey(lambda x, y: x+y,numPartitions=7)\\\n",
    "                .sortBy(lambda x : x[1], ascending=False,numPartitions=7)"
   ]
  },
  {
   "cell_type": "code",
   "execution_count": 14,
   "id": "2a8b012c",
   "metadata": {},
   "outputs": [
    {
     "data": {
      "application/vnd.jupyter.widget-view+json": {
       "model_id": "4011c3e11a6f42d59e8c906de91ec68f",
       "version_major": 2,
       "version_minor": 0
      },
      "text/plain": [
       "VBox()"
      ]
     },
     "metadata": {},
     "output_type": "display_data"
    },
    {
     "data": {
      "application/vnd.jupyter.widget-view+json": {
       "model_id": "",
       "version_major": 2,
       "version_minor": 0
      },
      "text/plain": [
       "FloatProgress(value=0.0, bar_style='info', description='Progress:', layout=Layout(height='25px', width='50%'),…"
      ]
     },
     "metadata": {},
     "output_type": "display_data"
    }
   ],
   "source": [
    "mb_tags_dataframe = mb_tags.toDF()\n",
    "mb_tags_dataframe.createOrReplaceTempView('mb_tags_view')"
   ]
  },
  {
   "cell_type": "code",
   "execution_count": 15,
   "id": "9c250702",
   "metadata": {},
   "outputs": [
    {
     "data": {
      "application/vnd.jupyter.widget-view+json": {
       "model_id": "",
       "version_major": 2,
       "version_minor": 0
      },
      "text/plain": [
       "FloatProgress(value=0.0, bar_style='info', description='Progress:', layout=Layout(height='25px', width='50%'),…"
      ]
     },
     "metadata": {},
     "output_type": "display_data"
    },
    {
     "data": {
      "application/vnd.jupyter.widget-view+json": {
       "model_id": "9f6d972c4588458684dbc42f2e16c884",
       "version_major": 2,
       "version_minor": 0
      },
      "text/plain": [
       "VBox(children=(HBox(children=(HTML(value='Type:'), Button(description='Table', layout=Layout(width='70px'), st…"
      ]
     },
     "metadata": {},
     "output_type": "display_data"
    },
    {
     "data": {
      "application/vnd.jupyter.widget-view+json": {
       "model_id": "44ea7ab12bae463082362e83e86384d8",
       "version_major": 2,
       "version_minor": 0
      },
      "text/plain": [
       "Output()"
      ]
     },
     "metadata": {},
     "output_type": "display_data"
    }
   ],
   "source": [
    "%%sql -o mb_tags_df\n",
    "SELECT * FROM mb_tags_view order by _2 DESC LIMIT 50"
   ]
  },
  {
   "cell_type": "code",
   "execution_count": 16,
   "id": "ba7bd9b0",
   "metadata": {},
   "outputs": [
    {
     "data": {
      "application/vnd.plotly.v1+json": {
       "config": {
        "plotlyServerURL": "https://plot.ly"
       },
       "data": [
        {
         "hovertemplate": "_1=classic pop and rock<br>x=%{x}<br>y=%{y}<br>size=%{marker.size}<extra></extra>",
         "legendgroup": "classic pop and rock",
         "marker": {
          "color": "rgb(127, 60, 141)",
          "size": [
           0
          ],
          "sizemode": "area",
          "sizeref": 0,
          "symbol": "circle"
         },
         "mode": "markers",
         "name": "classic pop and rock",
         "orientation": "v",
         "showlegend": true,
         "type": "scatter",
         "x": [
          2219.9317108973946
         ],
         "xaxis": "x",
         "y": [
          7708.540871402245
         ],
         "yaxis": "y"
        },
        {
         "hovertemplate": "_1=american<br>x=%{x}<br>y=%{y}<br>size=%{marker.size}<extra></extra>",
         "legendgroup": "american",
         "marker": {
          "color": "rgb(17, 165, 121)",
          "size": [
           0
          ],
          "sizemode": "area",
          "sizeref": 0,
          "symbol": "circle"
         },
         "mode": "markers",
         "name": "american",
         "orientation": "v",
         "showlegend": true,
         "type": "scatter",
         "x": [
          8707.323061773764
         ],
         "xaxis": "x",
         "y": [
          4849.31074988458
         ],
         "yaxis": "y"
        },
        {
         "hovertemplate": "_1=rock<br>x=%{x}<br>y=%{y}<br>size=%{marker.size}<extra></extra>",
         "legendgroup": "rock",
         "marker": {
          "color": "rgb(57, 105, 172)",
          "size": [
           0
          ],
          "sizemode": "area",
          "sizeref": 0,
          "symbol": "circle"
         },
         "mode": "markers",
         "name": "rock",
         "orientation": "v",
         "showlegend": true,
         "type": "scatter",
         "x": [
          2067.1915533942642
         ],
         "xaxis": "x",
         "y": [
          291.1156367271772
         ],
         "yaxis": "y"
        },
        {
         "hovertemplate": "_1=british<br>x=%{x}<br>y=%{y}<br>size=%{marker.size}<extra></extra>",
         "legendgroup": "british",
         "marker": {
          "color": "rgb(242, 183, 1)",
          "size": [
           0
          ],
          "sizemode": "area",
          "sizeref": 0,
          "symbol": "circle"
         },
         "mode": "markers",
         "name": "british",
         "orientation": "v",
         "showlegend": true,
         "type": "scatter",
         "x": [
          9186.109079379215
         ],
         "xaxis": "x",
         "y": [
          865.2568840220509
         ],
         "yaxis": "y"
        },
        {
         "hovertemplate": "_1=uk<br>x=%{x}<br>y=%{y}<br>size=%{marker.size}<extra></extra>",
         "legendgroup": "uk",
         "marker": {
          "color": "rgb(231, 63, 116)",
          "size": [
           0
          ],
          "sizemode": "area",
          "sizeref": 0,
          "symbol": "circle"
         },
         "mode": "markers",
         "name": "uk",
         "orientation": "v",
         "showlegend": true,
         "type": "scatter",
         "x": [
          4884.111887948291
         ],
         "xaxis": "x",
         "y": [
          1114.5381237802333
         ],
         "yaxis": "y"
        },
        {
         "hovertemplate": "_1=rock and indie<br>x=%{x}<br>y=%{y}<br>size=%{marker.size}<extra></extra>",
         "legendgroup": "rock and indie",
         "marker": {
          "color": "rgb(128, 186, 90)",
          "size": [
           0
          ],
          "sizemode": "area",
          "sizeref": 0,
          "symbol": "circle"
         },
         "mode": "markers",
         "name": "rock and indie",
         "orientation": "v",
         "showlegend": true,
         "type": "scatter",
         "x": [
          6117.438629026457
         ],
         "xaxis": "x",
         "y": [
          2512.4511169054763
         ],
         "yaxis": "y"
        },
        {
         "hovertemplate": "_1=english<br>x=%{x}<br>y=%{y}<br>size=%{marker.size}<extra></extra>",
         "legendgroup": "english",
         "marker": {
          "color": "rgb(230, 131, 16)",
          "size": [
           0
          ],
          "sizemode": "area",
          "sizeref": 0,
          "symbol": "circle"
         },
         "mode": "markers",
         "name": "english",
         "orientation": "v",
         "showlegend": true,
         "type": "scatter",
         "x": [
          7659.078564803156
         ],
         "xaxis": "x",
         "y": [
          9649.15292526365
         ],
         "yaxis": "y"
        },
        {
         "hovertemplate": "_1=folk<br>x=%{x}<br>y=%{y}<br>size=%{marker.size}<extra></extra>",
         "legendgroup": "folk",
         "marker": {
          "color": "rgb(0, 134, 149)",
          "size": [
           0
          ],
          "sizemode": "area",
          "sizeref": 0,
          "symbol": "circle"
         },
         "mode": "markers",
         "name": "folk",
         "orientation": "v",
         "showlegend": true,
         "type": "scatter",
         "x": [
          5184.179878729433
         ],
         "xaxis": "x",
         "y": [
          6317.660527377455
         ],
         "yaxis": "y"
        },
        {
         "hovertemplate": "_1=pop<br>x=%{x}<br>y=%{y}<br>size=%{marker.size}<extra></extra>",
         "legendgroup": "pop",
         "marker": {
          "color": "rgb(207, 28, 144)",
          "size": [
           0
          ],
          "sizemode": "area",
          "sizeref": 0,
          "symbol": "circle"
         },
         "mode": "markers",
         "name": "pop",
         "orientation": "v",
         "showlegend": true,
         "type": "scatter",
         "x": [
          2968.0050157622195
         ],
         "xaxis": "x",
         "y": [
          8166.602026153619
         ],
         "yaxis": "y"
        },
        {
         "hovertemplate": "_1=punk<br>x=%{x}<br>y=%{y}<br>size=%{marker.size}<extra></extra>",
         "legendgroup": "punk",
         "marker": {
          "color": "rgb(249, 123, 114)",
          "size": [
           0
          ],
          "sizemode": "area",
          "sizeref": 0,
          "symbol": "circle"
         },
         "mode": "markers",
         "name": "punk",
         "orientation": "v",
         "showlegend": true,
         "type": "scatter",
         "x": [
          1877.2122866125162
         ],
         "xaxis": "x",
         "y": [
          5660.819960927563
         ],
         "yaxis": "y"
        },
        {
         "hovertemplate": "_1=electronic<br>x=%{x}<br>y=%{y}<br>size=%{marker.size}<extra></extra>",
         "legendgroup": "electronic",
         "marker": {
          "color": "rgb(165, 170, 153)",
          "size": [
           0
          ],
          "sizemode": "area",
          "sizeref": 0,
          "symbol": "circle"
         },
         "mode": "markers",
         "name": "electronic",
         "orientation": "v",
         "showlegend": true,
         "type": "scatter",
         "x": [
          807.4126876487486
         ],
         "xaxis": "x",
         "y": [
          6353.562055818931
         ],
         "yaxis": "y"
        },
        {
         "hovertemplate": "_1=usa<br>x=%{x}<br>y=%{y}<br>size=%{marker.size}<extra></extra>",
         "legendgroup": "usa",
         "marker": {
          "color": "rgb(127, 60, 141)",
          "size": [
           0
          ],
          "sizemode": "area",
          "sizeref": 0,
          "symbol": "circle"
         },
         "mode": "markers",
         "name": "usa",
         "orientation": "v",
         "showlegend": true,
         "type": "scatter",
         "x": [
          7384.4029619897
         ],
         "xaxis": "x",
         "y": [
          8119.023911804106
         ],
         "yaxis": "y"
        },
        {
         "hovertemplate": "_1=jazz<br>x=%{x}<br>y=%{y}<br>size=%{marker.size}<extra></extra>",
         "legendgroup": "jazz",
         "marker": {
          "color": "rgb(17, 165, 121)",
          "size": [
           0
          ],
          "sizemode": "area",
          "sizeref": 0,
          "symbol": "circle"
         },
         "mode": "markers",
         "name": "jazz",
         "orientation": "v",
         "showlegend": true,
         "type": "scatter",
         "x": [
          4413.092228959531
         ],
         "xaxis": "x",
         "y": [
          9266.826152438744
         ],
         "yaxis": "y"
        },
        {
         "hovertemplate": "_1=hip hop rnb and dance hall<br>x=%{x}<br>y=%{y}<br>size=%{marker.size}<extra></extra>",
         "legendgroup": "hip hop rnb and dance hall",
         "marker": {
          "color": "rgb(57, 105, 172)",
          "size": [
           0
          ],
          "sizemode": "area",
          "sizeref": 0,
          "symbol": "circle"
         },
         "mode": "markers",
         "name": "hip hop rnb and dance hall",
         "orientation": "v",
         "showlegend": true,
         "type": "scatter",
         "x": [
          1583.098677126512
         ],
         "xaxis": "x",
         "y": [
          9126.267637037832
         ],
         "yaxis": "y"
        },
        {
         "hovertemplate": "_1=alternative rock<br>x=%{x}<br>y=%{y}<br>size=%{marker.size}<extra></extra>",
         "legendgroup": "alternative rock",
         "marker": {
          "color": "rgb(242, 183, 1)",
          "size": [
           0
          ],
          "sizemode": "area",
          "sizeref": 0,
          "symbol": "circle"
         },
         "mode": "markers",
         "name": "alternative rock",
         "orientation": "v",
         "showlegend": true,
         "type": "scatter",
         "x": [
          8799.370312012788
         ],
         "xaxis": "x",
         "y": [
          8248.107204385255
         ],
         "yaxis": "y"
        },
        {
         "hovertemplate": "_1=german<br>x=%{x}<br>y=%{y}<br>size=%{marker.size}<extra></extra>",
         "legendgroup": "german",
         "marker": {
          "color": "rgb(231, 63, 116)",
          "size": [
           0
          ],
          "sizemode": "area",
          "sizeref": 0,
          "symbol": "circle"
         },
         "mode": "markers",
         "name": "german",
         "orientation": "v",
         "showlegend": true,
         "type": "scatter",
         "x": [
          2740.864619922246
         ],
         "xaxis": "x",
         "y": [
          942.0273217732267
         ],
         "yaxis": "y"
        },
        {
         "hovertemplate": "_1=metal<br>x=%{x}<br>y=%{y}<br>size=%{marker.size}<extra></extra>",
         "legendgroup": "metal",
         "marker": {
          "color": "rgb(128, 186, 90)",
          "size": [
           0
          ],
          "sizemode": "area",
          "sizeref": 0,
          "symbol": "circle"
         },
         "mode": "markers",
         "name": "metal",
         "orientation": "v",
         "showlegend": true,
         "type": "scatter",
         "x": [
          4142.350190810514
         ],
         "xaxis": "x",
         "y": [
          3610.484184638091
         ],
         "yaxis": "y"
        },
        {
         "hovertemplate": "_1=pop and chart<br>x=%{x}<br>y=%{y}<br>size=%{marker.size}<extra></extra>",
         "legendgroup": "pop and chart",
         "marker": {
          "color": "rgb(230, 131, 16)",
          "size": [
           0
          ],
          "sizemode": "area",
          "sizeref": 0,
          "symbol": "circle"
         },
         "mode": "markers",
         "name": "pop and chart",
         "orientation": "v",
         "showlegend": true,
         "type": "scatter",
         "x": [
          2960.7993273364796
         ],
         "xaxis": "x",
         "y": [
          355.09031760330265
         ],
         "yaxis": "y"
        },
        {
         "hovertemplate": "_1=dance and electronica<br>x=%{x}<br>y=%{y}<br>size=%{marker.size}<extra></extra>",
         "legendgroup": "dance and electronica",
         "marker": {
          "color": "rgb(0, 134, 149)",
          "size": [
           0
          ],
          "sizemode": "area",
          "sizeref": 0,
          "symbol": "circle"
         },
         "mode": "markers",
         "name": "dance and electronica",
         "orientation": "v",
         "showlegend": true,
         "type": "scatter",
         "x": [
          6287.8790887948335
         ],
         "xaxis": "x",
         "y": [
          5463.583485408069
         ],
         "yaxis": "y"
        },
        {
         "hovertemplate": "_1=european<br>x=%{x}<br>y=%{y}<br>size=%{marker.size}<extra></extra>",
         "legendgroup": "european",
         "marker": {
          "color": "rgb(207, 28, 144)",
          "size": [
           0
          ],
          "sizemode": "area",
          "sizeref": 0,
          "symbol": "circle"
         },
         "mode": "markers",
         "name": "european",
         "orientation": "v",
         "showlegend": true,
         "type": "scatter",
         "x": [
          5798.3781018954505
         ],
         "xaxis": "x",
         "y": [
          7961.427208560042
         ],
         "yaxis": "y"
        },
        {
         "hovertemplate": "_1=country<br>x=%{x}<br>y=%{y}<br>size=%{marker.size}<extra></extra>",
         "legendgroup": "country",
         "marker": {
          "color": "rgb(249, 123, 114)",
          "size": [
           0
          ],
          "sizemode": "area",
          "sizeref": 0,
          "symbol": "circle"
         },
         "mode": "markers",
         "name": "country",
         "orientation": "v",
         "showlegend": true,
         "type": "scatter",
         "x": [
          5999.291966249875
         ],
         "xaxis": "x",
         "y": [
          511.4280310134711
         ],
         "yaxis": "y"
        },
        {
         "hovertemplate": "_1=hard rock<br>x=%{x}<br>y=%{y}<br>size=%{marker.size}<extra></extra>",
         "legendgroup": "hard rock",
         "marker": {
          "color": "rgb(165, 170, 153)",
          "size": [
           0
          ],
          "sizemode": "area",
          "sizeref": 0,
          "symbol": "circle"
         },
         "mode": "markers",
         "name": "hard rock",
         "orientation": "v",
         "showlegend": true,
         "type": "scatter",
         "x": [
          2658.1911753550726
         ],
         "xaxis": "x",
         "y": [
          1886.677357931079
         ],
         "yaxis": "y"
        },
        {
         "hovertemplate": "_1=french<br>x=%{x}<br>y=%{y}<br>size=%{marker.size}<extra></extra>",
         "legendgroup": "french",
         "marker": {
          "color": "rgb(127, 60, 141)",
          "size": [
           0
          ],
          "sizemode": "area",
          "sizeref": 0,
          "symbol": "circle"
         },
         "mode": "markers",
         "name": "french",
         "orientation": "v",
         "showlegend": true,
         "type": "scatter",
         "x": [
          2846.858806413638
         ],
         "xaxis": "x",
         "y": [
          3654.777679121648
         ],
         "yaxis": "y"
        },
        {
         "hovertemplate": "_1=américain<br>x=%{x}<br>y=%{y}<br>size=%{marker.size}<extra></extra>",
         "legendgroup": "américain",
         "marker": {
          "color": "rgb(17, 165, 121)",
          "size": [
           0
          ],
          "sizemode": "area",
          "sizeref": 0,
          "symbol": "circle"
         },
         "mode": "markers",
         "name": "américain",
         "orientation": "v",
         "showlegend": true,
         "type": "scatter",
         "x": [
          2535.8820577378747
         ],
         "xaxis": "x",
         "y": [
          2442.9086695790834
         ],
         "yaxis": "y"
        },
        {
         "hovertemplate": "_1=england<br>x=%{x}<br>y=%{y}<br>size=%{marker.size}<extra></extra>",
         "legendgroup": "england",
         "marker": {
          "color": "rgb(57, 105, 172)",
          "size": [
           0
          ],
          "sizemode": "area",
          "sizeref": 0,
          "symbol": "circle"
         },
         "mode": "markers",
         "name": "england",
         "orientation": "v",
         "showlegend": true,
         "type": "scatter",
         "x": [
          3275.639476887341
         ],
         "xaxis": "x",
         "y": [
          7950.87472921032
         ],
         "yaxis": "y"
        },
        {
         "hovertemplate": "_1=jazz and blues<br>x=%{x}<br>y=%{y}<br>size=%{marker.size}<extra></extra>",
         "legendgroup": "jazz and blues",
         "marker": {
          "color": "rgb(242, 183, 1)",
          "size": [
           0
          ],
          "sizemode": "area",
          "sizeref": 0,
          "symbol": "circle"
         },
         "mode": "markers",
         "name": "jazz and blues",
         "orientation": "v",
         "showlegend": true,
         "type": "scatter",
         "x": [
          1441.6430065342045
         ],
         "xaxis": "x",
         "y": [
          3520.949357663685
         ],
         "yaxis": "y"
        },
        {
         "hovertemplate": "_1=production music<br>x=%{x}<br>y=%{y}<br>size=%{marker.size}<extra></extra>",
         "legendgroup": "production music",
         "marker": {
          "color": "rgb(231, 63, 116)",
          "size": [
           0
          ],
          "sizemode": "area",
          "sizeref": 0,
          "symbol": "circle"
         },
         "mode": "markers",
         "name": "production music",
         "orientation": "v",
         "showlegend": true,
         "type": "scatter",
         "x": [
          1656.128612012676
         ],
         "xaxis": "x",
         "y": [
          6388.7768206036535
         ],
         "yaxis": "y"
        },
        {
         "hovertemplate": "_1=progressive rock<br>x=%{x}<br>y=%{y}<br>size=%{marker.size}<extra></extra>",
         "legendgroup": "progressive rock",
         "marker": {
          "color": "rgb(128, 186, 90)",
          "size": [
           0
          ],
          "sizemode": "area",
          "sizeref": 0,
          "symbol": "circle"
         },
         "mode": "markers",
         "name": "progressive rock",
         "orientation": "v",
         "showlegend": true,
         "type": "scatter",
         "x": [
          9639.305290679418
         ],
         "xaxis": "x",
         "y": [
          4934.150518967597
         ],
         "yaxis": "y"
        },
        {
         "hovertemplate": "_1=blues<br>x=%{x}<br>y=%{y}<br>size=%{marker.size}<extra></extra>",
         "legendgroup": "blues",
         "marker": {
          "color": "rgb(230, 131, 16)",
          "size": [
           0
          ],
          "sizemode": "area",
          "sizeref": 0,
          "symbol": "circle"
         },
         "mode": "markers",
         "name": "blues",
         "orientation": "v",
         "showlegend": true,
         "type": "scatter",
         "x": [
          9602.267152856939
         ],
         "xaxis": "x",
         "y": [
          5834.997437200565
         ],
         "yaxis": "y"
        },
        {
         "hovertemplate": "_1=indie rock<br>x=%{x}<br>y=%{y}<br>size=%{marker.size}<extra></extra>",
         "legendgroup": "indie rock",
         "marker": {
          "color": "rgb(0, 134, 149)",
          "size": [
           0
          ],
          "sizemode": "area",
          "sizeref": 0,
          "symbol": "circle"
         },
         "mode": "markers",
         "name": "indie rock",
         "orientation": "v",
         "showlegend": true,
         "type": "scatter",
         "x": [
          1884.1465559593519
         ],
         "xaxis": "x",
         "y": [
          9392.993519648517
         ],
         "yaxis": "y"
        },
        {
         "hovertemplate": "_1=hip hop<br>x=%{x}<br>y=%{y}<br>size=%{marker.size}<extra></extra>",
         "legendgroup": "hip hop",
         "marker": {
          "color": "rgb(207, 28, 144)",
          "size": [
           0
          ],
          "sizemode": "area",
          "sizeref": 0,
          "symbol": "circle"
         },
         "mode": "markers",
         "name": "hip hop",
         "orientation": "v",
         "showlegend": true,
         "type": "scatter",
         "x": [
          243.06561629486967
         ],
         "xaxis": "x",
         "y": [
          9435.400820158795
         ],
         "yaxis": "y"
        },
        {
         "hovertemplate": "_1=rnb<br>x=%{x}<br>y=%{y}<br>size=%{marker.size}<extra></extra>",
         "legendgroup": "rnb",
         "marker": {
          "color": "rgb(249, 123, 114)",
          "size": [
           0
          ],
          "sizemode": "area",
          "sizeref": 0,
          "symbol": "circle"
         },
         "mode": "markers",
         "name": "rnb",
         "orientation": "v",
         "showlegend": true,
         "type": "scatter",
         "x": [
          2045.5554637995067
         ],
         "xaxis": "x",
         "y": [
          1116.924271835714
         ],
         "yaxis": "y"
        },
        {
         "hovertemplate": "_1=electronica<br>x=%{x}<br>y=%{y}<br>size=%{marker.size}<extra></extra>",
         "legendgroup": "electronica",
         "marker": {
          "color": "rgb(165, 170, 153)",
          "size": [
           0
          ],
          "sizemode": "area",
          "sizeref": 0,
          "symbol": "circle"
         },
         "mode": "markers",
         "name": "electronica",
         "orientation": "v",
         "showlegend": true,
         "type": "scatter",
         "x": [
          6998.436141265575
         ],
         "xaxis": "x",
         "y": [
          8435.549661102237
         ],
         "yaxis": "y"
        },
        {
         "hovertemplate": "_1=finnish<br>x=%{x}<br>y=%{y}<br>size=%{marker.size}<extra></extra>",
         "legendgroup": "finnish",
         "marker": {
          "color": "rgb(127, 60, 141)",
          "size": [
           0
          ],
          "sizemode": "area",
          "sizeref": 0,
          "symbol": "circle"
         },
         "mode": "markers",
         "name": "finnish",
         "orientation": "v",
         "showlegend": true,
         "type": "scatter",
         "x": [
          7795.145855555298
         ],
         "xaxis": "x",
         "y": [
          3460.2815175595238
         ],
         "yaxis": "y"
        },
        {
         "hovertemplate": "_1=hip-hop<br>x=%{x}<br>y=%{y}<br>size=%{marker.size}<extra></extra>",
         "legendgroup": "hip-hop",
         "marker": {
          "color": "rgb(17, 165, 121)",
          "size": [
           0
          ],
          "sizemode": "area",
          "sizeref": 0,
          "symbol": "circle"
         },
         "mode": "markers",
         "name": "hip-hop",
         "orientation": "v",
         "showlegend": true,
         "type": "scatter",
         "x": [
          229.33092439081483
         ],
         "xaxis": "x",
         "y": [
          1008.2727286264515
         ],
         "yaxis": "y"
        },
        {
         "hovertemplate": "_1=classical<br>x=%{x}<br>y=%{y}<br>size=%{marker.size}<extra></extra>",
         "legendgroup": "classical",
         "marker": {
          "color": "rgb(57, 105, 172)",
          "size": [
           0
          ],
          "sizemode": "area",
          "sizeref": 0,
          "symbol": "circle"
         },
         "mode": "markers",
         "name": "classical",
         "orientation": "v",
         "showlegend": true,
         "type": "scatter",
         "x": [
          5776.62858129756
         ],
         "xaxis": "x",
         "y": [
          3834.0906606711524
         ],
         "yaxis": "y"
        },
        {
         "hovertemplate": "_1=britannique<br>x=%{x}<br>y=%{y}<br>size=%{marker.size}<extra></extra>",
         "legendgroup": "britannique",
         "marker": {
          "color": "rgb(242, 183, 1)",
          "size": [
           0
          ],
          "sizemode": "area",
          "sizeref": 0,
          "symbol": "circle"
         },
         "mode": "markers",
         "name": "britannique",
         "orientation": "v",
         "showlegend": true,
         "type": "scatter",
         "x": [
          16.42172716045276
         ],
         "xaxis": "x",
         "y": [
          5103.547973392479
         ],
         "yaxis": "y"
        },
        {
         "hovertemplate": "_1=soul and reggae<br>x=%{x}<br>y=%{y}<br>size=%{marker.size}<extra></extra>",
         "legendgroup": "soul and reggae",
         "marker": {
          "color": "rgb(231, 63, 116)",
          "size": [
           0
          ],
          "sizemode": "area",
          "sizeref": 0,
          "symbol": "circle"
         },
         "mode": "markers",
         "name": "soul and reggae",
         "orientation": "v",
         "showlegend": true,
         "type": "scatter",
         "x": [
          5154.726119053935
         ],
         "xaxis": "x",
         "y": [
          9611.030819651298
         ],
         "yaxis": "y"
        },
        {
         "hovertemplate": "_1=alternative<br>x=%{x}<br>y=%{y}<br>size=%{marker.size}<extra></extra>",
         "legendgroup": "alternative",
         "marker": {
          "color": "rgb(128, 186, 90)",
          "size": [
           0
          ],
          "sizemode": "area",
          "sizeref": 0,
          "symbol": "circle"
         },
         "mode": "markers",
         "name": "alternative",
         "orientation": "v",
         "showlegend": true,
         "type": "scatter",
         "x": [
          6397.951761308571
         ],
         "xaxis": "x",
         "y": [
          3715.1261532800727
         ],
         "yaxis": "y"
        },
        {
         "hovertemplate": "_1=canadian<br>x=%{x}<br>y=%{y}<br>size=%{marker.size}<extra></extra>",
         "legendgroup": "canadian",
         "marker": {
          "color": "rgb(230, 131, 16)",
          "size": [
           0
          ],
          "sizemode": "area",
          "sizeref": 0,
          "symbol": "circle"
         },
         "mode": "markers",
         "name": "canadian",
         "orientation": "v",
         "showlegend": true,
         "type": "scatter",
         "x": [
          9856.244028041889
         ],
         "xaxis": "x",
         "y": [
          123.6941160035765
         ],
         "yaxis": "y"
        },
        {
         "hovertemplate": "_1=soundtrack<br>x=%{x}<br>y=%{y}<br>size=%{marker.size}<extra></extra>",
         "legendgroup": "soundtrack",
         "marker": {
          "color": "rgb(0, 134, 149)",
          "size": [
           0
          ],
          "sizemode": "area",
          "sizeref": 0,
          "symbol": "circle"
         },
         "mode": "markers",
         "name": "soundtrack",
         "orientation": "v",
         "showlegend": true,
         "type": "scatter",
         "x": [
          2590.9759641110572
         ],
         "xaxis": "x",
         "y": [
          8597.068869881916
         ],
         "yaxis": "y"
        },
        {
         "hovertemplate": "_1=heavy metal<br>x=%{x}<br>y=%{y}<br>size=%{marker.size}<extra></extra>",
         "legendgroup": "heavy metal",
         "marker": {
          "color": "rgb(207, 28, 144)",
          "size": [
           0
          ],
          "sizemode": "area",
          "sizeref": 0,
          "symbol": "circle"
         },
         "mode": "markers",
         "name": "heavy metal",
         "orientation": "v",
         "showlegend": true,
         "type": "scatter",
         "x": [
          8024.968852628702
         ],
         "xaxis": "x",
         "y": [
          1111.1074954036526
         ],
         "yaxis": "y"
        },
        {
         "hovertemplate": "_1=new wave<br>x=%{x}<br>y=%{y}<br>size=%{marker.size}<extra></extra>",
         "legendgroup": "new wave",
         "marker": {
          "color": "rgb(249, 123, 114)",
          "size": [
           0
          ],
          "sizemode": "area",
          "sizeref": 0,
          "symbol": "circle"
         },
         "mode": "markers",
         "name": "new wave",
         "orientation": "v",
         "showlegend": true,
         "type": "scatter",
         "x": [
          8704.830870014832
         ],
         "xaxis": "x",
         "y": [
          4783.39043986785
         ],
         "yaxis": "y"
        },
        {
         "hovertemplate": "_1=easy listening soundtracks and musicals<br>x=%{x}<br>y=%{y}<br>size=%{marker.size}<extra></extra>",
         "legendgroup": "easy listening soundtracks and musicals",
         "marker": {
          "color": "rgb(165, 170, 153)",
          "size": [
           0
          ],
          "sizemode": "area",
          "sizeref": 0,
          "symbol": "circle"
         },
         "mode": "markers",
         "name": "easy listening soundtracks and musicals",
         "orientation": "v",
         "showlegend": true,
         "type": "scatter",
         "x": [
          9227.4961394567
         ],
         "xaxis": "x",
         "y": [
          8499.800323861935
         ],
         "yaxis": "y"
        },
        {
         "hovertemplate": "_1=soul<br>x=%{x}<br>y=%{y}<br>size=%{marker.size}<extra></extra>",
         "legendgroup": "soul",
         "marker": {
          "color": "rgb(127, 60, 141)",
          "size": [
           0
          ],
          "sizemode": "area",
          "sizeref": 0,
          "symbol": "circle"
         },
         "mode": "markers",
         "name": "soul",
         "orientation": "v",
         "showlegend": true,
         "type": "scatter",
         "x": [
          22.142125324435824
         ],
         "xaxis": "x",
         "y": [
          5147.379670006791
         ],
         "yaxis": "y"
        },
        {
         "hovertemplate": "_1=world<br>x=%{x}<br>y=%{y}<br>size=%{marker.size}<extra></extra>",
         "legendgroup": "world",
         "marker": {
          "color": "rgb(17, 165, 121)",
          "size": [
           0
          ],
          "sizemode": "area",
          "sizeref": 0,
          "symbol": "circle"
         },
         "mode": "markers",
         "name": "world",
         "orientation": "v",
         "showlegend": true,
         "type": "scatter",
         "x": [
          4694.883717575773
         ],
         "xaxis": "x",
         "y": [
          4466.078279223132
         ],
         "yaxis": "y"
        },
        {
         "hovertemplate": "_1=united states<br>x=%{x}<br>y=%{y}<br>size=%{marker.size}<extra></extra>",
         "legendgroup": "united states",
         "marker": {
          "color": "rgb(57, 105, 172)",
          "size": [
           0
          ],
          "sizemode": "area",
          "sizeref": 0,
          "symbol": "circle"
         },
         "mode": "markers",
         "name": "united states",
         "orientation": "v",
         "showlegend": true,
         "type": "scatter",
         "x": [
          9814.687376060105
         ],
         "xaxis": "x",
         "y": [
          8004.7642075056965
         ],
         "yaxis": "y"
        },
        {
         "hovertemplate": "_1=swedish<br>x=%{x}<br>y=%{y}<br>size=%{marker.size}<extra></extra>",
         "legendgroup": "swedish",
         "marker": {
          "color": "rgb(242, 183, 1)",
          "size": [
           0
          ],
          "sizemode": "area",
          "sizeref": 0,
          "symbol": "circle"
         },
         "mode": "markers",
         "name": "swedish",
         "orientation": "v",
         "showlegend": true,
         "type": "scatter",
         "x": [
          3989.448039028505
         ],
         "xaxis": "x",
         "y": [
          203.91378448150644
         ],
         "yaxis": "y"
        },
        {
         "hovertemplate": "_1=italian<br>x=%{x}<br>y=%{y}<br>size=%{marker.size}<extra></extra>",
         "legendgroup": "italian",
         "marker": {
          "color": "rgb(231, 63, 116)",
          "size": [
           0
          ],
          "sizemode": "area",
          "sizeref": 0,
          "symbol": "circle"
         },
         "mode": "markers",
         "name": "italian",
         "orientation": "v",
         "showlegend": true,
         "type": "scatter",
         "x": [
          8137.324775869181
         ],
         "xaxis": "x",
         "y": [
          5726.186488077992
         ],
         "yaxis": "y"
        },
        {
         "hovertemplate": "_1=scottish<br>x=%{x}<br>y=%{y}<br>size=%{marker.size}<extra></extra>",
         "legendgroup": "scottish",
         "marker": {
          "color": "rgb(128, 186, 90)",
          "size": [
           0
          ],
          "sizemode": "area",
          "sizeref": 0,
          "symbol": "circle"
         },
         "mode": "markers",
         "name": "scottish",
         "orientation": "v",
         "showlegend": true,
         "type": "scatter",
         "x": [
          5464.564979724778
         ],
         "xaxis": "x",
         "y": [
          4113.836157793766
         ],
         "yaxis": "y"
        }
       ],
       "layout": {
        "annotations": [
         {
          "arrowhead": 3,
          "font": {
           "color": "#9467bd",
           "size": 49.3
          },
          "showarrow": false,
          "text": "classic pop and rock",
          "x": 2219.9317108973946,
          "y": 7708.540871402245
         },
         {
          "arrowhead": 3,
          "font": {
           "color": "#9467bd",
           "size": 48.2
          },
          "showarrow": false,
          "text": "american",
          "x": 8707.323061773764,
          "y": 4849.31074988458
         },
         {
          "arrowhead": 3,
          "font": {
           "color": "#9467bd",
           "size": 43.34
          },
          "showarrow": false,
          "text": "rock",
          "x": 2067.1915533942642,
          "y": 291.1156367271772
         },
         {
          "arrowhead": 3,
          "font": {
           "color": "#9467bd",
           "size": 38.3
          },
          "showarrow": false,
          "text": "british",
          "x": 9186.109079379215,
          "y": 865.2568840220509
         },
         {
          "arrowhead": 3,
          "font": {
           "color": "#9467bd",
           "size": 37.04
          },
          "showarrow": false,
          "text": "uk",
          "x": 4884.111887948291,
          "y": 1114.5381237802333
         },
         {
          "arrowhead": 3,
          "font": {
           "color": "#9467bd",
           "size": 35.08
          },
          "showarrow": false,
          "text": "rock and indie",
          "x": 6117.438629026457,
          "y": 2512.4511169054763
         },
         {
          "arrowhead": 3,
          "font": {
           "color": "#9467bd",
           "size": 26.98
          },
          "showarrow": false,
          "text": "english",
          "x": 7659.078564803156,
          "y": 9649.15292526365
         },
         {
          "arrowhead": 3,
          "font": {
           "color": "#9467bd",
           "size": 21
          },
          "showarrow": false,
          "text": "folk",
          "x": 5184.179878729433,
          "y": 6317.660527377455
         },
         {
          "arrowhead": 3,
          "font": {
           "color": "#9467bd",
           "size": 20.2
          },
          "showarrow": false,
          "text": "pop",
          "x": 2968.0050157622195,
          "y": 8166.602026153619
         },
         {
          "arrowhead": 3,
          "font": {
           "color": "#9467bd",
           "size": 16.94
          },
          "showarrow": false,
          "text": "punk",
          "x": 1877.2122866125162,
          "y": 5660.819960927563
         },
         {
          "arrowhead": 3,
          "font": {
           "color": "#9467bd",
           "size": 15.96
          },
          "showarrow": false,
          "text": "electronic",
          "x": 807.4126876487486,
          "y": 6353.562055818931
         },
         {
          "arrowhead": 3,
          "font": {
           "color": "#9467bd",
           "size": 14.28
          },
          "showarrow": false,
          "text": "usa",
          "x": 7384.4029619897,
          "y": 8119.023911804106
         },
         {
          "arrowhead": 3,
          "font": {
           "color": "#9467bd",
           "size": 11.68
          },
          "showarrow": false,
          "text": "jazz",
          "x": 4413.092228959531,
          "y": 9266.826152438744
         },
         {
          "arrowhead": 3,
          "font": {
           "color": "#9467bd",
           "size": 11.6
          },
          "showarrow": false,
          "text": "hip hop rnb and dance hall",
          "x": 1583.098677126512,
          "y": 9126.267637037832
         },
         {
          "arrowhead": 3,
          "font": {
           "color": "#9467bd",
           "size": 11.56
          },
          "showarrow": false,
          "text": "alternative rock",
          "x": 8799.370312012788,
          "y": 8248.107204385255
         },
         {
          "arrowhead": 3,
          "font": {
           "color": "#9467bd",
           "size": 11.52
          },
          "showarrow": false,
          "text": "german",
          "x": 2740.864619922246,
          "y": 942.0273217732267
         },
         {
          "arrowhead": 3,
          "font": {
           "color": "#9467bd",
           "size": 10.38
          },
          "showarrow": false,
          "text": "metal",
          "x": 4142.350190810514,
          "y": 3610.484184638091
         },
         {
          "arrowhead": 3,
          "font": {
           "color": "#9467bd",
           "size": 9.62
          },
          "showarrow": false,
          "text": "pop and chart",
          "x": 2960.7993273364796,
          "y": 355.09031760330265
         },
         {
          "arrowhead": 3,
          "font": {
           "color": "#9467bd",
           "size": 8.84
          },
          "showarrow": false,
          "text": "dance and electronica",
          "x": 6287.8790887948335,
          "y": 5463.583485408069
         },
         {
          "arrowhead": 3,
          "font": {
           "color": "#9467bd",
           "size": 7.54
          },
          "showarrow": false,
          "text": "european",
          "x": 5798.3781018954505,
          "y": 7961.427208560042
         },
         {
          "arrowhead": 3,
          "font": {
           "color": "#9467bd",
           "size": 6.9
          },
          "showarrow": false,
          "text": "country",
          "x": 5999.291966249875,
          "y": 511.4280310134711
         },
         {
          "arrowhead": 3,
          "font": {
           "color": "#9467bd",
           "size": 6.82
          },
          "showarrow": false,
          "text": "hard rock",
          "x": 2658.1911753550726,
          "y": 1886.677357931079
         },
         {
          "arrowhead": 3,
          "font": {
           "color": "#9467bd",
           "size": 6.64
          },
          "showarrow": false,
          "text": "french",
          "x": 2846.858806413638,
          "y": 3654.777679121648
         },
         {
          "arrowhead": 3,
          "font": {
           "color": "#9467bd",
           "size": 6.34
          },
          "showarrow": false,
          "text": "américain",
          "x": 2535.8820577378747,
          "y": 2442.9086695790834
         },
         {
          "arrowhead": 3,
          "font": {
           "color": "#9467bd",
           "size": 6.28
          },
          "showarrow": false,
          "text": "england",
          "x": 3275.639476887341,
          "y": 7950.87472921032
         },
         {
          "arrowhead": 3,
          "font": {
           "color": "#9467bd",
           "size": 5.88
          },
          "showarrow": false,
          "text": "jazz and blues",
          "x": 1441.6430065342045,
          "y": 3520.949357663685
         },
         {
          "arrowhead": 3,
          "font": {
           "color": "#9467bd",
           "size": 5.82
          },
          "showarrow": false,
          "text": "production music",
          "x": 1656.128612012676,
          "y": 6388.7768206036535
         },
         {
          "arrowhead": 3,
          "font": {
           "color": "#9467bd",
           "size": 5.8
          },
          "showarrow": false,
          "text": "progressive rock",
          "x": 9639.305290679418,
          "y": 4934.150518967597
         },
         {
          "arrowhead": 3,
          "font": {
           "color": "#9467bd",
           "size": 5.54
          },
          "showarrow": false,
          "text": "blues",
          "x": 9602.267152856939,
          "y": 5834.997437200565
         },
         {
          "arrowhead": 3,
          "font": {
           "color": "#9467bd",
           "size": 5.22
          },
          "showarrow": false,
          "text": "indie rock",
          "x": 1884.1465559593519,
          "y": 9392.993519648517
         },
         {
          "arrowhead": 3,
          "font": {
           "color": "#9467bd",
           "size": 5.14
          },
          "showarrow": false,
          "text": "hip hop",
          "x": 243.06561629486967,
          "y": 9435.400820158795
         },
         {
          "arrowhead": 3,
          "font": {
           "color": "#9467bd",
           "size": 5.08
          },
          "showarrow": false,
          "text": "rnb",
          "x": 2045.5554637995067,
          "y": 1116.924271835714
         },
         {
          "arrowhead": 3,
          "font": {
           "color": "#9467bd",
           "size": 4.96
          },
          "showarrow": false,
          "text": "electronica",
          "x": 6998.436141265575,
          "y": 8435.549661102237
         },
         {
          "arrowhead": 3,
          "font": {
           "color": "#9467bd",
           "size": 4.92
          },
          "showarrow": false,
          "text": "finnish",
          "x": 7795.145855555298,
          "y": 3460.2815175595238
         },
         {
          "arrowhead": 3,
          "font": {
           "color": "#9467bd",
           "size": 4.92
          },
          "showarrow": false,
          "text": "hip-hop",
          "x": 229.33092439081483,
          "y": 1008.2727286264515
         },
         {
          "arrowhead": 3,
          "font": {
           "color": "#9467bd",
           "size": 4.86
          },
          "showarrow": false,
          "text": "classical",
          "x": 5776.62858129756,
          "y": 3834.0906606711524
         },
         {
          "arrowhead": 3,
          "font": {
           "color": "#9467bd",
           "size": 4.68
          },
          "showarrow": false,
          "text": "britannique",
          "x": 16.42172716045276,
          "y": 5103.547973392479
         },
         {
          "arrowhead": 3,
          "font": {
           "color": "#9467bd",
           "size": 4.58
          },
          "showarrow": false,
          "text": "soul and reggae",
          "x": 5154.726119053935,
          "y": 9611.030819651298
         },
         {
          "arrowhead": 3,
          "font": {
           "color": "#9467bd",
           "size": 4.4
          },
          "showarrow": false,
          "text": "alternative",
          "x": 6397.951761308571,
          "y": 3715.1261532800727
         },
         {
          "arrowhead": 3,
          "font": {
           "color": "#9467bd",
           "size": 4.34
          },
          "showarrow": false,
          "text": "canadian",
          "x": 9856.244028041889,
          "y": 123.6941160035765
         },
         {
          "arrowhead": 3,
          "font": {
           "color": "#9467bd",
           "size": 4
          },
          "showarrow": false,
          "text": "soundtrack",
          "x": 2590.9759641110572,
          "y": 8597.068869881916
         },
         {
          "arrowhead": 3,
          "font": {
           "color": "#9467bd",
           "size": 3.96
          },
          "showarrow": false,
          "text": "heavy metal",
          "x": 8024.968852628702,
          "y": 1111.1074954036526
         },
         {
          "arrowhead": 3,
          "font": {
           "color": "#9467bd",
           "size": 3.86
          },
          "showarrow": false,
          "text": "new wave",
          "x": 8704.830870014832,
          "y": 4783.39043986785
         },
         {
          "arrowhead": 3,
          "font": {
           "color": "#9467bd",
           "size": 3.74
          },
          "showarrow": false,
          "text": "easy listening soundtracks and musicals",
          "x": 9227.4961394567,
          "y": 8499.800323861935
         },
         {
          "arrowhead": 3,
          "font": {
           "color": "#9467bd",
           "size": 3.6
          },
          "showarrow": false,
          "text": "soul",
          "x": 22.142125324435824,
          "y": 5147.379670006791
         },
         {
          "arrowhead": 3,
          "font": {
           "color": "#9467bd",
           "size": 3.6
          },
          "showarrow": false,
          "text": "world",
          "x": 4694.883717575773,
          "y": 4466.078279223132
         },
         {
          "arrowhead": 3,
          "font": {
           "color": "#9467bd",
           "size": 3.58
          },
          "showarrow": false,
          "text": "united states",
          "x": 9814.687376060105,
          "y": 8004.7642075056965
         },
         {
          "arrowhead": 3,
          "font": {
           "color": "#9467bd",
           "size": 3.54
          },
          "showarrow": false,
          "text": "swedish",
          "x": 3989.448039028505,
          "y": 203.91378448150644
         },
         {
          "arrowhead": 3,
          "font": {
           "color": "#9467bd",
           "size": 3.44
          },
          "showarrow": false,
          "text": "italian",
          "x": 8137.324775869181,
          "y": 5726.186488077992
         },
         {
          "arrowhead": 3,
          "font": {
           "color": "#9467bd",
           "size": 3.32
          },
          "showarrow": false,
          "text": "scottish",
          "x": 5464.564979724778,
          "y": 4113.836157793766
         }
        ],
        "autosize": false,
        "height": 800,
        "legend": {
         "itemsizing": "constant",
         "title": {
          "text": "_1"
         },
         "tracegroupgap": 0
        },
        "margin": {
         "b": 30,
         "l": 50,
         "pad": 4,
         "r": 50,
         "t": 40
        },
        "paper_bgcolor": "white",
        "plot_bgcolor": "white",
        "showlegend": false,
        "template": {
         "data": {
          "bar": [
           {
            "error_x": {
             "color": "#2a3f5f"
            },
            "error_y": {
             "color": "#2a3f5f"
            },
            "marker": {
             "line": {
              "color": "#E5ECF6",
              "width": 0.5
             }
            },
            "type": "bar"
           }
          ],
          "barpolar": [
           {
            "marker": {
             "line": {
              "color": "#E5ECF6",
              "width": 0.5
             }
            },
            "type": "barpolar"
           }
          ],
          "carpet": [
           {
            "aaxis": {
             "endlinecolor": "#2a3f5f",
             "gridcolor": "white",
             "linecolor": "white",
             "minorgridcolor": "white",
             "startlinecolor": "#2a3f5f"
            },
            "baxis": {
             "endlinecolor": "#2a3f5f",
             "gridcolor": "white",
             "linecolor": "white",
             "minorgridcolor": "white",
             "startlinecolor": "#2a3f5f"
            },
            "type": "carpet"
           }
          ],
          "choropleth": [
           {
            "colorbar": {
             "outlinewidth": 0,
             "ticks": ""
            },
            "type": "choropleth"
           }
          ],
          "contour": [
           {
            "colorbar": {
             "outlinewidth": 0,
             "ticks": ""
            },
            "colorscale": [
             [
              0,
              "#0d0887"
             ],
             [
              0.1111111111111111,
              "#46039f"
             ],
             [
              0.2222222222222222,
              "#7201a8"
             ],
             [
              0.3333333333333333,
              "#9c179e"
             ],
             [
              0.4444444444444444,
              "#bd3786"
             ],
             [
              0.5555555555555556,
              "#d8576b"
             ],
             [
              0.6666666666666666,
              "#ed7953"
             ],
             [
              0.7777777777777778,
              "#fb9f3a"
             ],
             [
              0.8888888888888888,
              "#fdca26"
             ],
             [
              1,
              "#f0f921"
             ]
            ],
            "type": "contour"
           }
          ],
          "contourcarpet": [
           {
            "colorbar": {
             "outlinewidth": 0,
             "ticks": ""
            },
            "type": "contourcarpet"
           }
          ],
          "heatmap": [
           {
            "colorbar": {
             "outlinewidth": 0,
             "ticks": ""
            },
            "colorscale": [
             [
              0,
              "#0d0887"
             ],
             [
              0.1111111111111111,
              "#46039f"
             ],
             [
              0.2222222222222222,
              "#7201a8"
             ],
             [
              0.3333333333333333,
              "#9c179e"
             ],
             [
              0.4444444444444444,
              "#bd3786"
             ],
             [
              0.5555555555555556,
              "#d8576b"
             ],
             [
              0.6666666666666666,
              "#ed7953"
             ],
             [
              0.7777777777777778,
              "#fb9f3a"
             ],
             [
              0.8888888888888888,
              "#fdca26"
             ],
             [
              1,
              "#f0f921"
             ]
            ],
            "type": "heatmap"
           }
          ],
          "heatmapgl": [
           {
            "colorbar": {
             "outlinewidth": 0,
             "ticks": ""
            },
            "colorscale": [
             [
              0,
              "#0d0887"
             ],
             [
              0.1111111111111111,
              "#46039f"
             ],
             [
              0.2222222222222222,
              "#7201a8"
             ],
             [
              0.3333333333333333,
              "#9c179e"
             ],
             [
              0.4444444444444444,
              "#bd3786"
             ],
             [
              0.5555555555555556,
              "#d8576b"
             ],
             [
              0.6666666666666666,
              "#ed7953"
             ],
             [
              0.7777777777777778,
              "#fb9f3a"
             ],
             [
              0.8888888888888888,
              "#fdca26"
             ],
             [
              1,
              "#f0f921"
             ]
            ],
            "type": "heatmapgl"
           }
          ],
          "histogram": [
           {
            "marker": {
             "colorbar": {
              "outlinewidth": 0,
              "ticks": ""
             }
            },
            "type": "histogram"
           }
          ],
          "histogram2d": [
           {
            "colorbar": {
             "outlinewidth": 0,
             "ticks": ""
            },
            "colorscale": [
             [
              0,
              "#0d0887"
             ],
             [
              0.1111111111111111,
              "#46039f"
             ],
             [
              0.2222222222222222,
              "#7201a8"
             ],
             [
              0.3333333333333333,
              "#9c179e"
             ],
             [
              0.4444444444444444,
              "#bd3786"
             ],
             [
              0.5555555555555556,
              "#d8576b"
             ],
             [
              0.6666666666666666,
              "#ed7953"
             ],
             [
              0.7777777777777778,
              "#fb9f3a"
             ],
             [
              0.8888888888888888,
              "#fdca26"
             ],
             [
              1,
              "#f0f921"
             ]
            ],
            "type": "histogram2d"
           }
          ],
          "histogram2dcontour": [
           {
            "colorbar": {
             "outlinewidth": 0,
             "ticks": ""
            },
            "colorscale": [
             [
              0,
              "#0d0887"
             ],
             [
              0.1111111111111111,
              "#46039f"
             ],
             [
              0.2222222222222222,
              "#7201a8"
             ],
             [
              0.3333333333333333,
              "#9c179e"
             ],
             [
              0.4444444444444444,
              "#bd3786"
             ],
             [
              0.5555555555555556,
              "#d8576b"
             ],
             [
              0.6666666666666666,
              "#ed7953"
             ],
             [
              0.7777777777777778,
              "#fb9f3a"
             ],
             [
              0.8888888888888888,
              "#fdca26"
             ],
             [
              1,
              "#f0f921"
             ]
            ],
            "type": "histogram2dcontour"
           }
          ],
          "mesh3d": [
           {
            "colorbar": {
             "outlinewidth": 0,
             "ticks": ""
            },
            "type": "mesh3d"
           }
          ],
          "parcoords": [
           {
            "line": {
             "colorbar": {
              "outlinewidth": 0,
              "ticks": ""
             }
            },
            "type": "parcoords"
           }
          ],
          "pie": [
           {
            "automargin": true,
            "type": "pie"
           }
          ],
          "scatter": [
           {
            "marker": {
             "colorbar": {
              "outlinewidth": 0,
              "ticks": ""
             }
            },
            "type": "scatter"
           }
          ],
          "scatter3d": [
           {
            "line": {
             "colorbar": {
              "outlinewidth": 0,
              "ticks": ""
             }
            },
            "marker": {
             "colorbar": {
              "outlinewidth": 0,
              "ticks": ""
             }
            },
            "type": "scatter3d"
           }
          ],
          "scattercarpet": [
           {
            "marker": {
             "colorbar": {
              "outlinewidth": 0,
              "ticks": ""
             }
            },
            "type": "scattercarpet"
           }
          ],
          "scattergeo": [
           {
            "marker": {
             "colorbar": {
              "outlinewidth": 0,
              "ticks": ""
             }
            },
            "type": "scattergeo"
           }
          ],
          "scattergl": [
           {
            "marker": {
             "colorbar": {
              "outlinewidth": 0,
              "ticks": ""
             }
            },
            "type": "scattergl"
           }
          ],
          "scattermapbox": [
           {
            "marker": {
             "colorbar": {
              "outlinewidth": 0,
              "ticks": ""
             }
            },
            "type": "scattermapbox"
           }
          ],
          "scatterpolar": [
           {
            "marker": {
             "colorbar": {
              "outlinewidth": 0,
              "ticks": ""
             }
            },
            "type": "scatterpolar"
           }
          ],
          "scatterpolargl": [
           {
            "marker": {
             "colorbar": {
              "outlinewidth": 0,
              "ticks": ""
             }
            },
            "type": "scatterpolargl"
           }
          ],
          "scatterternary": [
           {
            "marker": {
             "colorbar": {
              "outlinewidth": 0,
              "ticks": ""
             }
            },
            "type": "scatterternary"
           }
          ],
          "surface": [
           {
            "colorbar": {
             "outlinewidth": 0,
             "ticks": ""
            },
            "colorscale": [
             [
              0,
              "#0d0887"
             ],
             [
              0.1111111111111111,
              "#46039f"
             ],
             [
              0.2222222222222222,
              "#7201a8"
             ],
             [
              0.3333333333333333,
              "#9c179e"
             ],
             [
              0.4444444444444444,
              "#bd3786"
             ],
             [
              0.5555555555555556,
              "#d8576b"
             ],
             [
              0.6666666666666666,
              "#ed7953"
             ],
             [
              0.7777777777777778,
              "#fb9f3a"
             ],
             [
              0.8888888888888888,
              "#fdca26"
             ],
             [
              1,
              "#f0f921"
             ]
            ],
            "type": "surface"
           }
          ],
          "table": [
           {
            "cells": {
             "fill": {
              "color": "#EBF0F8"
             },
             "line": {
              "color": "white"
             }
            },
            "header": {
             "fill": {
              "color": "#C8D4E3"
             },
             "line": {
              "color": "white"
             }
            },
            "type": "table"
           }
          ]
         },
         "layout": {
          "annotationdefaults": {
           "arrowcolor": "#2a3f5f",
           "arrowhead": 0,
           "arrowwidth": 1
          },
          "autotypenumbers": "strict",
          "coloraxis": {
           "colorbar": {
            "outlinewidth": 0,
            "ticks": ""
           }
          },
          "colorscale": {
           "diverging": [
            [
             0,
             "#8e0152"
            ],
            [
             0.1,
             "#c51b7d"
            ],
            [
             0.2,
             "#de77ae"
            ],
            [
             0.3,
             "#f1b6da"
            ],
            [
             0.4,
             "#fde0ef"
            ],
            [
             0.5,
             "#f7f7f7"
            ],
            [
             0.6,
             "#e6f5d0"
            ],
            [
             0.7,
             "#b8e186"
            ],
            [
             0.8,
             "#7fbc41"
            ],
            [
             0.9,
             "#4d9221"
            ],
            [
             1,
             "#276419"
            ]
           ],
           "sequential": [
            [
             0,
             "#0d0887"
            ],
            [
             0.1111111111111111,
             "#46039f"
            ],
            [
             0.2222222222222222,
             "#7201a8"
            ],
            [
             0.3333333333333333,
             "#9c179e"
            ],
            [
             0.4444444444444444,
             "#bd3786"
            ],
            [
             0.5555555555555556,
             "#d8576b"
            ],
            [
             0.6666666666666666,
             "#ed7953"
            ],
            [
             0.7777777777777778,
             "#fb9f3a"
            ],
            [
             0.8888888888888888,
             "#fdca26"
            ],
            [
             1,
             "#f0f921"
            ]
           ],
           "sequentialminus": [
            [
             0,
             "#0d0887"
            ],
            [
             0.1111111111111111,
             "#46039f"
            ],
            [
             0.2222222222222222,
             "#7201a8"
            ],
            [
             0.3333333333333333,
             "#9c179e"
            ],
            [
             0.4444444444444444,
             "#bd3786"
            ],
            [
             0.5555555555555556,
             "#d8576b"
            ],
            [
             0.6666666666666666,
             "#ed7953"
            ],
            [
             0.7777777777777778,
             "#fb9f3a"
            ],
            [
             0.8888888888888888,
             "#fdca26"
            ],
            [
             1,
             "#f0f921"
            ]
           ]
          },
          "colorway": [
           "#636efa",
           "#EF553B",
           "#00cc96",
           "#ab63fa",
           "#FFA15A",
           "#19d3f3",
           "#FF6692",
           "#B6E880",
           "#FF97FF",
           "#FECB52"
          ],
          "font": {
           "color": "#2a3f5f"
          },
          "geo": {
           "bgcolor": "white",
           "lakecolor": "white",
           "landcolor": "#E5ECF6",
           "showlakes": true,
           "showland": true,
           "subunitcolor": "white"
          },
          "hoverlabel": {
           "align": "left"
          },
          "hovermode": "closest",
          "mapbox": {
           "style": "light"
          },
          "paper_bgcolor": "white",
          "plot_bgcolor": "#E5ECF6",
          "polar": {
           "angularaxis": {
            "gridcolor": "white",
            "linecolor": "white",
            "ticks": ""
           },
           "bgcolor": "#E5ECF6",
           "radialaxis": {
            "gridcolor": "white",
            "linecolor": "white",
            "ticks": ""
           }
          },
          "scene": {
           "xaxis": {
            "backgroundcolor": "#E5ECF6",
            "gridcolor": "white",
            "gridwidth": 2,
            "linecolor": "white",
            "showbackground": true,
            "ticks": "",
            "zerolinecolor": "white"
           },
           "yaxis": {
            "backgroundcolor": "#E5ECF6",
            "gridcolor": "white",
            "gridwidth": 2,
            "linecolor": "white",
            "showbackground": true,
            "ticks": "",
            "zerolinecolor": "white"
           },
           "zaxis": {
            "backgroundcolor": "#E5ECF6",
            "gridcolor": "white",
            "gridwidth": 2,
            "linecolor": "white",
            "showbackground": true,
            "ticks": "",
            "zerolinecolor": "white"
           }
          },
          "shapedefaults": {
           "line": {
            "color": "#2a3f5f"
           }
          },
          "ternary": {
           "aaxis": {
            "gridcolor": "white",
            "linecolor": "white",
            "ticks": ""
           },
           "baxis": {
            "gridcolor": "white",
            "linecolor": "white",
            "ticks": ""
           },
           "bgcolor": "#E5ECF6",
           "caxis": {
            "gridcolor": "white",
            "linecolor": "white",
            "ticks": ""
           }
          },
          "title": {
           "x": 0.05
          },
          "xaxis": {
           "automargin": true,
           "gridcolor": "white",
           "linecolor": "white",
           "ticks": "",
           "title": {
            "standoff": 15
           },
           "zerolinecolor": "white",
           "zerolinewidth": 2
          },
          "yaxis": {
           "automargin": true,
           "gridcolor": "white",
           "linecolor": "white",
           "ticks": "",
           "title": {
            "standoff": 15
           },
           "zerolinecolor": "white",
           "zerolinewidth": 2
          }
         }
        },
        "width": 1000,
        "xaxis": {
         "anchor": "y",
         "domain": [
          0,
          1
         ],
         "title": {
          "text": "x"
         },
         "visible": false
        },
        "yaxis": {
         "anchor": "x",
         "domain": [
          0,
          1
         ],
         "title": {
          "text": "y"
         },
         "visible": false
        }
       }
      },
      "text/html": [
       "<div>                            <div id=\"3b73c057-4ce6-43f2-9cf5-6812aa6c18f7\" class=\"plotly-graph-div\" style=\"height:800px; width:1000px;\"></div>            <script type=\"text/javascript\">                require([\"plotly\"], function(Plotly) {                    window.PLOTLYENV=window.PLOTLYENV || {};                                    if (document.getElementById(\"3b73c057-4ce6-43f2-9cf5-6812aa6c18f7\")) {                    Plotly.newPlot(                        \"3b73c057-4ce6-43f2-9cf5-6812aa6c18f7\",                        [{\"hovertemplate\": \"_1=classic pop and rock<br>x=%{x}<br>y=%{y}<br>size=%{marker.size}<extra></extra>\", \"legendgroup\": \"classic pop and rock\", \"marker\": {\"color\": \"rgb(127, 60, 141)\", \"size\": [0], \"sizemode\": \"area\", \"sizeref\": 0.0, \"symbol\": \"circle\"}, \"mode\": \"markers\", \"name\": \"classic pop and rock\", \"orientation\": \"v\", \"showlegend\": true, \"type\": \"scatter\", \"x\": [2219.9317108973946], \"xaxis\": \"x\", \"y\": [7708.540871402245], \"yaxis\": \"y\"}, {\"hovertemplate\": \"_1=american<br>x=%{x}<br>y=%{y}<br>size=%{marker.size}<extra></extra>\", \"legendgroup\": \"american\", \"marker\": {\"color\": \"rgb(17, 165, 121)\", \"size\": [0], \"sizemode\": \"area\", \"sizeref\": 0.0, \"symbol\": \"circle\"}, \"mode\": \"markers\", \"name\": \"american\", \"orientation\": \"v\", \"showlegend\": true, \"type\": \"scatter\", \"x\": [8707.323061773764], \"xaxis\": \"x\", \"y\": [4849.31074988458], \"yaxis\": \"y\"}, {\"hovertemplate\": \"_1=rock<br>x=%{x}<br>y=%{y}<br>size=%{marker.size}<extra></extra>\", \"legendgroup\": \"rock\", \"marker\": {\"color\": \"rgb(57, 105, 172)\", \"size\": [0], \"sizemode\": \"area\", \"sizeref\": 0.0, \"symbol\": \"circle\"}, \"mode\": \"markers\", \"name\": \"rock\", \"orientation\": \"v\", \"showlegend\": true, \"type\": \"scatter\", \"x\": [2067.1915533942642], \"xaxis\": \"x\", \"y\": [291.1156367271772], \"yaxis\": \"y\"}, {\"hovertemplate\": \"_1=british<br>x=%{x}<br>y=%{y}<br>size=%{marker.size}<extra></extra>\", \"legendgroup\": \"british\", \"marker\": {\"color\": \"rgb(242, 183, 1)\", \"size\": [0], \"sizemode\": \"area\", \"sizeref\": 0.0, \"symbol\": \"circle\"}, \"mode\": \"markers\", \"name\": \"british\", \"orientation\": \"v\", \"showlegend\": true, \"type\": \"scatter\", \"x\": [9186.109079379215], \"xaxis\": \"x\", \"y\": [865.2568840220509], \"yaxis\": \"y\"}, {\"hovertemplate\": \"_1=uk<br>x=%{x}<br>y=%{y}<br>size=%{marker.size}<extra></extra>\", \"legendgroup\": \"uk\", \"marker\": {\"color\": \"rgb(231, 63, 116)\", \"size\": [0], \"sizemode\": \"area\", \"sizeref\": 0.0, \"symbol\": \"circle\"}, \"mode\": \"markers\", \"name\": \"uk\", \"orientation\": \"v\", \"showlegend\": true, \"type\": \"scatter\", \"x\": [4884.111887948291], \"xaxis\": \"x\", \"y\": [1114.5381237802333], \"yaxis\": \"y\"}, {\"hovertemplate\": \"_1=rock and indie<br>x=%{x}<br>y=%{y}<br>size=%{marker.size}<extra></extra>\", \"legendgroup\": \"rock and indie\", \"marker\": {\"color\": \"rgb(128, 186, 90)\", \"size\": [0], \"sizemode\": \"area\", \"sizeref\": 0.0, \"symbol\": \"circle\"}, \"mode\": \"markers\", \"name\": \"rock and indie\", \"orientation\": \"v\", \"showlegend\": true, \"type\": \"scatter\", \"x\": [6117.438629026457], \"xaxis\": \"x\", \"y\": [2512.4511169054763], \"yaxis\": \"y\"}, {\"hovertemplate\": \"_1=english<br>x=%{x}<br>y=%{y}<br>size=%{marker.size}<extra></extra>\", \"legendgroup\": \"english\", \"marker\": {\"color\": \"rgb(230, 131, 16)\", \"size\": [0], \"sizemode\": \"area\", \"sizeref\": 0.0, \"symbol\": \"circle\"}, \"mode\": \"markers\", \"name\": \"english\", \"orientation\": \"v\", \"showlegend\": true, \"type\": \"scatter\", \"x\": [7659.078564803156], \"xaxis\": \"x\", \"y\": [9649.15292526365], \"yaxis\": \"y\"}, {\"hovertemplate\": \"_1=folk<br>x=%{x}<br>y=%{y}<br>size=%{marker.size}<extra></extra>\", \"legendgroup\": \"folk\", \"marker\": {\"color\": \"rgb(0, 134, 149)\", \"size\": [0], \"sizemode\": \"area\", \"sizeref\": 0.0, \"symbol\": \"circle\"}, \"mode\": \"markers\", \"name\": \"folk\", \"orientation\": \"v\", \"showlegend\": true, \"type\": \"scatter\", \"x\": [5184.179878729433], \"xaxis\": \"x\", \"y\": [6317.660527377455], \"yaxis\": \"y\"}, {\"hovertemplate\": \"_1=pop<br>x=%{x}<br>y=%{y}<br>size=%{marker.size}<extra></extra>\", \"legendgroup\": \"pop\", \"marker\": {\"color\": \"rgb(207, 28, 144)\", \"size\": [0], \"sizemode\": \"area\", \"sizeref\": 0.0, \"symbol\": \"circle\"}, \"mode\": \"markers\", \"name\": \"pop\", \"orientation\": \"v\", \"showlegend\": true, \"type\": \"scatter\", \"x\": [2968.0050157622195], \"xaxis\": \"x\", \"y\": [8166.602026153619], \"yaxis\": \"y\"}, {\"hovertemplate\": \"_1=punk<br>x=%{x}<br>y=%{y}<br>size=%{marker.size}<extra></extra>\", \"legendgroup\": \"punk\", \"marker\": {\"color\": \"rgb(249, 123, 114)\", \"size\": [0], \"sizemode\": \"area\", \"sizeref\": 0.0, \"symbol\": \"circle\"}, \"mode\": \"markers\", \"name\": \"punk\", \"orientation\": \"v\", \"showlegend\": true, \"type\": \"scatter\", \"x\": [1877.2122866125162], \"xaxis\": \"x\", \"y\": [5660.819960927563], \"yaxis\": \"y\"}, {\"hovertemplate\": \"_1=electronic<br>x=%{x}<br>y=%{y}<br>size=%{marker.size}<extra></extra>\", \"legendgroup\": \"electronic\", \"marker\": {\"color\": \"rgb(165, 170, 153)\", \"size\": [0], \"sizemode\": \"area\", \"sizeref\": 0.0, \"symbol\": \"circle\"}, \"mode\": \"markers\", \"name\": \"electronic\", \"orientation\": \"v\", \"showlegend\": true, \"type\": \"scatter\", \"x\": [807.4126876487486], \"xaxis\": \"x\", \"y\": [6353.562055818931], \"yaxis\": \"y\"}, {\"hovertemplate\": \"_1=usa<br>x=%{x}<br>y=%{y}<br>size=%{marker.size}<extra></extra>\", \"legendgroup\": \"usa\", \"marker\": {\"color\": \"rgb(127, 60, 141)\", \"size\": [0], \"sizemode\": \"area\", \"sizeref\": 0.0, \"symbol\": \"circle\"}, \"mode\": \"markers\", \"name\": \"usa\", \"orientation\": \"v\", \"showlegend\": true, \"type\": \"scatter\", \"x\": [7384.4029619897], \"xaxis\": \"x\", \"y\": [8119.023911804106], \"yaxis\": \"y\"}, {\"hovertemplate\": \"_1=jazz<br>x=%{x}<br>y=%{y}<br>size=%{marker.size}<extra></extra>\", \"legendgroup\": \"jazz\", \"marker\": {\"color\": \"rgb(17, 165, 121)\", \"size\": [0], \"sizemode\": \"area\", \"sizeref\": 0.0, \"symbol\": \"circle\"}, \"mode\": \"markers\", \"name\": \"jazz\", \"orientation\": \"v\", \"showlegend\": true, \"type\": \"scatter\", \"x\": [4413.092228959531], \"xaxis\": \"x\", \"y\": [9266.826152438744], \"yaxis\": \"y\"}, {\"hovertemplate\": \"_1=hip hop rnb and dance hall<br>x=%{x}<br>y=%{y}<br>size=%{marker.size}<extra></extra>\", \"legendgroup\": \"hip hop rnb and dance hall\", \"marker\": {\"color\": \"rgb(57, 105, 172)\", \"size\": [0], \"sizemode\": \"area\", \"sizeref\": 0.0, \"symbol\": \"circle\"}, \"mode\": \"markers\", \"name\": \"hip hop rnb and dance hall\", \"orientation\": \"v\", \"showlegend\": true, \"type\": \"scatter\", \"x\": [1583.098677126512], \"xaxis\": \"x\", \"y\": [9126.267637037832], \"yaxis\": \"y\"}, {\"hovertemplate\": \"_1=alternative rock<br>x=%{x}<br>y=%{y}<br>size=%{marker.size}<extra></extra>\", \"legendgroup\": \"alternative rock\", \"marker\": {\"color\": \"rgb(242, 183, 1)\", \"size\": [0], \"sizemode\": \"area\", \"sizeref\": 0.0, \"symbol\": \"circle\"}, \"mode\": \"markers\", \"name\": \"alternative rock\", \"orientation\": \"v\", \"showlegend\": true, \"type\": \"scatter\", \"x\": [8799.370312012788], \"xaxis\": \"x\", \"y\": [8248.107204385255], \"yaxis\": \"y\"}, {\"hovertemplate\": \"_1=german<br>x=%{x}<br>y=%{y}<br>size=%{marker.size}<extra></extra>\", \"legendgroup\": \"german\", \"marker\": {\"color\": \"rgb(231, 63, 116)\", \"size\": [0], \"sizemode\": \"area\", \"sizeref\": 0.0, \"symbol\": \"circle\"}, \"mode\": \"markers\", \"name\": \"german\", \"orientation\": \"v\", \"showlegend\": true, \"type\": \"scatter\", \"x\": [2740.864619922246], \"xaxis\": \"x\", \"y\": [942.0273217732267], \"yaxis\": \"y\"}, {\"hovertemplate\": \"_1=metal<br>x=%{x}<br>y=%{y}<br>size=%{marker.size}<extra></extra>\", \"legendgroup\": \"metal\", \"marker\": {\"color\": \"rgb(128, 186, 90)\", \"size\": [0], \"sizemode\": \"area\", \"sizeref\": 0.0, \"symbol\": \"circle\"}, \"mode\": \"markers\", \"name\": \"metal\", \"orientation\": \"v\", \"showlegend\": true, \"type\": \"scatter\", \"x\": [4142.350190810514], \"xaxis\": \"x\", \"y\": [3610.484184638091], \"yaxis\": \"y\"}, {\"hovertemplate\": \"_1=pop and chart<br>x=%{x}<br>y=%{y}<br>size=%{marker.size}<extra></extra>\", \"legendgroup\": \"pop and chart\", \"marker\": {\"color\": \"rgb(230, 131, 16)\", \"size\": [0], \"sizemode\": \"area\", \"sizeref\": 0.0, \"symbol\": \"circle\"}, \"mode\": \"markers\", \"name\": \"pop and chart\", \"orientation\": \"v\", \"showlegend\": true, \"type\": \"scatter\", \"x\": [2960.7993273364796], \"xaxis\": \"x\", \"y\": [355.09031760330265], \"yaxis\": \"y\"}, {\"hovertemplate\": \"_1=dance and electronica<br>x=%{x}<br>y=%{y}<br>size=%{marker.size}<extra></extra>\", \"legendgroup\": \"dance and electronica\", \"marker\": {\"color\": \"rgb(0, 134, 149)\", \"size\": [0], \"sizemode\": \"area\", \"sizeref\": 0.0, \"symbol\": \"circle\"}, \"mode\": \"markers\", \"name\": \"dance and electronica\", \"orientation\": \"v\", \"showlegend\": true, \"type\": \"scatter\", \"x\": [6287.8790887948335], \"xaxis\": \"x\", \"y\": [5463.583485408069], \"yaxis\": \"y\"}, {\"hovertemplate\": \"_1=european<br>x=%{x}<br>y=%{y}<br>size=%{marker.size}<extra></extra>\", \"legendgroup\": \"european\", \"marker\": {\"color\": \"rgb(207, 28, 144)\", \"size\": [0], \"sizemode\": \"area\", \"sizeref\": 0.0, \"symbol\": \"circle\"}, \"mode\": \"markers\", \"name\": \"european\", \"orientation\": \"v\", \"showlegend\": true, \"type\": \"scatter\", \"x\": [5798.3781018954505], \"xaxis\": \"x\", \"y\": [7961.427208560042], \"yaxis\": \"y\"}, {\"hovertemplate\": \"_1=country<br>x=%{x}<br>y=%{y}<br>size=%{marker.size}<extra></extra>\", \"legendgroup\": \"country\", \"marker\": {\"color\": \"rgb(249, 123, 114)\", \"size\": [0], \"sizemode\": \"area\", \"sizeref\": 0.0, \"symbol\": \"circle\"}, \"mode\": \"markers\", \"name\": \"country\", \"orientation\": \"v\", \"showlegend\": true, \"type\": \"scatter\", \"x\": [5999.291966249875], \"xaxis\": \"x\", \"y\": [511.4280310134711], \"yaxis\": \"y\"}, {\"hovertemplate\": \"_1=hard rock<br>x=%{x}<br>y=%{y}<br>size=%{marker.size}<extra></extra>\", \"legendgroup\": \"hard rock\", \"marker\": {\"color\": \"rgb(165, 170, 153)\", \"size\": [0], \"sizemode\": \"area\", \"sizeref\": 0.0, \"symbol\": \"circle\"}, \"mode\": \"markers\", \"name\": \"hard rock\", \"orientation\": \"v\", \"showlegend\": true, \"type\": \"scatter\", \"x\": [2658.1911753550726], \"xaxis\": \"x\", \"y\": [1886.677357931079], \"yaxis\": \"y\"}, {\"hovertemplate\": \"_1=french<br>x=%{x}<br>y=%{y}<br>size=%{marker.size}<extra></extra>\", \"legendgroup\": \"french\", \"marker\": {\"color\": \"rgb(127, 60, 141)\", \"size\": [0], \"sizemode\": \"area\", \"sizeref\": 0.0, \"symbol\": \"circle\"}, \"mode\": \"markers\", \"name\": \"french\", \"orientation\": \"v\", \"showlegend\": true, \"type\": \"scatter\", \"x\": [2846.858806413638], \"xaxis\": \"x\", \"y\": [3654.777679121648], \"yaxis\": \"y\"}, {\"hovertemplate\": \"_1=am\\u00e9ricain<br>x=%{x}<br>y=%{y}<br>size=%{marker.size}<extra></extra>\", \"legendgroup\": \"am\\u00e9ricain\", \"marker\": {\"color\": \"rgb(17, 165, 121)\", \"size\": [0], \"sizemode\": \"area\", \"sizeref\": 0.0, \"symbol\": \"circle\"}, \"mode\": \"markers\", \"name\": \"am\\u00e9ricain\", \"orientation\": \"v\", \"showlegend\": true, \"type\": \"scatter\", \"x\": [2535.8820577378747], \"xaxis\": \"x\", \"y\": [2442.9086695790834], \"yaxis\": \"y\"}, {\"hovertemplate\": \"_1=england<br>x=%{x}<br>y=%{y}<br>size=%{marker.size}<extra></extra>\", \"legendgroup\": \"england\", \"marker\": {\"color\": \"rgb(57, 105, 172)\", \"size\": [0], \"sizemode\": \"area\", \"sizeref\": 0.0, \"symbol\": \"circle\"}, \"mode\": \"markers\", \"name\": \"england\", \"orientation\": \"v\", \"showlegend\": true, \"type\": \"scatter\", \"x\": [3275.639476887341], \"xaxis\": \"x\", \"y\": [7950.87472921032], \"yaxis\": \"y\"}, {\"hovertemplate\": \"_1=jazz and blues<br>x=%{x}<br>y=%{y}<br>size=%{marker.size}<extra></extra>\", \"legendgroup\": \"jazz and blues\", \"marker\": {\"color\": \"rgb(242, 183, 1)\", \"size\": [0], \"sizemode\": \"area\", \"sizeref\": 0.0, \"symbol\": \"circle\"}, \"mode\": \"markers\", \"name\": \"jazz and blues\", \"orientation\": \"v\", \"showlegend\": true, \"type\": \"scatter\", \"x\": [1441.6430065342045], \"xaxis\": \"x\", \"y\": [3520.949357663685], \"yaxis\": \"y\"}, {\"hovertemplate\": \"_1=production music<br>x=%{x}<br>y=%{y}<br>size=%{marker.size}<extra></extra>\", \"legendgroup\": \"production music\", \"marker\": {\"color\": \"rgb(231, 63, 116)\", \"size\": [0], \"sizemode\": \"area\", \"sizeref\": 0.0, \"symbol\": \"circle\"}, \"mode\": \"markers\", \"name\": \"production music\", \"orientation\": \"v\", \"showlegend\": true, \"type\": \"scatter\", \"x\": [1656.128612012676], \"xaxis\": \"x\", \"y\": [6388.7768206036535], \"yaxis\": \"y\"}, {\"hovertemplate\": \"_1=progressive rock<br>x=%{x}<br>y=%{y}<br>size=%{marker.size}<extra></extra>\", \"legendgroup\": \"progressive rock\", \"marker\": {\"color\": \"rgb(128, 186, 90)\", \"size\": [0], \"sizemode\": \"area\", \"sizeref\": 0.0, \"symbol\": \"circle\"}, \"mode\": \"markers\", \"name\": \"progressive rock\", \"orientation\": \"v\", \"showlegend\": true, \"type\": \"scatter\", \"x\": [9639.305290679418], \"xaxis\": \"x\", \"y\": [4934.150518967597], \"yaxis\": \"y\"}, {\"hovertemplate\": \"_1=blues<br>x=%{x}<br>y=%{y}<br>size=%{marker.size}<extra></extra>\", \"legendgroup\": \"blues\", \"marker\": {\"color\": \"rgb(230, 131, 16)\", \"size\": [0], \"sizemode\": \"area\", \"sizeref\": 0.0, \"symbol\": \"circle\"}, \"mode\": \"markers\", \"name\": \"blues\", \"orientation\": \"v\", \"showlegend\": true, \"type\": \"scatter\", \"x\": [9602.267152856939], \"xaxis\": \"x\", \"y\": [5834.997437200565], \"yaxis\": \"y\"}, {\"hovertemplate\": \"_1=indie rock<br>x=%{x}<br>y=%{y}<br>size=%{marker.size}<extra></extra>\", \"legendgroup\": \"indie rock\", \"marker\": {\"color\": \"rgb(0, 134, 149)\", \"size\": [0], \"sizemode\": \"area\", \"sizeref\": 0.0, \"symbol\": \"circle\"}, \"mode\": \"markers\", \"name\": \"indie rock\", \"orientation\": \"v\", \"showlegend\": true, \"type\": \"scatter\", \"x\": [1884.1465559593519], \"xaxis\": \"x\", \"y\": [9392.993519648517], \"yaxis\": \"y\"}, {\"hovertemplate\": \"_1=hip hop<br>x=%{x}<br>y=%{y}<br>size=%{marker.size}<extra></extra>\", \"legendgroup\": \"hip hop\", \"marker\": {\"color\": \"rgb(207, 28, 144)\", \"size\": [0], \"sizemode\": \"area\", \"sizeref\": 0.0, \"symbol\": \"circle\"}, \"mode\": \"markers\", \"name\": \"hip hop\", \"orientation\": \"v\", \"showlegend\": true, \"type\": \"scatter\", \"x\": [243.06561629486967], \"xaxis\": \"x\", \"y\": [9435.400820158795], \"yaxis\": \"y\"}, {\"hovertemplate\": \"_1=rnb<br>x=%{x}<br>y=%{y}<br>size=%{marker.size}<extra></extra>\", \"legendgroup\": \"rnb\", \"marker\": {\"color\": \"rgb(249, 123, 114)\", \"size\": [0], \"sizemode\": \"area\", \"sizeref\": 0.0, \"symbol\": \"circle\"}, \"mode\": \"markers\", \"name\": \"rnb\", \"orientation\": \"v\", \"showlegend\": true, \"type\": \"scatter\", \"x\": [2045.5554637995067], \"xaxis\": \"x\", \"y\": [1116.924271835714], \"yaxis\": \"y\"}, {\"hovertemplate\": \"_1=electronica<br>x=%{x}<br>y=%{y}<br>size=%{marker.size}<extra></extra>\", \"legendgroup\": \"electronica\", \"marker\": {\"color\": \"rgb(165, 170, 153)\", \"size\": [0], \"sizemode\": \"area\", \"sizeref\": 0.0, \"symbol\": \"circle\"}, \"mode\": \"markers\", \"name\": \"electronica\", \"orientation\": \"v\", \"showlegend\": true, \"type\": \"scatter\", \"x\": [6998.436141265575], \"xaxis\": \"x\", \"y\": [8435.549661102237], \"yaxis\": \"y\"}, {\"hovertemplate\": \"_1=finnish<br>x=%{x}<br>y=%{y}<br>size=%{marker.size}<extra></extra>\", \"legendgroup\": \"finnish\", \"marker\": {\"color\": \"rgb(127, 60, 141)\", \"size\": [0], \"sizemode\": \"area\", \"sizeref\": 0.0, \"symbol\": \"circle\"}, \"mode\": \"markers\", \"name\": \"finnish\", \"orientation\": \"v\", \"showlegend\": true, \"type\": \"scatter\", \"x\": [7795.145855555298], \"xaxis\": \"x\", \"y\": [3460.2815175595238], \"yaxis\": \"y\"}, {\"hovertemplate\": \"_1=hip-hop<br>x=%{x}<br>y=%{y}<br>size=%{marker.size}<extra></extra>\", \"legendgroup\": \"hip-hop\", \"marker\": {\"color\": \"rgb(17, 165, 121)\", \"size\": [0], \"sizemode\": \"area\", \"sizeref\": 0.0, \"symbol\": \"circle\"}, \"mode\": \"markers\", \"name\": \"hip-hop\", \"orientation\": \"v\", \"showlegend\": true, \"type\": \"scatter\", \"x\": [229.33092439081483], \"xaxis\": \"x\", \"y\": [1008.2727286264515], \"yaxis\": \"y\"}, {\"hovertemplate\": \"_1=classical<br>x=%{x}<br>y=%{y}<br>size=%{marker.size}<extra></extra>\", \"legendgroup\": \"classical\", \"marker\": {\"color\": \"rgb(57, 105, 172)\", \"size\": [0], \"sizemode\": \"area\", \"sizeref\": 0.0, \"symbol\": \"circle\"}, \"mode\": \"markers\", \"name\": \"classical\", \"orientation\": \"v\", \"showlegend\": true, \"type\": \"scatter\", \"x\": [5776.62858129756], \"xaxis\": \"x\", \"y\": [3834.0906606711524], \"yaxis\": \"y\"}, {\"hovertemplate\": \"_1=britannique<br>x=%{x}<br>y=%{y}<br>size=%{marker.size}<extra></extra>\", \"legendgroup\": \"britannique\", \"marker\": {\"color\": \"rgb(242, 183, 1)\", \"size\": [0], \"sizemode\": \"area\", \"sizeref\": 0.0, \"symbol\": \"circle\"}, \"mode\": \"markers\", \"name\": \"britannique\", \"orientation\": \"v\", \"showlegend\": true, \"type\": \"scatter\", \"x\": [16.42172716045276], \"xaxis\": \"x\", \"y\": [5103.547973392479], \"yaxis\": \"y\"}, {\"hovertemplate\": \"_1=soul and reggae<br>x=%{x}<br>y=%{y}<br>size=%{marker.size}<extra></extra>\", \"legendgroup\": \"soul and reggae\", \"marker\": {\"color\": \"rgb(231, 63, 116)\", \"size\": [0], \"sizemode\": \"area\", \"sizeref\": 0.0, \"symbol\": \"circle\"}, \"mode\": \"markers\", \"name\": \"soul and reggae\", \"orientation\": \"v\", \"showlegend\": true, \"type\": \"scatter\", \"x\": [5154.726119053935], \"xaxis\": \"x\", \"y\": [9611.030819651298], \"yaxis\": \"y\"}, {\"hovertemplate\": \"_1=alternative<br>x=%{x}<br>y=%{y}<br>size=%{marker.size}<extra></extra>\", \"legendgroup\": \"alternative\", \"marker\": {\"color\": \"rgb(128, 186, 90)\", \"size\": [0], \"sizemode\": \"area\", \"sizeref\": 0.0, \"symbol\": \"circle\"}, \"mode\": \"markers\", \"name\": \"alternative\", \"orientation\": \"v\", \"showlegend\": true, \"type\": \"scatter\", \"x\": [6397.951761308571], \"xaxis\": \"x\", \"y\": [3715.1261532800727], \"yaxis\": \"y\"}, {\"hovertemplate\": \"_1=canadian<br>x=%{x}<br>y=%{y}<br>size=%{marker.size}<extra></extra>\", \"legendgroup\": \"canadian\", \"marker\": {\"color\": \"rgb(230, 131, 16)\", \"size\": [0], \"sizemode\": \"area\", \"sizeref\": 0.0, \"symbol\": \"circle\"}, \"mode\": \"markers\", \"name\": \"canadian\", \"orientation\": \"v\", \"showlegend\": true, \"type\": \"scatter\", \"x\": [9856.244028041889], \"xaxis\": \"x\", \"y\": [123.6941160035765], \"yaxis\": \"y\"}, {\"hovertemplate\": \"_1=soundtrack<br>x=%{x}<br>y=%{y}<br>size=%{marker.size}<extra></extra>\", \"legendgroup\": \"soundtrack\", \"marker\": {\"color\": \"rgb(0, 134, 149)\", \"size\": [0], \"sizemode\": \"area\", \"sizeref\": 0.0, \"symbol\": \"circle\"}, \"mode\": \"markers\", \"name\": \"soundtrack\", \"orientation\": \"v\", \"showlegend\": true, \"type\": \"scatter\", \"x\": [2590.9759641110572], \"xaxis\": \"x\", \"y\": [8597.068869881916], \"yaxis\": \"y\"}, {\"hovertemplate\": \"_1=heavy metal<br>x=%{x}<br>y=%{y}<br>size=%{marker.size}<extra></extra>\", \"legendgroup\": \"heavy metal\", \"marker\": {\"color\": \"rgb(207, 28, 144)\", \"size\": [0], \"sizemode\": \"area\", \"sizeref\": 0.0, \"symbol\": \"circle\"}, \"mode\": \"markers\", \"name\": \"heavy metal\", \"orientation\": \"v\", \"showlegend\": true, \"type\": \"scatter\", \"x\": [8024.968852628702], \"xaxis\": \"x\", \"y\": [1111.1074954036526], \"yaxis\": \"y\"}, {\"hovertemplate\": \"_1=new wave<br>x=%{x}<br>y=%{y}<br>size=%{marker.size}<extra></extra>\", \"legendgroup\": \"new wave\", \"marker\": {\"color\": \"rgb(249, 123, 114)\", \"size\": [0], \"sizemode\": \"area\", \"sizeref\": 0.0, \"symbol\": \"circle\"}, \"mode\": \"markers\", \"name\": \"new wave\", \"orientation\": \"v\", \"showlegend\": true, \"type\": \"scatter\", \"x\": [8704.830870014832], \"xaxis\": \"x\", \"y\": [4783.39043986785], \"yaxis\": \"y\"}, {\"hovertemplate\": \"_1=easy listening soundtracks and musicals<br>x=%{x}<br>y=%{y}<br>size=%{marker.size}<extra></extra>\", \"legendgroup\": \"easy listening soundtracks and musicals\", \"marker\": {\"color\": \"rgb(165, 170, 153)\", \"size\": [0], \"sizemode\": \"area\", \"sizeref\": 0.0, \"symbol\": \"circle\"}, \"mode\": \"markers\", \"name\": \"easy listening soundtracks and musicals\", \"orientation\": \"v\", \"showlegend\": true, \"type\": \"scatter\", \"x\": [9227.4961394567], \"xaxis\": \"x\", \"y\": [8499.800323861935], \"yaxis\": \"y\"}, {\"hovertemplate\": \"_1=soul<br>x=%{x}<br>y=%{y}<br>size=%{marker.size}<extra></extra>\", \"legendgroup\": \"soul\", \"marker\": {\"color\": \"rgb(127, 60, 141)\", \"size\": [0], \"sizemode\": \"area\", \"sizeref\": 0.0, \"symbol\": \"circle\"}, \"mode\": \"markers\", \"name\": \"soul\", \"orientation\": \"v\", \"showlegend\": true, \"type\": \"scatter\", \"x\": [22.142125324435824], \"xaxis\": \"x\", \"y\": [5147.379670006791], \"yaxis\": \"y\"}, {\"hovertemplate\": \"_1=world<br>x=%{x}<br>y=%{y}<br>size=%{marker.size}<extra></extra>\", \"legendgroup\": \"world\", \"marker\": {\"color\": \"rgb(17, 165, 121)\", \"size\": [0], \"sizemode\": \"area\", \"sizeref\": 0.0, \"symbol\": \"circle\"}, \"mode\": \"markers\", \"name\": \"world\", \"orientation\": \"v\", \"showlegend\": true, \"type\": \"scatter\", \"x\": [4694.883717575773], \"xaxis\": \"x\", \"y\": [4466.078279223132], \"yaxis\": \"y\"}, {\"hovertemplate\": \"_1=united states<br>x=%{x}<br>y=%{y}<br>size=%{marker.size}<extra></extra>\", \"legendgroup\": \"united states\", \"marker\": {\"color\": \"rgb(57, 105, 172)\", \"size\": [0], \"sizemode\": \"area\", \"sizeref\": 0.0, \"symbol\": \"circle\"}, \"mode\": \"markers\", \"name\": \"united states\", \"orientation\": \"v\", \"showlegend\": true, \"type\": \"scatter\", \"x\": [9814.687376060105], \"xaxis\": \"x\", \"y\": [8004.7642075056965], \"yaxis\": \"y\"}, {\"hovertemplate\": \"_1=swedish<br>x=%{x}<br>y=%{y}<br>size=%{marker.size}<extra></extra>\", \"legendgroup\": \"swedish\", \"marker\": {\"color\": \"rgb(242, 183, 1)\", \"size\": [0], \"sizemode\": \"area\", \"sizeref\": 0.0, \"symbol\": \"circle\"}, \"mode\": \"markers\", \"name\": \"swedish\", \"orientation\": \"v\", \"showlegend\": true, \"type\": \"scatter\", \"x\": [3989.448039028505], \"xaxis\": \"x\", \"y\": [203.91378448150644], \"yaxis\": \"y\"}, {\"hovertemplate\": \"_1=italian<br>x=%{x}<br>y=%{y}<br>size=%{marker.size}<extra></extra>\", \"legendgroup\": \"italian\", \"marker\": {\"color\": \"rgb(231, 63, 116)\", \"size\": [0], \"sizemode\": \"area\", \"sizeref\": 0.0, \"symbol\": \"circle\"}, \"mode\": \"markers\", \"name\": \"italian\", \"orientation\": \"v\", \"showlegend\": true, \"type\": \"scatter\", \"x\": [8137.324775869181], \"xaxis\": \"x\", \"y\": [5726.186488077992], \"yaxis\": \"y\"}, {\"hovertemplate\": \"_1=scottish<br>x=%{x}<br>y=%{y}<br>size=%{marker.size}<extra></extra>\", \"legendgroup\": \"scottish\", \"marker\": {\"color\": \"rgb(128, 186, 90)\", \"size\": [0], \"sizemode\": \"area\", \"sizeref\": 0.0, \"symbol\": \"circle\"}, \"mode\": \"markers\", \"name\": \"scottish\", \"orientation\": \"v\", \"showlegend\": true, \"type\": \"scatter\", \"x\": [5464.564979724778], \"xaxis\": \"x\", \"y\": [4113.836157793766], \"yaxis\": \"y\"}],                        {\"annotations\": [{\"arrowhead\": 3, \"font\": {\"color\": \"#9467bd\", \"size\": 49.3}, \"showarrow\": false, \"text\": \"classic pop and rock\", \"x\": 2219.9317108973946, \"y\": 7708.540871402245}, {\"arrowhead\": 3, \"font\": {\"color\": \"#9467bd\", \"size\": 48.2}, \"showarrow\": false, \"text\": \"american\", \"x\": 8707.323061773764, \"y\": 4849.31074988458}, {\"arrowhead\": 3, \"font\": {\"color\": \"#9467bd\", \"size\": 43.34}, \"showarrow\": false, \"text\": \"rock\", \"x\": 2067.1915533942642, \"y\": 291.1156367271772}, {\"arrowhead\": 3, \"font\": {\"color\": \"#9467bd\", \"size\": 38.3}, \"showarrow\": false, \"text\": \"british\", \"x\": 9186.109079379215, \"y\": 865.2568840220509}, {\"arrowhead\": 3, \"font\": {\"color\": \"#9467bd\", \"size\": 37.04}, \"showarrow\": false, \"text\": \"uk\", \"x\": 4884.111887948291, \"y\": 1114.5381237802333}, {\"arrowhead\": 3, \"font\": {\"color\": \"#9467bd\", \"size\": 35.08}, \"showarrow\": false, \"text\": \"rock and indie\", \"x\": 6117.438629026457, \"y\": 2512.4511169054763}, {\"arrowhead\": 3, \"font\": {\"color\": \"#9467bd\", \"size\": 26.98}, \"showarrow\": false, \"text\": \"english\", \"x\": 7659.078564803156, \"y\": 9649.15292526365}, {\"arrowhead\": 3, \"font\": {\"color\": \"#9467bd\", \"size\": 21.0}, \"showarrow\": false, \"text\": \"folk\", \"x\": 5184.179878729433, \"y\": 6317.660527377455}, {\"arrowhead\": 3, \"font\": {\"color\": \"#9467bd\", \"size\": 20.2}, \"showarrow\": false, \"text\": \"pop\", \"x\": 2968.0050157622195, \"y\": 8166.602026153619}, {\"arrowhead\": 3, \"font\": {\"color\": \"#9467bd\", \"size\": 16.94}, \"showarrow\": false, \"text\": \"punk\", \"x\": 1877.2122866125162, \"y\": 5660.819960927563}, {\"arrowhead\": 3, \"font\": {\"color\": \"#9467bd\", \"size\": 15.96}, \"showarrow\": false, \"text\": \"electronic\", \"x\": 807.4126876487486, \"y\": 6353.562055818931}, {\"arrowhead\": 3, \"font\": {\"color\": \"#9467bd\", \"size\": 14.28}, \"showarrow\": false, \"text\": \"usa\", \"x\": 7384.4029619897, \"y\": 8119.023911804106}, {\"arrowhead\": 3, \"font\": {\"color\": \"#9467bd\", \"size\": 11.68}, \"showarrow\": false, \"text\": \"jazz\", \"x\": 4413.092228959531, \"y\": 9266.826152438744}, {\"arrowhead\": 3, \"font\": {\"color\": \"#9467bd\", \"size\": 11.6}, \"showarrow\": false, \"text\": \"hip hop rnb and dance hall\", \"x\": 1583.098677126512, \"y\": 9126.267637037832}, {\"arrowhead\": 3, \"font\": {\"color\": \"#9467bd\", \"size\": 11.56}, \"showarrow\": false, \"text\": \"alternative rock\", \"x\": 8799.370312012788, \"y\": 8248.107204385255}, {\"arrowhead\": 3, \"font\": {\"color\": \"#9467bd\", \"size\": 11.52}, \"showarrow\": false, \"text\": \"german\", \"x\": 2740.864619922246, \"y\": 942.0273217732267}, {\"arrowhead\": 3, \"font\": {\"color\": \"#9467bd\", \"size\": 10.38}, \"showarrow\": false, \"text\": \"metal\", \"x\": 4142.350190810514, \"y\": 3610.484184638091}, {\"arrowhead\": 3, \"font\": {\"color\": \"#9467bd\", \"size\": 9.62}, \"showarrow\": false, \"text\": \"pop and chart\", \"x\": 2960.7993273364796, \"y\": 355.09031760330265}, {\"arrowhead\": 3, \"font\": {\"color\": \"#9467bd\", \"size\": 8.84}, \"showarrow\": false, \"text\": \"dance and electronica\", \"x\": 6287.8790887948335, \"y\": 5463.583485408069}, {\"arrowhead\": 3, \"font\": {\"color\": \"#9467bd\", \"size\": 7.54}, \"showarrow\": false, \"text\": \"european\", \"x\": 5798.3781018954505, \"y\": 7961.427208560042}, {\"arrowhead\": 3, \"font\": {\"color\": \"#9467bd\", \"size\": 6.9}, \"showarrow\": false, \"text\": \"country\", \"x\": 5999.291966249875, \"y\": 511.4280310134711}, {\"arrowhead\": 3, \"font\": {\"color\": \"#9467bd\", \"size\": 6.82}, \"showarrow\": false, \"text\": \"hard rock\", \"x\": 2658.1911753550726, \"y\": 1886.677357931079}, {\"arrowhead\": 3, \"font\": {\"color\": \"#9467bd\", \"size\": 6.64}, \"showarrow\": false, \"text\": \"french\", \"x\": 2846.858806413638, \"y\": 3654.777679121648}, {\"arrowhead\": 3, \"font\": {\"color\": \"#9467bd\", \"size\": 6.34}, \"showarrow\": false, \"text\": \"am\\u00e9ricain\", \"x\": 2535.8820577378747, \"y\": 2442.9086695790834}, {\"arrowhead\": 3, \"font\": {\"color\": \"#9467bd\", \"size\": 6.28}, \"showarrow\": false, \"text\": \"england\", \"x\": 3275.639476887341, \"y\": 7950.87472921032}, {\"arrowhead\": 3, \"font\": {\"color\": \"#9467bd\", \"size\": 5.88}, \"showarrow\": false, \"text\": \"jazz and blues\", \"x\": 1441.6430065342045, \"y\": 3520.949357663685}, {\"arrowhead\": 3, \"font\": {\"color\": \"#9467bd\", \"size\": 5.82}, \"showarrow\": false, \"text\": \"production music\", \"x\": 1656.128612012676, \"y\": 6388.7768206036535}, {\"arrowhead\": 3, \"font\": {\"color\": \"#9467bd\", \"size\": 5.8}, \"showarrow\": false, \"text\": \"progressive rock\", \"x\": 9639.305290679418, \"y\": 4934.150518967597}, {\"arrowhead\": 3, \"font\": {\"color\": \"#9467bd\", \"size\": 5.54}, \"showarrow\": false, \"text\": \"blues\", \"x\": 9602.267152856939, \"y\": 5834.997437200565}, {\"arrowhead\": 3, \"font\": {\"color\": \"#9467bd\", \"size\": 5.22}, \"showarrow\": false, \"text\": \"indie rock\", \"x\": 1884.1465559593519, \"y\": 9392.993519648517}, {\"arrowhead\": 3, \"font\": {\"color\": \"#9467bd\", \"size\": 5.14}, \"showarrow\": false, \"text\": \"hip hop\", \"x\": 243.06561629486967, \"y\": 9435.400820158795}, {\"arrowhead\": 3, \"font\": {\"color\": \"#9467bd\", \"size\": 5.08}, \"showarrow\": false, \"text\": \"rnb\", \"x\": 2045.5554637995067, \"y\": 1116.924271835714}, {\"arrowhead\": 3, \"font\": {\"color\": \"#9467bd\", \"size\": 4.96}, \"showarrow\": false, \"text\": \"electronica\", \"x\": 6998.436141265575, \"y\": 8435.549661102237}, {\"arrowhead\": 3, \"font\": {\"color\": \"#9467bd\", \"size\": 4.92}, \"showarrow\": false, \"text\": \"finnish\", \"x\": 7795.145855555298, \"y\": 3460.2815175595238}, {\"arrowhead\": 3, \"font\": {\"color\": \"#9467bd\", \"size\": 4.92}, \"showarrow\": false, \"text\": \"hip-hop\", \"x\": 229.33092439081483, \"y\": 1008.2727286264515}, {\"arrowhead\": 3, \"font\": {\"color\": \"#9467bd\", \"size\": 4.86}, \"showarrow\": false, \"text\": \"classical\", \"x\": 5776.62858129756, \"y\": 3834.0906606711524}, {\"arrowhead\": 3, \"font\": {\"color\": \"#9467bd\", \"size\": 4.68}, \"showarrow\": false, \"text\": \"britannique\", \"x\": 16.42172716045276, \"y\": 5103.547973392479}, {\"arrowhead\": 3, \"font\": {\"color\": \"#9467bd\", \"size\": 4.58}, \"showarrow\": false, \"text\": \"soul and reggae\", \"x\": 5154.726119053935, \"y\": 9611.030819651298}, {\"arrowhead\": 3, \"font\": {\"color\": \"#9467bd\", \"size\": 4.4}, \"showarrow\": false, \"text\": \"alternative\", \"x\": 6397.951761308571, \"y\": 3715.1261532800727}, {\"arrowhead\": 3, \"font\": {\"color\": \"#9467bd\", \"size\": 4.34}, \"showarrow\": false, \"text\": \"canadian\", \"x\": 9856.244028041889, \"y\": 123.6941160035765}, {\"arrowhead\": 3, \"font\": {\"color\": \"#9467bd\", \"size\": 4.0}, \"showarrow\": false, \"text\": \"soundtrack\", \"x\": 2590.9759641110572, \"y\": 8597.068869881916}, {\"arrowhead\": 3, \"font\": {\"color\": \"#9467bd\", \"size\": 3.96}, \"showarrow\": false, \"text\": \"heavy metal\", \"x\": 8024.968852628702, \"y\": 1111.1074954036526}, {\"arrowhead\": 3, \"font\": {\"color\": \"#9467bd\", \"size\": 3.86}, \"showarrow\": false, \"text\": \"new wave\", \"x\": 8704.830870014832, \"y\": 4783.39043986785}, {\"arrowhead\": 3, \"font\": {\"color\": \"#9467bd\", \"size\": 3.74}, \"showarrow\": false, \"text\": \"easy listening soundtracks and musicals\", \"x\": 9227.4961394567, \"y\": 8499.800323861935}, {\"arrowhead\": 3, \"font\": {\"color\": \"#9467bd\", \"size\": 3.6}, \"showarrow\": false, \"text\": \"soul\", \"x\": 22.142125324435824, \"y\": 5147.379670006791}, {\"arrowhead\": 3, \"font\": {\"color\": \"#9467bd\", \"size\": 3.6}, \"showarrow\": false, \"text\": \"world\", \"x\": 4694.883717575773, \"y\": 4466.078279223132}, {\"arrowhead\": 3, \"font\": {\"color\": \"#9467bd\", \"size\": 3.58}, \"showarrow\": false, \"text\": \"united states\", \"x\": 9814.687376060105, \"y\": 8004.7642075056965}, {\"arrowhead\": 3, \"font\": {\"color\": \"#9467bd\", \"size\": 3.54}, \"showarrow\": false, \"text\": \"swedish\", \"x\": 3989.448039028505, \"y\": 203.91378448150644}, {\"arrowhead\": 3, \"font\": {\"color\": \"#9467bd\", \"size\": 3.44}, \"showarrow\": false, \"text\": \"italian\", \"x\": 8137.324775869181, \"y\": 5726.186488077992}, {\"arrowhead\": 3, \"font\": {\"color\": \"#9467bd\", \"size\": 3.32}, \"showarrow\": false, \"text\": \"scottish\", \"x\": 5464.564979724778, \"y\": 4113.836157793766}], \"autosize\": false, \"height\": 800, \"legend\": {\"itemsizing\": \"constant\", \"title\": {\"text\": \"_1\"}, \"tracegroupgap\": 0}, \"margin\": {\"b\": 30, \"l\": 50, \"pad\": 4, \"r\": 50, \"t\": 40}, \"paper_bgcolor\": \"white\", \"plot_bgcolor\": \"white\", \"showlegend\": false, \"template\": {\"data\": {\"bar\": [{\"error_x\": {\"color\": \"#2a3f5f\"}, \"error_y\": {\"color\": \"#2a3f5f\"}, \"marker\": {\"line\": {\"color\": \"#E5ECF6\", \"width\": 0.5}}, \"type\": \"bar\"}], \"barpolar\": [{\"marker\": {\"line\": {\"color\": \"#E5ECF6\", \"width\": 0.5}}, \"type\": \"barpolar\"}], \"carpet\": [{\"aaxis\": {\"endlinecolor\": \"#2a3f5f\", \"gridcolor\": \"white\", \"linecolor\": \"white\", \"minorgridcolor\": \"white\", \"startlinecolor\": \"#2a3f5f\"}, \"baxis\": {\"endlinecolor\": \"#2a3f5f\", \"gridcolor\": \"white\", \"linecolor\": \"white\", \"minorgridcolor\": \"white\", \"startlinecolor\": \"#2a3f5f\"}, \"type\": \"carpet\"}], \"choropleth\": [{\"colorbar\": {\"outlinewidth\": 0, \"ticks\": \"\"}, \"type\": \"choropleth\"}], \"contour\": [{\"colorbar\": {\"outlinewidth\": 0, \"ticks\": \"\"}, \"colorscale\": [[0.0, \"#0d0887\"], [0.1111111111111111, \"#46039f\"], [0.2222222222222222, \"#7201a8\"], [0.3333333333333333, \"#9c179e\"], [0.4444444444444444, \"#bd3786\"], [0.5555555555555556, \"#d8576b\"], [0.6666666666666666, \"#ed7953\"], [0.7777777777777778, \"#fb9f3a\"], [0.8888888888888888, \"#fdca26\"], [1.0, \"#f0f921\"]], \"type\": \"contour\"}], \"contourcarpet\": [{\"colorbar\": {\"outlinewidth\": 0, \"ticks\": \"\"}, \"type\": \"contourcarpet\"}], \"heatmap\": [{\"colorbar\": {\"outlinewidth\": 0, \"ticks\": \"\"}, \"colorscale\": [[0.0, \"#0d0887\"], [0.1111111111111111, \"#46039f\"], [0.2222222222222222, \"#7201a8\"], [0.3333333333333333, \"#9c179e\"], [0.4444444444444444, \"#bd3786\"], [0.5555555555555556, \"#d8576b\"], [0.6666666666666666, \"#ed7953\"], [0.7777777777777778, \"#fb9f3a\"], [0.8888888888888888, \"#fdca26\"], [1.0, \"#f0f921\"]], \"type\": \"heatmap\"}], \"heatmapgl\": [{\"colorbar\": {\"outlinewidth\": 0, \"ticks\": \"\"}, \"colorscale\": [[0.0, \"#0d0887\"], [0.1111111111111111, \"#46039f\"], [0.2222222222222222, \"#7201a8\"], [0.3333333333333333, \"#9c179e\"], [0.4444444444444444, \"#bd3786\"], [0.5555555555555556, \"#d8576b\"], [0.6666666666666666, \"#ed7953\"], [0.7777777777777778, \"#fb9f3a\"], [0.8888888888888888, \"#fdca26\"], [1.0, \"#f0f921\"]], \"type\": \"heatmapgl\"}], \"histogram\": [{\"marker\": {\"colorbar\": {\"outlinewidth\": 0, \"ticks\": \"\"}}, \"type\": \"histogram\"}], \"histogram2d\": [{\"colorbar\": {\"outlinewidth\": 0, \"ticks\": \"\"}, \"colorscale\": [[0.0, \"#0d0887\"], [0.1111111111111111, \"#46039f\"], [0.2222222222222222, \"#7201a8\"], [0.3333333333333333, \"#9c179e\"], [0.4444444444444444, \"#bd3786\"], [0.5555555555555556, \"#d8576b\"], [0.6666666666666666, \"#ed7953\"], [0.7777777777777778, \"#fb9f3a\"], [0.8888888888888888, \"#fdca26\"], [1.0, \"#f0f921\"]], \"type\": \"histogram2d\"}], \"histogram2dcontour\": [{\"colorbar\": {\"outlinewidth\": 0, \"ticks\": \"\"}, \"colorscale\": [[0.0, \"#0d0887\"], [0.1111111111111111, \"#46039f\"], [0.2222222222222222, \"#7201a8\"], [0.3333333333333333, \"#9c179e\"], [0.4444444444444444, \"#bd3786\"], [0.5555555555555556, \"#d8576b\"], [0.6666666666666666, \"#ed7953\"], [0.7777777777777778, \"#fb9f3a\"], [0.8888888888888888, \"#fdca26\"], [1.0, \"#f0f921\"]], \"type\": \"histogram2dcontour\"}], \"mesh3d\": [{\"colorbar\": {\"outlinewidth\": 0, \"ticks\": \"\"}, \"type\": \"mesh3d\"}], \"parcoords\": [{\"line\": {\"colorbar\": {\"outlinewidth\": 0, \"ticks\": \"\"}}, \"type\": \"parcoords\"}], \"pie\": [{\"automargin\": true, \"type\": \"pie\"}], \"scatter\": [{\"marker\": {\"colorbar\": {\"outlinewidth\": 0, \"ticks\": \"\"}}, \"type\": \"scatter\"}], \"scatter3d\": [{\"line\": {\"colorbar\": {\"outlinewidth\": 0, \"ticks\": \"\"}}, \"marker\": {\"colorbar\": {\"outlinewidth\": 0, \"ticks\": \"\"}}, \"type\": \"scatter3d\"}], \"scattercarpet\": [{\"marker\": {\"colorbar\": {\"outlinewidth\": 0, \"ticks\": \"\"}}, \"type\": \"scattercarpet\"}], \"scattergeo\": [{\"marker\": {\"colorbar\": {\"outlinewidth\": 0, \"ticks\": \"\"}}, \"type\": \"scattergeo\"}], \"scattergl\": [{\"marker\": {\"colorbar\": {\"outlinewidth\": 0, \"ticks\": \"\"}}, \"type\": \"scattergl\"}], \"scattermapbox\": [{\"marker\": {\"colorbar\": {\"outlinewidth\": 0, \"ticks\": \"\"}}, \"type\": \"scattermapbox\"}], \"scatterpolar\": [{\"marker\": {\"colorbar\": {\"outlinewidth\": 0, \"ticks\": \"\"}}, \"type\": \"scatterpolar\"}], \"scatterpolargl\": [{\"marker\": {\"colorbar\": {\"outlinewidth\": 0, \"ticks\": \"\"}}, \"type\": \"scatterpolargl\"}], \"scatterternary\": [{\"marker\": {\"colorbar\": {\"outlinewidth\": 0, \"ticks\": \"\"}}, \"type\": \"scatterternary\"}], \"surface\": [{\"colorbar\": {\"outlinewidth\": 0, \"ticks\": \"\"}, \"colorscale\": [[0.0, \"#0d0887\"], [0.1111111111111111, \"#46039f\"], [0.2222222222222222, \"#7201a8\"], [0.3333333333333333, \"#9c179e\"], [0.4444444444444444, \"#bd3786\"], [0.5555555555555556, \"#d8576b\"], [0.6666666666666666, \"#ed7953\"], [0.7777777777777778, \"#fb9f3a\"], [0.8888888888888888, \"#fdca26\"], [1.0, \"#f0f921\"]], \"type\": \"surface\"}], \"table\": [{\"cells\": {\"fill\": {\"color\": \"#EBF0F8\"}, \"line\": {\"color\": \"white\"}}, \"header\": {\"fill\": {\"color\": \"#C8D4E3\"}, \"line\": {\"color\": \"white\"}}, \"type\": \"table\"}]}, \"layout\": {\"annotationdefaults\": {\"arrowcolor\": \"#2a3f5f\", \"arrowhead\": 0, \"arrowwidth\": 1}, \"autotypenumbers\": \"strict\", \"coloraxis\": {\"colorbar\": {\"outlinewidth\": 0, \"ticks\": \"\"}}, \"colorscale\": {\"diverging\": [[0, \"#8e0152\"], [0.1, \"#c51b7d\"], [0.2, \"#de77ae\"], [0.3, \"#f1b6da\"], [0.4, \"#fde0ef\"], [0.5, \"#f7f7f7\"], [0.6, \"#e6f5d0\"], [0.7, \"#b8e186\"], [0.8, \"#7fbc41\"], [0.9, \"#4d9221\"], [1, \"#276419\"]], \"sequential\": [[0.0, \"#0d0887\"], [0.1111111111111111, \"#46039f\"], [0.2222222222222222, \"#7201a8\"], [0.3333333333333333, \"#9c179e\"], [0.4444444444444444, \"#bd3786\"], [0.5555555555555556, \"#d8576b\"], [0.6666666666666666, \"#ed7953\"], [0.7777777777777778, \"#fb9f3a\"], [0.8888888888888888, \"#fdca26\"], [1.0, \"#f0f921\"]], \"sequentialminus\": [[0.0, \"#0d0887\"], [0.1111111111111111, \"#46039f\"], [0.2222222222222222, \"#7201a8\"], [0.3333333333333333, \"#9c179e\"], [0.4444444444444444, \"#bd3786\"], [0.5555555555555556, \"#d8576b\"], [0.6666666666666666, \"#ed7953\"], [0.7777777777777778, \"#fb9f3a\"], [0.8888888888888888, \"#fdca26\"], [1.0, \"#f0f921\"]]}, \"colorway\": [\"#636efa\", \"#EF553B\", \"#00cc96\", \"#ab63fa\", \"#FFA15A\", \"#19d3f3\", \"#FF6692\", \"#B6E880\", \"#FF97FF\", \"#FECB52\"], \"font\": {\"color\": \"#2a3f5f\"}, \"geo\": {\"bgcolor\": \"white\", \"lakecolor\": \"white\", \"landcolor\": \"#E5ECF6\", \"showlakes\": true, \"showland\": true, \"subunitcolor\": \"white\"}, \"hoverlabel\": {\"align\": \"left\"}, \"hovermode\": \"closest\", \"mapbox\": {\"style\": \"light\"}, \"paper_bgcolor\": \"white\", \"plot_bgcolor\": \"#E5ECF6\", \"polar\": {\"angularaxis\": {\"gridcolor\": \"white\", \"linecolor\": \"white\", \"ticks\": \"\"}, \"bgcolor\": \"#E5ECF6\", \"radialaxis\": {\"gridcolor\": \"white\", \"linecolor\": \"white\", \"ticks\": \"\"}}, \"scene\": {\"xaxis\": {\"backgroundcolor\": \"#E5ECF6\", \"gridcolor\": \"white\", \"gridwidth\": 2, \"linecolor\": \"white\", \"showbackground\": true, \"ticks\": \"\", \"zerolinecolor\": \"white\"}, \"yaxis\": {\"backgroundcolor\": \"#E5ECF6\", \"gridcolor\": \"white\", \"gridwidth\": 2, \"linecolor\": \"white\", \"showbackground\": true, \"ticks\": \"\", \"zerolinecolor\": \"white\"}, \"zaxis\": {\"backgroundcolor\": \"#E5ECF6\", \"gridcolor\": \"white\", \"gridwidth\": 2, \"linecolor\": \"white\", \"showbackground\": true, \"ticks\": \"\", \"zerolinecolor\": \"white\"}}, \"shapedefaults\": {\"line\": {\"color\": \"#2a3f5f\"}}, \"ternary\": {\"aaxis\": {\"gridcolor\": \"white\", \"linecolor\": \"white\", \"ticks\": \"\"}, \"baxis\": {\"gridcolor\": \"white\", \"linecolor\": \"white\", \"ticks\": \"\"}, \"bgcolor\": \"#E5ECF6\", \"caxis\": {\"gridcolor\": \"white\", \"linecolor\": \"white\", \"ticks\": \"\"}}, \"title\": {\"x\": 0.05}, \"xaxis\": {\"automargin\": true, \"gridcolor\": \"white\", \"linecolor\": \"white\", \"ticks\": \"\", \"title\": {\"standoff\": 15}, \"zerolinecolor\": \"white\", \"zerolinewidth\": 2}, \"yaxis\": {\"automargin\": true, \"gridcolor\": \"white\", \"linecolor\": \"white\", \"ticks\": \"\", \"title\": {\"standoff\": 15}, \"zerolinecolor\": \"white\", \"zerolinewidth\": 2}}}, \"width\": 1000, \"xaxis\": {\"anchor\": \"y\", \"domain\": [0.0, 1.0], \"title\": {\"text\": \"x\"}, \"visible\": false}, \"yaxis\": {\"anchor\": \"x\", \"domain\": [0.0, 1.0], \"title\": {\"text\": \"y\"}, \"visible\": false}},                        {\"responsive\": true}                    ).then(function(){\n",
       "                            \n",
       "var gd = document.getElementById('3b73c057-4ce6-43f2-9cf5-6812aa6c18f7');\n",
       "var x = new MutationObserver(function (mutations, observer) {{\n",
       "        var display = window.getComputedStyle(gd).display;\n",
       "        if (!display || display === 'none') {{\n",
       "            console.log([gd, 'removed!']);\n",
       "            Plotly.purge(gd);\n",
       "            observer.disconnect();\n",
       "        }}\n",
       "}});\n",
       "\n",
       "// Listen for the removal of the full notebook cells\n",
       "var notebookContainer = gd.closest('#notebook-container');\n",
       "if (notebookContainer) {{\n",
       "    x.observe(notebookContainer, {childList: true});\n",
       "}}\n",
       "\n",
       "// Listen for the clearing of the current output cell\n",
       "var outputEl = gd.closest('.output');\n",
       "if (outputEl) {{\n",
       "    x.observe(outputEl, {childList: true});\n",
       "}}\n",
       "\n",
       "                        })                };                });            </script>        </div>"
      ]
     },
     "metadata": {},
     "output_type": "display_data"
    }
   ],
   "source": [
    "%%local\n",
    "import numpy as np\n",
    "np.random.seed(5)\n",
    "x = 10000*np.random.uniform(size = 50)\n",
    "y = 10000*np.random.uniform(size = 50)\n",
    "fig = px.scatter(mb_tags_df, x=x, \n",
    "                 y=y,\n",
    "                 size =  [0]*len(mb_tags_df),\n",
    "                 color = '_1',\n",
    "                 #text = 'tags',\n",
    "                 \n",
    "\n",
    "                 color_discrete_sequence=px.colors.qualitative.Bold,\n",
    "                  log_x=False, size_max=30)\n",
    "\n",
    "\n",
    "for i in range(len(mb_tags_df)):\n",
    "    annotation = { \n",
    "        # x -> location for x\n",
    "        'x': x[i],\n",
    "        # y -> location for y\n",
    "        'y': y[i],\n",
    "        'text': mb_tags_df['_1'][i],  # text\n",
    "        'showarrow': False,  # would you want to see arrow\n",
    "        'arrowhead': 3,  # which type for arrowhead\n",
    "        'font': {'size': mb_tags_df['_2'][i]/50, 'color':'#9467bd'}  # font style\n",
    "    }\n",
    "\n",
    "    fig.add_annotation(annotation)\n",
    "    \n",
    "\n",
    "fig.update_layout(\n",
    "    autosize=False,\n",
    "    width=1000,\n",
    "    height=800,\n",
    "    margin=dict(\n",
    "        l=50,\n",
    "        r=50,\n",
    "        b=30,\n",
    "        t=40,\n",
    "        pad=4\n",
    "        \n",
    "    ),\n",
    "    plot_bgcolor = \"white\",\n",
    "    paper_bgcolor=\"white\"\n",
    ")\n",
    "\n",
    "\n",
    "fig.update_layout(showlegend=False)\n",
    "\n",
    "fig.update_xaxes(visible=False)\n",
    "  \n",
    "fig.update_yaxes(visible=False)"
   ]
  },
  {
   "cell_type": "code",
   "execution_count": 17,
   "id": "2d53bba0",
   "metadata": {},
   "outputs": [],
   "source": [
    "%%local\n",
    "stop = time.time()"
   ]
  },
  {
   "cell_type": "code",
   "execution_count": 18,
   "id": "d92ab89f",
   "metadata": {},
   "outputs": [
    {
     "name": "stdout",
     "output_type": "stream",
     "text": [
      "time taken: 64.70321083068848\n"
     ]
    }
   ],
   "source": [
    "%%local\n",
    "print(f\"time taken: {stop-start}\")"
   ]
  },
  {
   "cell_type": "code",
   "execution_count": 19,
   "id": "271bb312",
   "metadata": {},
   "outputs": [
    {
     "data": {
      "application/vnd.jupyter.widget-view+json": {
       "model_id": "39f929d53eda421cae0a2a0084f43496",
       "version_major": 2,
       "version_minor": 0
      },
      "text/plain": [
       "VBox()"
      ]
     },
     "metadata": {},
     "output_type": "display_data"
    },
    {
     "data": {
      "application/vnd.jupyter.widget-view+json": {
       "model_id": "",
       "version_major": 2,
       "version_minor": 0
      },
      "text/plain": [
       "FloatProgress(value=0.0, bar_style='info', description='Progress:', layout=Layout(height='25px', width='50%'),…"
      ]
     },
     "metadata": {},
     "output_type": "display_data"
    }
   ],
   "source": [
    "sc.stop()"
   ]
  }
 ],
 "metadata": {
  "kernelspec": {
   "display_name": "PySpark",
   "language": "",
   "name": "pysparkkernel"
  },
  "language_info": {
   "codemirror_mode": {
    "name": "python",
    "version": 3
   },
   "mimetype": "text/x-python",
   "name": "pyspark",
   "pygments_lexer": "python3"
  }
 },
 "nbformat": 4,
 "nbformat_minor": 5
}
